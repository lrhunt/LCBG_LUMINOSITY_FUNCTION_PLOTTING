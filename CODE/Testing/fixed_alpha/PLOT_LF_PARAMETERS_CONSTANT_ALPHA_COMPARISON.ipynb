{
 "cells": [
  {
   "cell_type": "code",
   "execution_count": 1,
   "metadata": {},
   "outputs": [],
   "source": [
    "import numpy as np\n",
    "import astropy as ap\n",
    "import matplotlib.pyplot as plt\n",
    "import matplotlib.gridspec as gridspec\n",
    "import math as m\n",
    "import argparse\n",
    "from astropy.modeling.fitting import LevMarLSQFitter\n",
    "from astropy.modeling.models import custom_model\n",
    "from matplotlib.backends.backend_pdf import PdfPages\n",
    "import scipy as sp\n",
    "import uncertainties as unc\n",
    "import uncertainties\n",
    "from uncertainties import unumpy as unp\n",
    "import kcorrect\n",
    "import kcorrect.utils as ut\n",
    "from astropy.cosmology import FlatLambdaCDM\n",
    "import pandas as pd\n",
    "import matplotlib as mp\n",
    "import os"
   ]
  },
  {
   "cell_type": "code",
   "execution_count": 2,
   "metadata": {},
   "outputs": [],
   "source": [
    "cosmo=FlatLambdaCDM(H0=70.0,Om0=0.3)\n",
    "fit=LevMarLSQFitter()\n",
    "GAL_ALPHA=-1.05\n",
    "LCBG_ALPHA=-1.0"
   ]
  },
  {
   "cell_type": "code",
   "execution_count": 3,
   "metadata": {},
   "outputs": [],
   "source": [
    "def autolabel(rects,thecolor,row,col,standard_height=0):\n",
    "    for rect in rects:\n",
    "        if rect.xy[0]<-16:\n",
    "            height=rect.get_height()\n",
    "            if not standard_height:\n",
    "                if not m.isinf(height):\n",
    "                    axes[row][col].text(rect.get_x() + rect.get_width()/2.,height+0.05,'{}'.format(int(np.round(np.power(10,height)))),ha='center',va='bottom',fontsize=7,color=thecolor)\n",
    "            else:\n",
    "                if not m.isinf(height):\n",
    "                    axes[row][col].text(rect.get_x() + rect.get_width()/2.,standard_height,'{}'.format(int(np.round(np.power(10,height)))),ha='center',va='bottom',fontsize=7,color=thecolor)"
   ]
  },
  {
   "cell_type": "code",
   "execution_count": 4,
   "metadata": {},
   "outputs": [],
   "source": [
    "@custom_model\n",
    "def schechter_func_gal(x,phistar=0.0056,mstar=-21):\n",
    "    return (0.4*np.log(10)*phistar)*(10**(0.4*(GAL_ALPHA+1)*(mstar-x)))*(np.e**(-np.power(10,0.4*(mstar-x))))"
   ]
  },
  {
   "cell_type": "code",
   "execution_count": 5,
   "metadata": {},
   "outputs": [],
   "source": [
    "@custom_model\n",
    "def schechter_func_lcbg(x,phistar=0.0056,mstar=-21):\n",
    "    return (0.4*np.log(10)*phistar)*(10**(0.4*(LCBG_ALPHA+1)*(mstar-x)))*(np.e**(-np.power(10,0.4*(mstar-x))))"
   ]
  },
  {
   "cell_type": "code",
   "execution_count": 6,
   "metadata": {},
   "outputs": [],
   "source": [
    "def schechter_func_scipy_gal(x,phistar,mstar):\n",
    "    return (0.4*np.log(10)*phistar)*(10**(0.4*(GAL_ALPHA+1)*(mstar-x)))*(np.e**(-np.power(10,0.4*(mstar-x))))"
   ]
  },
  {
   "cell_type": "code",
   "execution_count": 7,
   "metadata": {},
   "outputs": [],
   "source": [
    "def schechter_func_scipy_lcbg(x,phistar,mstar):\n",
    "    return (0.4*np.log(10)*phistar)*(10**(0.4*(LCBG_ALPHA+1)*(mstar-x)))*(np.e**(-np.power(10,0.4*(mstar-x))))"
   ]
  },
  {
   "cell_type": "code",
   "execution_count": 8,
   "metadata": {},
   "outputs": [],
   "source": [
    "def ap_fitting_gal(DATAFRAME,MASK=None):\n",
    "    if MASK is None:\n",
    "        MASK=[]\n",
    "    #******CREATE MASK ARRAY******\n",
    "    NUMBDENS=np.ma.array(np.array(DATAFRAME['Number_Density']),mask=False)\n",
    "    MBINAVE=np.ma.array(np.array(DATAFRAME['Average_Absolute_Magnitude']),mask=False)\n",
    "    NUMBDENSERR=np.ma.array(np.array(DATAFRAME['Number_Density_Error']),mask=False)\n",
    "    #******MASK ZEROS******\n",
    "    NUMBDENS.mask[DATAFRAME.loc[DATAFRAME.Number_Density==0].index]=True\n",
    "    MBINAVE.mask[DATAFRAME.loc[DATAFRAME.Number_Density==0].index]=True\n",
    "    NUMBDENSERR.mask[DATAFRAME.loc[DATAFRAME.Number_Density==0].index]=True\n",
    "     #******MASK POINTS I DON'T LIKE******\n",
    "    NUMBDENS.mask[MASK]=True\n",
    "    MBINAVE.mask[MASK]=True\n",
    "    NUMBDENSERR.mask[MASK]=True\n",
    "    print(NUMBDENS.compressed())\n",
    "    #******MODELLING******\n",
    "    LFFIT_INIT=schechter_func_gal()\n",
    "    LFFIT=fit(LFFIT_INIT,MBINAVE.compressed(),NUMBDENS.compressed(),weights=1/NUMBDENSERR.compressed())\n",
    "    return LFFIT,NUMBDENS.mask"
   ]
  },
  {
   "cell_type": "code",
   "execution_count": 9,
   "metadata": {},
   "outputs": [],
   "source": [
    "def ap_fitting_lcbg(DATAFRAME,MASK=None):\n",
    "    if MASK is None:\n",
    "        MASK=[]\n",
    "    #******CREATE MASK ARRAY******\n",
    "    NUMBDENS=np.ma.array(np.array(DATAFRAME['Number_Density']),mask=False)\n",
    "    MBINAVE=np.ma.array(np.array(DATAFRAME['Average_Absolute_Magnitude']),mask=False)\n",
    "    NUMBDENSERR=np.ma.array(np.array(DATAFRAME['Number_Density_Error']),mask=False)\n",
    "    #******MASK ZEROS******\n",
    "    NUMBDENS.mask[DATAFRAME.loc[DATAFRAME.Number_Density==0].index]=True\n",
    "    MBINAVE.mask[DATAFRAME.loc[DATAFRAME.Number_Density==0].index]=True\n",
    "    NUMBDENSERR.mask[DATAFRAME.loc[DATAFRAME.Number_Density==0].index]=True\n",
    "     #******MASK POINTS I DON'T LIKE******\n",
    "    NUMBDENS.mask[MASK]=True\n",
    "    MBINAVE.mask[MASK]=True\n",
    "    NUMBDENSERR.mask[MASK]=True\n",
    "    print(NUMBDENS.compressed())\n",
    "    #******MODELLING******\n",
    "    LFFIT_INIT=schechter_func_lcbg()\n",
    "    LFFIT=fit(LFFIT_INIT,MBINAVE.compressed(),NUMBDENS.compressed(),weights=1/NUMBDENSERR.compressed())\n",
    "    return LFFIT,NUMBDENS.mask"
   ]
  },
  {
   "cell_type": "code",
   "execution_count": 10,
   "metadata": {},
   "outputs": [],
   "source": [
    "def sp_fitting_gal(DATAFRAME,MASK=None,INITARRAY=None):\n",
    "    if MASK is None:\n",
    "        MASK=[]\n",
    "    if INITARRAY==None:\n",
    "        INITARRAY=[0.0056,-21]\n",
    "    #******CREATE MASK ARRAY******\n",
    "    NUMBDENS=np.ma.array(np.array(DATAFRAME['Number_Density']),mask=False)\n",
    "    MBINAVE=np.ma.array(np.array(DATAFRAME['Average_Absolute_Magnitude']),mask=False)\n",
    "    NUMBDENSERR=np.ma.array(np.array(DATAFRAME['Number_Density_Error']),mask=False)\n",
    "    #******MASK ZEROS******\n",
    "    NUMBDENS.mask[DATAFRAME.loc[DATAFRAME.Number_Density==0].index]=True\n",
    "    MBINAVE.mask[DATAFRAME.loc[DATAFRAME.Number_Density==0].index]=True\n",
    "    NUMBDENSERR.mask[DATAFRAME.loc[DATAFRAME.Number_Density==0].index]=True\n",
    "     #******MASK POINTS I DON'T LIKE******\n",
    "    NUMBDENS.mask[MASK]=True\n",
    "    MBINAVE.mask[MASK]=True\n",
    "    NUMBDENSERR.mask[MASK]=True\n",
    "    #******MODELLING******\n",
    "    LFFIT,LFCOV=sp.optimize.curve_fit(schechter_func_scipy_gal,MBINAVE.compressed(),NUMBDENS.compressed(),p0=INITARRAY,sigma=NUMBDENSERR.compressed())\n",
    "    return LFFIT,LFCOV"
   ]
  },
  {
   "cell_type": "code",
   "execution_count": 11,
   "metadata": {},
   "outputs": [],
   "source": [
    "def sp_fitting_lcbg(DATAFRAME,MASK=None,INITARRAY=None):\n",
    "    if MASK is None:\n",
    "        MASK=[]\n",
    "    if INITARRAY==None:\n",
    "        INITARRAY=[0.0056,-21]\n",
    "    #******CREATE MASK ARRAY******\n",
    "    NUMBDENS=np.ma.array(np.array(DATAFRAME['Number_Density']),mask=False)\n",
    "    MBINAVE=np.ma.array(np.array(DATAFRAME['Average_Absolute_Magnitude']),mask=False)\n",
    "    NUMBDENSERR=np.ma.array(np.array(DATAFRAME['Number_Density_Error']),mask=False)\n",
    "    #******MASK ZEROS******\n",
    "    NUMBDENS.mask[DATAFRAME.loc[DATAFRAME.Number_Density==0].index]=True\n",
    "    MBINAVE.mask[DATAFRAME.loc[DATAFRAME.Number_Density==0].index]=True\n",
    "    NUMBDENSERR.mask[DATAFRAME.loc[DATAFRAME.Number_Density==0].index]=True\n",
    "     #******MASK POINTS I DON'T LIKE******\n",
    "    NUMBDENS.mask[MASK]=True\n",
    "    MBINAVE.mask[MASK]=True\n",
    "    NUMBDENSERR.mask[MASK]=True\n",
    "    #******MODELLING******\n",
    "    LFFIT,LFCOV=sp.optimize.curve_fit(schechter_func_scipy_lcbg,MBINAVE.compressed(),NUMBDENS.compressed(),p0=INITARRAY,sigma=NUMBDENSERR.compressed())\n",
    "    return LFFIT,LFCOV"
   ]
  },
  {
   "cell_type": "code",
   "execution_count": 16,
   "metadata": {},
   "outputs": [
    {
     "name": "stdout",
     "output_type": "stream",
     "text": [
      "LF_10_35_LCBG.csv\n",
      "LF_35_55_LCBG.csv\n",
      "LF_55_75_LCBG.csv\n",
      "LF_75_100_LCBG.csv\n",
      "zLF_30_80.csv\n"
     ]
    }
   ],
   "source": [
    "LCBG_DIR='/home/lrhunt/Projects/LCBG_LUMINOSITY_FUNCTION/LCBGLFOUT/apmag225/zucca_z_bins/'\n",
    "LCBG_LFS={}\n",
    "LCBG_LFS_INDEX=[]\n",
    "for file in os.listdir(LCBG_DIR):\n",
    "    if file.endswith('csv'):\n",
    "        print(file)\n",
    "        LCBG_LFS[file.split('.csv')[0]]=pd.read_csv(LCBG_DIR+'/'+file)\n",
    "        LCBG_LFS_INDEX.append(file.split('.csv')[0])"
   ]
  },
  {
   "cell_type": "code",
   "execution_count": 17,
   "metadata": {},
   "outputs": [
    {
     "name": "stdout",
     "output_type": "stream",
     "text": [
      "LF_1_20_LCBG.csv\n",
      "LF_20_40_LCBG.csv\n",
      "LF_40_60_LCBG.csv\n",
      "LF_60_80_LCBG.csv\n",
      "LF_80_100_LCBG.csv\n"
     ]
    }
   ],
   "source": [
    "ORIG_LCBG_DIR='/home/lrhunt/Projects/LCBG_LUMINOSITY_FUNCTION/LCBGLFOUT/apmag225/orig_z_bins/'\n",
    "ORIG_LCBG_LFS={}\n",
    "ORIG_LCBG_LFS_INDEX=[]\n",
    "for file in os.listdir(ORIG_LCBG_DIR):\n",
    "    if file.endswith('csv'):\n",
    "        print(file)\n",
    "        ORIG_LCBG_LFS[file.split('.csv')[0]]=pd.read_csv(ORIG_LCBG_DIR+'/'+file)\n",
    "        ORIG_LCBG_LFS_INDEX.append(file.split('.csv')[0])"
   ]
  },
  {
   "cell_type": "code",
   "execution_count": 18,
   "metadata": {},
   "outputs": [],
   "source": [
    "GAL_DIR='/home/lrhunt/Projects/LCBG_LUMINOSITY_FUNCTION/FULLLFOUT/apmag225/zucca_z_bins/'\n",
    "GAL_LFS={}\n",
    "GAL_LFS_INDEX=[]\n",
    "for file in os.listdir(GAL_DIR):\n",
    "    if file.endswith('csv'):\n",
    "        GAL_LFS[file.split('.csv')[0]]=pd.read_csv(GAL_DIR+'/'+file)\n",
    "        GAL_LFS_INDEX.append(file.split('.csv')[0])"
   ]
  },
  {
   "cell_type": "code",
   "execution_count": 19,
   "metadata": {},
   "outputs": [],
   "source": [
    "ORIG_GAL_DIR='/home/lrhunt/Projects/LCBG_LUMINOSITY_FUNCTION/FULLLFOUT/apmag225/orig_z_bins/'\n",
    "ORIG_GAL_LFS={}\n",
    "ORIG_GAL_LFS_INDEX=[]\n",
    "for file in os.listdir(ORIG_GAL_DIR):\n",
    "    if file.endswith('csv'):\n",
    "        ORIG_GAL_LFS[file.split('.csv')[0]]=pd.read_csv(ORIG_GAL_DIR+'/'+file)\n",
    "        ORIG_GAL_LFS_INDEX.append(file.split('.csv')[0])"
   ]
  },
  {
   "cell_type": "code",
   "execution_count": 20,
   "metadata": {},
   "outputs": [],
   "source": [
    "LCBG_MASKS={LCBG_LFS_INDEX[0]:[],LCBG_LFS_INDEX[1]:[12,13,14],LCBG_LFS_INDEX[2]:[9,10,11,12,13,14],LCBG_LFS_INDEX[3]:[0,1,2,7,8,9,10,11,12,13,14,15,16,17],LCBG_LFS_INDEX[4]:[12,13,14,15,16,17]}\n",
    "GAL_MASKS={GAL_LFS_INDEX[0]:[],GAL_LFS_INDEX[1]:[12,13,14],GAL_LFS_INDEX[2]:[9,10,11,12,13,14],GAL_LFS_INDEX[3]:[7,8,9,10,11,12,13,14,15,16,17],GAL_LFS_INDEX[4]:[12,13,14,15,16,17]}"
   ]
  },
  {
   "cell_type": "code",
   "execution_count": 21,
   "metadata": {},
   "outputs": [],
   "source": [
    "LCBG_MASKS={LCBG_LFS_INDEX[0]:[0,1,2,14,15,16,17],LCBG_LFS_INDEX[1]:[0,1,2,10,11,12,13,14],LCBG_LFS_INDEX[2]:[0,1,2,8,9,10,11,12,13,14],LCBG_LFS_INDEX[3]:[0,1,7,8,9,10,11,12,13,14,15,16,17],LCBG_LFS_INDEX[4]:[0,1,12,13,14,15,16,17]}\n",
    "GAL_MASKS={GAL_LFS_INDEX[0]:[0,1,2,14,15,16,17],GAL_LFS_INDEX[1]:[10,11,12,13,14],GAL_LFS_INDEX[2]:[0,1,8,9,10,11,12,13,14],GAL_LFS_INDEX[3]:[0,7,8,9,10,11,12,13,14,15,16,17],GAL_LFS_INDEX[4]:[0,1,12,13,14,15,16,17]}"
   ]
  },
  {
   "cell_type": "code",
   "execution_count": 22,
   "metadata": {},
   "outputs": [],
   "source": [
    "ORIG_LCBG_MASKS={ORIG_LCBG_LFS_INDEX[0]:[0,1,2,14,15,16,17],ORIG_LCBG_LFS_INDEX[1]:[0,1,2,10,11,12,13,14],ORIG_LCBG_LFS_INDEX[2]:[0,1,2,8,9,10,11,12,13,14],ORIG_LCBG_LFS_INDEX[3]:[0,1,7,8,9,10,11,12,13,14,15,16,17],ORIG_LCBG_LFS_INDEX[4]:[0,1,12,13,14,15,16,17]}\n",
    "ORIG_GAL_MASKS={ORIG_GAL_LFS_INDEX[0]:[0,1,2,14,15,16,17],ORIG_GAL_LFS_INDEX[1]:[10,11,12,13,14],ORIG_GAL_LFS_INDEX[2]:[0,1,8,9,10,11,12,13,14],ORIG_GAL_LFS_INDEX[3]:[0,7,8,9,10,11,12,13,14,15,16,17],ORIG_GAL_LFS_INDEX[4]:[0,1,12,13,14,15,16,17]}"
   ]
  },
  {
   "cell_type": "code",
   "execution_count": 23,
   "metadata": {},
   "outputs": [
    {
     "data": {
      "text/plain": [
       "{'LF_1_20_LCBG': [0, 1, 2, 14, 15, 16, 17],\n",
       " 'LF_20_40_LCBG': [0, 1, 2, 10, 11, 12, 13, 14],\n",
       " 'LF_40_60_LCBG': [0, 1, 2, 8, 9, 10, 11, 12, 13, 14],\n",
       " 'LF_60_80_LCBG': [0, 1, 7, 8, 9, 10, 11, 12, 13, 14, 15, 16, 17],\n",
       " 'LF_80_100_LCBG': [0, 1, 12, 13, 14, 15, 16, 17]}"
      ]
     },
     "execution_count": 23,
     "metadata": {},
     "output_type": "execute_result"
    }
   ],
   "source": [
    "ORIG_LCBG_MASKS"
   ]
  },
  {
   "cell_type": "code",
   "execution_count": 24,
   "metadata": {},
   "outputs": [
    {
     "name": "stdout",
     "output_type": "stream",
     "text": [
      "[3.88309294e-05 2.09689260e-04 4.11921946e-04 6.44976535e-04\n",
      " 7.19701437e-04 9.37092577e-04 1.03893955e-03]\n",
      "[2.08197684e-05 9.91660177e-05 3.05321945e-04 5.64217530e-04\n",
      " 8.95283052e-04 1.25464917e-03 1.38373013e-03]\n",
      "[2.76136761e-05 1.90660449e-04 5.34830678e-04 9.93091424e-04\n",
      " 1.65637663e-03]\n",
      "[1.04639596e-05 6.19733206e-05 2.96790527e-04 8.27359142e-04\n",
      " 1.45524778e-03]\n",
      "[7.59453123e-06 2.46949014e-05 1.52430076e-04 4.34269252e-04\n",
      " 8.17079068e-04 1.30345264e-03 1.25943924e-03 1.35632472e-03\n",
      " 1.47079447e-03]\n"
     ]
    }
   ],
   "source": [
    "LCBG_FITS_AP={}\n",
    "LCBG_FITS_AP_INDEX=[]\n",
    "for index in LCBG_LFS_INDEX:\n",
    "    LCBG_FITS_AP[index.split('LF_')[-1]+'_ap_fit']=ap_fitting_lcbg(LCBG_LFS[index],MASK=LCBG_MASKS[index])\n",
    "    LCBG_FITS_AP_INDEX.append(index.split('LF_')[-1]+'_ap_fit')\n",
    "LCBG_FITS_SP={}\n",
    "LCBG_FITS_SP_INDEX=[]\n",
    "for index in LCBG_LFS_INDEX:\n",
    "    LCBG_FITS_SP[index.split('LF_')[-1]+'_sp_fit']=sp_fitting_lcbg(LCBG_LFS[index],MASK=LCBG_MASKS[index])\n",
    "    LCBG_FITS_SP_INDEX.append(index.split('LF_')[-1]+'_sp_fit')"
   ]
  },
  {
   "cell_type": "code",
   "execution_count": 25,
   "metadata": {},
   "outputs": [
    {
     "name": "stdout",
     "output_type": "stream",
     "text": [
      "[5.53636118e-04 8.19168985e-05 3.83880804e-04 2.82572587e-04\n",
      " 2.25615777e-04 4.50154014e-04]\n",
      "[4.08790339e-05 2.61601437e-04 5.62225410e-04 8.36256232e-04\n",
      " 1.05554961e-03 1.39082496e-03]\n",
      "[1.78630676e-05 1.14853584e-04 2.42743550e-04 5.16483288e-04\n",
      " 8.45310193e-04]\n",
      "[8.42986207e-06 3.36690734e-05 1.92937378e-04 5.79797798e-04\n",
      " 1.04365807e-03]\n",
      "[8.45922258e-06 6.88072284e-05 3.29206700e-04 9.22860239e-04\n",
      " 1.63526200e-03 3.84883326e-04]\n"
     ]
    }
   ],
   "source": [
    "ORIG_LCBG_FITS_AP={}\n",
    "ORIG_LCBG_FITS_AP_INDEX=[]\n",
    "for index in ORIG_LCBG_LFS_INDEX:\n",
    "    ORIG_LCBG_FITS_AP[index.split('LF_')[-1]+'_ap_fit']=ap_fitting_lcbg(ORIG_LCBG_LFS[index],MASK=ORIG_LCBG_MASKS[index])\n",
    "    ORIG_LCBG_FITS_AP_INDEX.append(index.split('LF_')[-1]+'_ap_fit')\n",
    "ORIG_LCBG_FITS_SP={}\n",
    "ORIG_LCBG_FITS_SP_INDEX=[]\n",
    "for index in ORIG_LCBG_LFS_INDEX:\n",
    "    ORIG_LCBG_FITS_SP[index.split('LF_')[-1]+'_sp_fit']=sp_fitting_lcbg(ORIG_LCBG_LFS[index],MASK=ORIG_LCBG_MASKS[index])\n",
    "    ORIG_LCBG_FITS_SP_INDEX.append(index.split('LF_')[-1]+'_sp_fit')"
   ]
  },
  {
   "cell_type": "code",
   "execution_count": 26,
   "metadata": {},
   "outputs": [
    {
     "name": "stdout",
     "output_type": "stream",
     "text": [
      "[4.35204484e-05 3.90956996e-04 1.06433704e-03 1.89980956e-03\n",
      " 3.17913630e-03 4.23473684e-03 4.78368528e-03 6.16771388e-03\n",
      " 6.80547699e-03 6.55525726e-03 7.75368194e-03]\n",
      "[3.90196265e-06 3.07966351e-05 9.60147277e-05 3.99841976e-04\n",
      " 1.04194817e-03 2.01964815e-03 2.87975770e-03 3.56893989e-03\n",
      " 4.47730044e-03]\n",
      "[3.49547729e-05 2.32957366e-04 6.60515844e-04 1.66001337e-03\n",
      " 2.53645098e-03 3.70743764e-03]\n",
      "[5.37942022e-06 5.46053990e-05 3.24140254e-04 9.58093906e-04\n",
      " 1.97237802e-03 2.83414351e-03]\n",
      "[3.25823790e-05 1.62859190e-04 5.41621554e-04 1.36090978e-03\n",
      " 2.27913103e-03 3.33186153e-03 3.56125077e-03 4.54626722e-03\n",
      " 6.11419520e-03 9.00644107e-03]\n"
     ]
    }
   ],
   "source": [
    "GAL_FITS_AP={}\n",
    "GAL_FITS_AP_INDEX=[]\n",
    "for index in GAL_LFS_INDEX:\n",
    "    GAL_FITS_AP[index.split('LF_')[-1]+'_ap_fit']=ap_fitting_gal(GAL_LFS[index],MASK=GAL_MASKS[index])\n",
    "    GAL_FITS_AP_INDEX.append(index.split('LF_')[-1]+'_ap_fit')\n",
    "GAL_FITS_SP={}\n",
    "GAL_FITS_SP_INDEX=[]\n",
    "GAL_FITS_UNCERTAINTIES={}\n",
    "for index in GAL_LFS_INDEX:\n",
    "    GAL_FITS_SP[index.split('LF_')[-1]+'_sp_fit']=sp_fitting_gal(GAL_LFS[index],MASK=GAL_MASKS[index])\n",
    "    GAL_FITS_SP_INDEX.append(index.split('LF_')[-1]+'_sp_fit')"
   ]
  },
  {
   "cell_type": "code",
   "execution_count": 27,
   "metadata": {},
   "outputs": [
    {
     "name": "stdout",
     "output_type": "stream",
     "text": [
      "[0.00020073 0.00016128 0.0007416  0.0011575  0.00180588 0.00264688\n",
      " 0.00302145 0.00484003 0.00622154 0.00616003 0.00866897]\n",
      "[1.42662659e-05 2.93741304e-05 7.05923086e-05 4.70961363e-04\n",
      " 1.25400313e-03 2.43347282e-03 3.88626306e-03 4.99254272e-03\n",
      " 5.77110643e-03 3.55380659e-04]\n",
      "[1.63263594e-05 8.53400880e-05 3.41752618e-04 8.49360451e-04\n",
      " 1.61738406e-03 2.26745604e-03]\n",
      "[2.10352184e-06 4.04884003e-05 2.25925693e-04 6.62679595e-04\n",
      " 1.65217455e-03 2.58814578e-03]\n",
      "[5.81787009e-05 3.73795082e-04 1.07710019e-03 2.24157889e-03\n",
      " 3.24610369e-03 9.06522561e-04]\n"
     ]
    }
   ],
   "source": [
    "ORIG_GAL_FITS_AP={}\n",
    "ORIG_GAL_FITS_AP_INDEX=[]\n",
    "for index in ORIG_GAL_LFS_INDEX:\n",
    "    ORIG_GAL_FITS_AP[index.split('LF_')[-1]+'_ap_fit']=ap_fitting_gal(ORIG_GAL_LFS[index],MASK=ORIG_GAL_MASKS[index])\n",
    "    ORIG_GAL_FITS_AP_INDEX.append(index.split('LF_')[-1]+'_ap_fit')\n",
    "ORIG_GAL_FITS_SP={}\n",
    "ORIG_GAL_FITS_SP_INDEX=[]\n",
    "ORIG_GAL_FITS_UNCERTAINTIES={}\n",
    "for index in ORIG_GAL_LFS_INDEX:\n",
    "    ORIG_GAL_FITS_SP[index.split('LF_')[-1]+'_sp_fit']=sp_fitting_gal(ORIG_GAL_LFS[index],MASK=ORIG_GAL_MASKS[index])\n",
    "    ORIG_GAL_FITS_SP_INDEX.append(index.split('LF_')[-1]+'_sp_fit')"
   ]
  },
  {
   "cell_type": "code",
   "execution_count": 28,
   "metadata": {},
   "outputs": [],
   "source": [
    "LCBG_VAL_ERROR_TO_DATAFRAME={}\n",
    "for index in LCBG_FITS_SP_INDEX:\n",
    "    LCBG_VAL_ERROR_TO_DATAFRAME[\n",
    "        index.split('_sp')[0]\n",
    "    ]=[uncertainties.correlated_values(LCBG_FITS_SP[index][0],\n",
    "                                       LCBG_FITS_SP[index][1])[0].nominal_value,\n",
    "      uncertainties.correlated_values(LCBG_FITS_SP[index][0],\n",
    "                                       LCBG_FITS_SP[index][1])[0].std_dev,\n",
    "      uncertainties.correlated_values(LCBG_FITS_SP[index][0],\n",
    "                                       LCBG_FITS_SP[index][1])[1].nominal_value,\n",
    "      uncertainties.correlated_values(LCBG_FITS_SP[index][0],\n",
    "                                       LCBG_FITS_SP[index][1])[1].std_dev] "
   ]
  },
  {
   "cell_type": "code",
   "execution_count": 29,
   "metadata": {},
   "outputs": [],
   "source": [
    "ORIG_LCBG_VAL_ERROR_TO_DATAFRAME={}\n",
    "for index in ORIG_LCBG_FITS_SP_INDEX:\n",
    "    ORIG_LCBG_VAL_ERROR_TO_DATAFRAME[\n",
    "        index.split('_sp')[0]\n",
    "    ]=[uncertainties.correlated_values(ORIG_LCBG_FITS_SP[index][0],\n",
    "                                       ORIG_LCBG_FITS_SP[index][1])[0].nominal_value,\n",
    "      uncertainties.correlated_values(ORIG_LCBG_FITS_SP[index][0],\n",
    "                                       ORIG_LCBG_FITS_SP[index][1])[0].std_dev,\n",
    "      uncertainties.correlated_values(ORIG_LCBG_FITS_SP[index][0],\n",
    "                                       ORIG_LCBG_FITS_SP[index][1])[1].nominal_value,\n",
    "      uncertainties.correlated_values(ORIG_LCBG_FITS_SP[index][0],\n",
    "                                       ORIG_LCBG_FITS_SP[index][1])[1].std_dev] "
   ]
  },
  {
   "cell_type": "code",
   "execution_count": 30,
   "metadata": {},
   "outputs": [],
   "source": [
    "GAL_VAL_ERROR_TO_DATAFRAME={}\n",
    "for index in GAL_FITS_SP_INDEX:\n",
    "    GAL_VAL_ERROR_TO_DATAFRAME[\n",
    "        index.split('_sp')[0]\n",
    "    ]=[uncertainties.correlated_values(GAL_FITS_SP[index][0],\n",
    "                                       GAL_FITS_SP[index][1])[0].nominal_value,\n",
    "      uncertainties.correlated_values(GAL_FITS_SP[index][0],\n",
    "                                       GAL_FITS_SP[index][1])[0].std_dev,\n",
    "      uncertainties.correlated_values(GAL_FITS_SP[index][0],\n",
    "                                       GAL_FITS_SP[index][1])[1].nominal_value,\n",
    "      uncertainties.correlated_values(GAL_FITS_SP[index][0],\n",
    "                                       GAL_FITS_SP[index][1])[1].std_dev] "
   ]
  },
  {
   "cell_type": "code",
   "execution_count": 31,
   "metadata": {},
   "outputs": [],
   "source": [
    "ORIG_GAL_VAL_ERROR_TO_DATAFRAME={}\n",
    "for index in ORIG_GAL_FITS_SP_INDEX:\n",
    "    ORIG_GAL_VAL_ERROR_TO_DATAFRAME[\n",
    "        index.split('_sp')[0]\n",
    "    ]=[uncertainties.correlated_values(ORIG_GAL_FITS_SP[index][0],\n",
    "                                       ORIG_GAL_FITS_SP[index][1])[0].nominal_value,\n",
    "      uncertainties.correlated_values(ORIG_GAL_FITS_SP[index][0],\n",
    "                                       ORIG_GAL_FITS_SP[index][1])[0].std_dev,\n",
    "      uncertainties.correlated_values(ORIG_GAL_FITS_SP[index][0],\n",
    "                                       ORIG_GAL_FITS_SP[index][1])[1].nominal_value,\n",
    "      uncertainties.correlated_values(ORIG_GAL_FITS_SP[index][0],\n",
    "                                       ORIG_GAL_FITS_SP[index][1])[1].std_dev] "
   ]
  },
  {
   "cell_type": "code",
   "execution_count": 32,
   "metadata": {},
   "outputs": [],
   "source": [
    "GAL_LUMFUNC_FIT_VALS_ERRS=pd.DataFrame.from_dict(GAL_VAL_ERROR_TO_DATAFRAME,\n",
    "                                                 orient='index',\n",
    "                                                 columns=['PHI','PHI_err','M','M_err'])"
   ]
  },
  {
   "cell_type": "code",
   "execution_count": 33,
   "metadata": {},
   "outputs": [],
   "source": [
    "ORIG_GAL_LUMFUNC_FIT_VALS_ERRS=pd.DataFrame.from_dict(ORIG_GAL_VAL_ERROR_TO_DATAFRAME,\n",
    "                                                 orient='index',\n",
    "                                                 columns=['PHI','PHI_err','M','M_err'])"
   ]
  },
  {
   "cell_type": "code",
   "execution_count": 34,
   "metadata": {},
   "outputs": [],
   "source": [
    "LCBG_LUMFUNC_FIT_VALS_ERRS=pd.DataFrame.from_dict(LCBG_VAL_ERROR_TO_DATAFRAME,\n",
    "                                                 orient='index',\n",
    "                                                 columns=['PHI','PHI_err','M','M_err'])"
   ]
  },
  {
   "cell_type": "code",
   "execution_count": 35,
   "metadata": {},
   "outputs": [],
   "source": [
    "ORIG_LCBG_LUMFUNC_FIT_VALS_ERRS=pd.DataFrame.from_dict(ORIG_LCBG_VAL_ERROR_TO_DATAFRAME,\n",
    "                                                 orient='index',\n",
    "                                                 columns=['PHI','PHI_err','M','M_err'])"
   ]
  },
  {
   "cell_type": "code",
   "execution_count": 36,
   "metadata": {},
   "outputs": [],
   "source": [
    "WILLMER=np.loadtxt('/home/lrhunt/Projects/LCBG_LUMINOSITY_FUNCTION_PLOTTING/TXTFILES/OTHERSTUDIES/WILLMER.txt')\n",
    "FABER=np.loadtxt('/home/lrhunt/Projects/LCBG_LUMINOSITY_FUNCTION_PLOTTING/TXTFILES/OTHERSTUDIES/FABER.txt')\n",
    "COOL=np.loadtxt('/home/lrhunt/Projects/LCBG_LUMINOSITY_FUNCTION_PLOTTING/TXTFILES/OTHERSTUDIES/COOL.txt')\n",
    "ZUCCA=np.loadtxt('/home/lrhunt/Projects/LCBG_LUMINOSITY_FUNCTION_PLOTTING/TXTFILES/OTHERSTUDIES/ZUCCA.txt')\n",
    "FRITZ=np.loadtxt('/home/lrhunt/Projects/LCBG_LUMINOSITY_FUNCTION_PLOTTING/TXTFILES/OTHERSTUDIES/FRITZ.txt')\n",
    "BEARE=np.loadtxt('/home/lrhunt/Projects/LCBG_LUMINOSITY_FUNCTION_PLOTTING/TXTFILES/OTHERSTUDIES/BEARE.txt')\n",
    "BEAREALPH=np.loadtxt('/home/lrhunt/Projects/LCBG_LUMINOSITY_FUNCTION_PLOTTING/TXTFILES/OTHERSTUDIES/BEARE_CONSTANTALPHA.txt')\n",
    "ZUCCAALPH=np.loadtxt('/home/lrhunt/Projects/LCBG_LUMINOSITY_FUNCTION_PLOTTING/TXTFILES/OTHERSTUDIES/ZUCCA_CONSTANTALPHA.txt')\n",
    "\n",
    "BEAREmstaru=unp.uarray(BEAREALPH[:,4],BEAREALPH[:,5])\n",
    "BEAREphistaru=unp.uarray(BEAREALPH[:,6],BEAREALPH[:,7])\n",
    "WILLMERmstaru=unp.uarray(WILLMER[:,4],WILLMER[:,5])\n",
    "WILLMERphistaru=unp.uarray(WILLMER[:,6],WILLMER[:,7])\n",
    "FABERmstaru=unp.uarray(FABER[:,4],FABER[:,5])\n",
    "FABERphistaru=unp.uarray(FABER[:,6],FABER[:,7])\n",
    "COOLmstaru=unp.uarray(COOL[:,4],COOL[:,5])\n",
    "COOLphistaru=unp.uarray(COOL[:,6],COOL[:,7])\n",
    "ZUCCAmstaru=unp.uarray(ZUCCAALPH[:,4],ZUCCAALPH[:,5])\n",
    "ZUCCAphistaru=unp.uarray(ZUCCAALPH[:,6],ZUCCAALPH[:,7])\n",
    "FRITZmstaru=unp.uarray(FRITZ[:,4],FRITZ[:,5])\n",
    "FRITZphistaru=unp.uarray(FRITZ[:,6],FRITZ[:,7])"
   ]
  },
  {
   "cell_type": "code",
   "execution_count": 38,
   "metadata": {},
   "outputs": [],
   "source": [
    "for index in GAL_LUMFUNC_FIT_VALS_ERRS.index:\n",
    "    GAL_LUMFUNC_FIT_VALS_ERRS.loc[index,'z']=np.mean([float(index.split('_')[0]),float(index.split('_')[1])])/100"
   ]
  },
  {
   "cell_type": "code",
   "execution_count": 39,
   "metadata": {},
   "outputs": [],
   "source": [
    "for index in ORIG_GAL_LUMFUNC_FIT_VALS_ERRS.index:\n",
    "    ORIG_GAL_LUMFUNC_FIT_VALS_ERRS.loc[index,'z']=np.mean([float(index.split('_')[0]),float(index.split('_')[1])])/100"
   ]
  },
  {
   "cell_type": "code",
   "execution_count": 40,
   "metadata": {},
   "outputs": [],
   "source": [
    "for index in LCBG_LUMFUNC_FIT_VALS_ERRS.index:\n",
    "    LCBG_LUMFUNC_FIT_VALS_ERRS.loc[index,'z']=np.mean([float(index.split('_')[0]),float(index.split('_')[1])])/100"
   ]
  },
  {
   "cell_type": "code",
   "execution_count": 41,
   "metadata": {},
   "outputs": [],
   "source": [
    "for index in ORIG_LCBG_LUMFUNC_FIT_VALS_ERRS.index:\n",
    "    ORIG_LCBG_LUMFUNC_FIT_VALS_ERRS.loc[index,'z']=np.mean([float(index.split('_')[0]),float(index.split('_')[1])])/100"
   ]
  },
  {
   "cell_type": "code",
   "execution_count": 42,
   "metadata": {},
   "outputs": [
    {
     "data": {
      "text/html": [
       "<div>\n",
       "<style scoped>\n",
       "    .dataframe tbody tr th:only-of-type {\n",
       "        vertical-align: middle;\n",
       "    }\n",
       "\n",
       "    .dataframe tbody tr th {\n",
       "        vertical-align: top;\n",
       "    }\n",
       "\n",
       "    .dataframe thead th {\n",
       "        text-align: right;\n",
       "    }\n",
       "</style>\n",
       "<table border=\"1\" class=\"dataframe\">\n",
       "  <thead>\n",
       "    <tr style=\"text-align: right;\">\n",
       "      <th></th>\n",
       "      <th>PHI</th>\n",
       "      <th>PHI_err</th>\n",
       "      <th>M</th>\n",
       "      <th>M_err</th>\n",
       "      <th>z</th>\n",
       "    </tr>\n",
       "  </thead>\n",
       "  <tbody>\n",
       "    <tr>\n",
       "      <th>10_35_LCBG</th>\n",
       "      <td>0.001410</td>\n",
       "      <td>0.000068</td>\n",
       "      <td>-20.469905</td>\n",
       "      <td>0.063634</td>\n",
       "      <td>0.225</td>\n",
       "    </tr>\n",
       "    <tr>\n",
       "      <th>35_55_LCBG</th>\n",
       "      <td>0.002077</td>\n",
       "      <td>0.000047</td>\n",
       "      <td>-20.554817</td>\n",
       "      <td>0.025851</td>\n",
       "      <td>0.450</td>\n",
       "    </tr>\n",
       "    <tr>\n",
       "      <th>55_75_LCBG</th>\n",
       "      <td>0.003932</td>\n",
       "      <td>0.000245</td>\n",
       "      <td>-20.494007</td>\n",
       "      <td>0.046844</td>\n",
       "      <td>0.650</td>\n",
       "    </tr>\n",
       "    <tr>\n",
       "      <th>75_100_LCBG</th>\n",
       "      <td>0.005133</td>\n",
       "      <td>0.000498</td>\n",
       "      <td>-20.603692</td>\n",
       "      <td>0.054005</td>\n",
       "      <td>0.875</td>\n",
       "    </tr>\n",
       "    <tr>\n",
       "      <th>30_80</th>\n",
       "      <td>0.002272</td>\n",
       "      <td>0.000202</td>\n",
       "      <td>-20.688162</td>\n",
       "      <td>0.088077</td>\n",
       "      <td>0.550</td>\n",
       "    </tr>\n",
       "  </tbody>\n",
       "</table>\n",
       "</div>"
      ],
      "text/plain": [
       "                  PHI   PHI_err          M     M_err      z\n",
       "10_35_LCBG   0.001410  0.000068 -20.469905  0.063634  0.225\n",
       "35_55_LCBG   0.002077  0.000047 -20.554817  0.025851  0.450\n",
       "55_75_LCBG   0.003932  0.000245 -20.494007  0.046844  0.650\n",
       "75_100_LCBG  0.005133  0.000498 -20.603692  0.054005  0.875\n",
       "30_80        0.002272  0.000202 -20.688162  0.088077  0.550"
      ]
     },
     "execution_count": 42,
     "metadata": {},
     "output_type": "execute_result"
    }
   ],
   "source": [
    "LCBG_LUMFUNC_FIT_VALS_ERRS"
   ]
  },
  {
   "cell_type": "markdown",
   "metadata": {},
   "source": [
    "Plotting M*"
   ]
  },
  {
   "cell_type": "code",
   "execution_count": 44,
   "metadata": {},
   "outputs": [
    {
     "data": {
      "text/plain": [
       "<ErrorbarContainer object of 3 artists>"
      ]
     },
     "execution_count": 44,
     "metadata": {},
     "output_type": "execute_result"
    },
    {
     "data": {
      "image/png": "[encoded data removed]",
      "text/plain": [
       "<Figure size 432x288 with 1 Axes>"
      ]
     },
     "metadata": {
      "needs_background": "light"
     },
     "output_type": "display_data"
    }
   ],
   "source": [
    "plt.errorbar(GAL_LUMFUNC_FIT_VALS_ERRS.loc[GAL_LUMFUNC_FIT_VALS_ERRS.index[0:4],'z'],\n",
    "             GAL_LUMFUNC_FIT_VALS_ERRS.loc[GAL_LUMFUNC_FIT_VALS_ERRS.index[0:4],'M'],\n",
    "             yerr=GAL_LUMFUNC_FIT_VALS_ERRS.loc[GAL_LUMFUNC_FIT_VALS_ERRS.index[0:4],'M_err'],\n",
    "             color='black')\n",
    "plt.errorbar(ORIG_GAL_LUMFUNC_FIT_VALS_ERRS.loc[ORIG_GAL_LUMFUNC_FIT_VALS_ERRS.index[0:4],'z'],\n",
    "             ORIG_GAL_LUMFUNC_FIT_VALS_ERRS.loc[ORIG_GAL_LUMFUNC_FIT_VALS_ERRS.index[0:4],'M'],\n",
    "             yerr=ORIG_GAL_LUMFUNC_FIT_VALS_ERRS.loc[ORIG_GAL_LUMFUNC_FIT_VALS_ERRS.index[0:4],'M_err'],\n",
    "             color='yellow')\n",
    "plt.errorbar(LCBG_LUMFUNC_FIT_VALS_ERRS.loc[LCBG_LUMFUNC_FIT_VALS_ERRS.index[0:4],'z'],\n",
    "             LCBG_LUMFUNC_FIT_VALS_ERRS.loc[LCBG_LUMFUNC_FIT_VALS_ERRS.index[0:4],'M'],\n",
    "             yerr=LCBG_LUMFUNC_FIT_VALS_ERRS.loc[LCBG_LUMFUNC_FIT_VALS_ERRS.index[0:4],'M_err'],\n",
    "            color='blue')\n",
    "#plt.errorbar(WILLMER[:,0],\n",
    "#             WILLMER[:,4],\n",
    "#             yerr=WILLMER[:,5],\n",
    "#             color='yellow',\n",
    "#             fmt='->',\n",
    "#             label='Willmer, 2006')\n",
    "#plt.errorbar(FABER[:,0],\n",
    "#             FABER[:,4],\n",
    "#             yerr=FABER[:,5],\n",
    "#             color='green',\n",
    "#             fmt='-<',\n",
    "#             label='Faber, 2007')\n",
    "#plt.errorbar(ZUCCAALPH[:,0],\n",
    "#             ZUCCAALPH[:,4],\n",
    "#             yerr=ZUCCAALPH[:,5],\n",
    "#             color='grey',\n",
    "#             fmt='-8',\n",
    "#             label='Zucca, 2009')\n",
    "#plt.errorbar(COOL[:,0],\n",
    "#             COOL[:,4],\n",
    "#             yerr=COOL[:,5],\n",
    "#             color='red',\n",
    "#             fmt='-s',\n",
    "#             label='Cool, 2012')\n",
    "#plt.errorbar(FRITZ[:,0],\n",
    "#             FRITZ[:,4],\n",
    "#             yerr=FRITZ[:,5],\n",
    "#             color='purple',\n",
    "#             fmt='-*',\n",
    "#             label='Fritz, 2014')\n",
    "#plt.errorbar(BEAREALPH[:,0],\n",
    "#             BEAREALPH[:,4],\n",
    "#             yerr=BEAREALPH[:,5],\n",
    "#             color='slateblue',\n",
    "#             fmt='-d',\n",
    "#             label='Beare, 2015')"
   ]
  },
  {
   "cell_type": "markdown",
   "metadata": {},
   "source": [
    "Plotting phistar"
   ]
  },
  {
   "cell_type": "code",
   "execution_count": 45,
   "metadata": {},
   "outputs": [
    {
     "data": {
      "text/plain": [
       "<ErrorbarContainer object of 3 artists>"
      ]
     },
     "execution_count": 45,
     "metadata": {},
     "output_type": "execute_result"
    },
    {
     "data": {
      "image/png": "[encoded data removed]",
      "text/plain": [
       "<Figure size 432x288 with 1 Axes>"
      ]
     },
     "metadata": {
      "needs_background": "light"
     },
     "output_type": "display_data"
    }
   ],
   "source": [
    "plt.errorbar(GAL_LUMFUNC_FIT_VALS_ERRS.loc[GAL_LUMFUNC_FIT_VALS_ERRS.index[0:4],'z'],\n",
    "             GAL_LUMFUNC_FIT_VALS_ERRS.loc[GAL_LUMFUNC_FIT_VALS_ERRS.index[0:4],'PHI'],\n",
    "             yerr=GAL_LUMFUNC_FIT_VALS_ERRS.loc[GAL_LUMFUNC_FIT_VALS_ERRS.index[0:4],'PHI_err'],\n",
    "            color='black')\n",
    "plt.errorbar(ORIG_GAL_LUMFUNC_FIT_VALS_ERRS.loc[ORIG_GAL_LUMFUNC_FIT_VALS_ERRS.index[0:5],'z'],\n",
    "             ORIG_GAL_LUMFUNC_FIT_VALS_ERRS.loc[ORIG_GAL_LUMFUNC_FIT_VALS_ERRS.index[0:5],'PHI'],\n",
    "             yerr=ORIG_GAL_LUMFUNC_FIT_VALS_ERRS.loc[ORIG_GAL_LUMFUNC_FIT_VALS_ERRS.index[0:5],'PHI_err'],\n",
    "            color='yellow')\n",
    "plt.errorbar(LCBG_LUMFUNC_FIT_VALS_ERRS.loc[LCBG_LUMFUNC_FIT_VALS_ERRS.index[0:4],'z'],\n",
    "             LCBG_LUMFUNC_FIT_VALS_ERRS.loc[LCBG_LUMFUNC_FIT_VALS_ERRS.index[0:4],'PHI'],\n",
    "             yerr=LCBG_LUMFUNC_FIT_VALS_ERRS.loc[LCBG_LUMFUNC_FIT_VALS_ERRS.index[0:4],'PHI_err'],\n",
    "            color='blue')\n",
    "plt.errorbar(ORIG_LCBG_LUMFUNC_FIT_VALS_ERRS.loc[ORIG_LCBG_LUMFUNC_FIT_VALS_ERRS.index[0:5],'z'],\n",
    "             ORIG_LCBG_LUMFUNC_FIT_VALS_ERRS.loc[ORIG_LCBG_LUMFUNC_FIT_VALS_ERRS.index[0:5],'PHI'],\n",
    "             yerr=ORIG_LCBG_LUMFUNC_FIT_VALS_ERRS.loc[ORIG_LCBG_LUMFUNC_FIT_VALS_ERRS.index[0:5],'PHI_err'],\n",
    "            color='purple')\n",
    "#plt.errorbar(WILLMER[:,0],\n",
    "#             WILLMER[:,6],\n",
    "#             yerr=WILLMER[:,7],\n",
    "#             color='yellow',\n",
    "#             fmt='->',\n",
    "#             label='Willmer, 2006')\n",
    "#plt.errorbar(FABER[:,0],\n",
    "#             FABER[:,6],\n",
    "#             yerr=FABER[:,7],\n",
    "#             color='green',\n",
    "#             fmt='-<',\n",
    "#             label='Faber, 2007')\n",
    "#plt.errorbar(ZUCCAALPH[:,0],\n",
    "#             ZUCCAALPH[:,6],\n",
    "#             yerr=ZUCCAALPH[:,7],\n",
    "#             color='grey',\n",
    "#             fmt='-8',\n",
    "#             label='Zucca, 2009')\n",
    "#plt.errorbar(COOL[:,0],\n",
    "#             COOL[:,6],\n",
    "#             yerr=COOL[:,7],\n",
    "#             color='red',\n",
    "#             fmt='-s',\n",
    "#             label='Cool, 2012')\n",
    "#plt.errorbar(FRITZ[:,0],\n",
    "#             FRITZ[:,6],\n",
    "#             yerr=FRITZ[:,7],\n",
    "#             color='purple',\n",
    "#             fmt='-*',\n",
    "#             label='Fritz, 2014')\n",
    "#plt.errorbar(BEAREALPH[:,0],\n",
    "#             BEAREALPH[:,6],\n",
    "#             yerr=BEAREALPH[:,7],\n",
    "#             color='slateblue',\n",
    "#             fmt='-d',\n",
    "#             label='Beare, 2015')"
   ]
  },
  {
   "cell_type": "code",
   "execution_count": null,
   "metadata": {},
   "outputs": [],
   "source": []
  }
 ],
 "metadata": {
  "kernelspec": {
   "display_name": "Python 3",
   "language": "python",
   "name": "python3"
  },
  "language_info": {
   "codemirror_mode": {
    "name": "ipython",
    "version": 3
   },
   "file_extension": ".py",
   "mimetype": "text/x-python",
   "name": "python",
   "nbconvert_exporter": "python",
   "pygments_lexer": "ipython3",
   "version": "3.7.3"
  }
 },
 "nbformat": 4,
 "nbformat_minor": 2
}
