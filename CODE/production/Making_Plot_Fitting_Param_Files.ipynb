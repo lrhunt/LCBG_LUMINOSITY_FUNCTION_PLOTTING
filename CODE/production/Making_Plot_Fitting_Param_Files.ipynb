{
 "cells": [
  {
   "cell_type": "markdown",
   "metadata": {},
   "source": [
    "This should create .csv files that can be imported into pandas for all the plotting routines. They are all loading/calculating the same thing in their respective notebooks, so this is an attempt to consilidate the repeated code to make one file that all plottings scripts can import. "
   ]
  },
  {
   "cell_type": "markdown",
   "metadata": {},
   "source": [
    "Import the necessary packages"
   ]
  },
  {
   "cell_type": "code",
   "execution_count": 1,
   "metadata": {},
   "outputs": [],
   "source": [
    "import astropy as ap\n",
    "from astropy.modeling.fitting import LevMarLSQFitter\n",
    "from astropy.modeling.models import custom_model\n",
    "from astropy.cosmology import FlatLambdaCDM"
   ]
  },
  {
   "cell_type": "code",
   "execution_count": 2,
   "metadata": {},
   "outputs": [],
   "source": [
    "import numpy as np\n",
    "import math as m"
   ]
  },
  {
   "cell_type": "code",
   "execution_count": 3,
   "metadata": {},
   "outputs": [],
   "source": [
    "import scipy as sp\n",
    "from scipy import integrate"
   ]
  },
  {
   "cell_type": "code",
   "execution_count": 4,
   "metadata": {},
   "outputs": [],
   "source": [
    "import uncertainties\n",
    "from uncertainties import unumpy as unp"
   ]
  },
  {
   "cell_type": "code",
   "execution_count": 5,
   "metadata": {},
   "outputs": [],
   "source": [
    "import pandas as pd"
   ]
  },
  {
   "cell_type": "code",
   "execution_count": 6,
   "metadata": {},
   "outputs": [],
   "source": [
    "import os"
   ]
  },
  {
   "cell_type": "code",
   "execution_count": 7,
   "metadata": {},
   "outputs": [],
   "source": [
    "import matplotlib.pyplot as plt\n",
    "import matplotlib.gridspec as gridspec\n",
    "from matplotlib.backends.backend_pdf import PdfPages\n",
    "import matplotlib as mp"
   ]
  },
  {
   "cell_type": "code",
   "execution_count": 8,
   "metadata": {},
   "outputs": [],
   "source": [
    "cosmo=FlatLambdaCDM(H0=70.0,Om0=0.3)\n",
    "fit=LevMarLSQFitter()\n",
    "GAL_ALPHA=-1.1\n",
    "LCBG_ALPHA=-1.0"
   ]
  },
  {
   "cell_type": "code",
   "execution_count": 9,
   "metadata": {},
   "outputs": [],
   "source": [
    "@uncertainties.wrap\n",
    "def integratethings(ps,ms,al=None,m=None):\n",
    "    if al==None:\n",
    "        al=-1.1\n",
    "    if m==None:\n",
    "        m=-18.5\n",
    "    def integrand(X):\n",
    "        return (0.4*np.log(10)*ps)*(10**(0.4*(al+1)*(ms-X)))*(np.e**(-np.power(10,0.4*(ms-X))))\n",
    "    integral,abserr=sp.integrate.quad(integrand,-100,m)\n",
    "    return integral"
   ]
  },
  {
   "cell_type": "code",
   "execution_count": 10,
   "metadata": {},
   "outputs": [],
   "source": [
    "@custom_model\n",
    "def schechter_func_gal(x,phistar=0.0056,mstar=-21):\n",
    "    return (0.4*np.log(10)*phistar)*(10**(0.4*(GAL_ALPHA+1)*(mstar-x)))*(np.e**(-np.power(10,0.4*(mstar-x))))"
   ]
  },
  {
   "cell_type": "code",
   "execution_count": 11,
   "metadata": {},
   "outputs": [],
   "source": [
    "@custom_model\n",
    "def schechter_func_lcbg(x,phistar=0.0056,mstar=-21):\n",
    "    return (0.4*np.log(10)*phistar)*(10**(0.4*(LCBG_ALPHA+1)*(mstar-x)))*(np.e**(-np.power(10,0.4*(mstar-x))))"
   ]
  },
  {
   "cell_type": "code",
   "execution_count": 12,
   "metadata": {},
   "outputs": [],
   "source": [
    "def schechter_func_scipy_gal(x,phistar,mstar):\n",
    "    return (0.4*np.log(10)*phistar)*(10**(0.4*(GAL_ALPHA+1)*(mstar-x)))*(np.e**(-np.power(10,0.4*(mstar-x))))"
   ]
  },
  {
   "cell_type": "code",
   "execution_count": 13,
   "metadata": {},
   "outputs": [],
   "source": [
    "def schechter_func_scipy_lcbg(x,phistar,mstar):\n",
    "    return (0.4*np.log(10)*phistar)*(10**(0.4*(LCBG_ALPHA+1)*(mstar-x)))*(np.e**(-np.power(10,0.4*(mstar-x))))"
   ]
  },
  {
   "cell_type": "code",
   "execution_count": 14,
   "metadata": {},
   "outputs": [],
   "source": [
    "def ap_fitting_gal(DATAFRAME,MASK=None):\n",
    "    if MASK is None:\n",
    "        MASK=[]\n",
    "    #******CREATE MASK ARRAY******\n",
    "    NUMBDENS=np.ma.array(np.array(DATAFRAME['Number_Density']),mask=False)\n",
    "    MBINAVE=np.ma.array(np.array(DATAFRAME['Average_Absolute_Magnitude']),mask=False)\n",
    "    NUMBDENSERR=np.ma.array(np.array(DATAFRAME['Number_Density_Error']),mask=False)\n",
    "    #******MASK ZEROS******\n",
    "    NUMBDENS.mask[DATAFRAME.loc[DATAFRAME.Number_Density==0].index]=True\n",
    "    MBINAVE.mask[DATAFRAME.loc[DATAFRAME.Number_Density==0].index]=True\n",
    "    NUMBDENSERR.mask[DATAFRAME.loc[DATAFRAME.Number_Density==0].index]=True\n",
    "     #******MASK POINTS I DON'T LIKE******\n",
    "    NUMBDENS.mask[MASK]=True\n",
    "    MBINAVE.mask[MASK]=True\n",
    "    NUMBDENSERR.mask[MASK]=True\n",
    "    print(NUMBDENS.compressed())\n",
    "    #******MODELLING******\n",
    "    LFFIT_INIT=schechter_func_gal()\n",
    "    LFFIT=fit(LFFIT_INIT,MBINAVE.compressed(),NUMBDENS.compressed(),weights=1/NUMBDENSERR.compressed())\n",
    "    return LFFIT,NUMBDENS.mask"
   ]
  },
  {
   "cell_type": "code",
   "execution_count": 15,
   "metadata": {},
   "outputs": [],
   "source": [
    "def ap_fitting_lcbg(DATAFRAME,MASK=None):\n",
    "    if MASK is None:\n",
    "        MASK=[]\n",
    "    #******CREATE MASK ARRAY******\n",
    "    NUMBDENS=np.ma.array(np.array(DATAFRAME['Number_Density']),mask=False)\n",
    "    MBINAVE=np.ma.array(np.array(DATAFRAME['Average_Absolute_Magnitude']),mask=False)\n",
    "    NUMBDENSERR=np.ma.array(np.array(DATAFRAME['Number_Density_Error']),mask=False)\n",
    "    #******MASK ZEROS******\n",
    "    NUMBDENS.mask[DATAFRAME.loc[DATAFRAME.Number_Density==0].index]=True\n",
    "    MBINAVE.mask[DATAFRAME.loc[DATAFRAME.Number_Density==0].index]=True\n",
    "    NUMBDENSERR.mask[DATAFRAME.loc[DATAFRAME.Number_Density==0].index]=True\n",
    "     #******MASK POINTS I DON'T LIKE******\n",
    "    NUMBDENS.mask[MASK]=True\n",
    "    MBINAVE.mask[MASK]=True\n",
    "    NUMBDENSERR.mask[MASK]=True\n",
    "    print(NUMBDENS.compressed())\n",
    "    #******MODELLING******\n",
    "    LFFIT_INIT=schechter_func_lcbg()\n",
    "    LFFIT=fit(LFFIT_INIT,MBINAVE.compressed(),NUMBDENS.compressed(),weights=1/NUMBDENSERR.compressed())\n",
    "    return LFFIT,NUMBDENS.mask"
   ]
  },
  {
   "cell_type": "code",
   "execution_count": 16,
   "metadata": {},
   "outputs": [],
   "source": [
    "def sp_fitting_gal(DATAFRAME,MASK=None,INITARRAY=None):\n",
    "    if MASK is None:\n",
    "        MASK=[]\n",
    "    if INITARRAY==None:\n",
    "        INITARRAY=[0.0056,-21]\n",
    "    #******CREATE MASK ARRAY******\n",
    "    NUMBDENS=np.ma.array(np.array(DATAFRAME['Number_Density']),mask=False)\n",
    "    MBINAVE=np.ma.array(np.array(DATAFRAME['Average_Absolute_Magnitude']),mask=False)\n",
    "    NUMBDENSERR=np.ma.array(np.array(DATAFRAME['Number_Density_Error']),mask=False)\n",
    "    #******MASK ZEROS******\n",
    "    NUMBDENS.mask[DATAFRAME.loc[DATAFRAME.Number_Density==0].index]=True\n",
    "    MBINAVE.mask[DATAFRAME.loc[DATAFRAME.Number_Density==0].index]=True\n",
    "    NUMBDENSERR.mask[DATAFRAME.loc[DATAFRAME.Number_Density==0].index]=True\n",
    "     #******MASK POINTS I DON'T LIKE******\n",
    "    NUMBDENS.mask[MASK]=True\n",
    "    MBINAVE.mask[MASK]=True\n",
    "    NUMBDENSERR.mask[MASK]=True\n",
    "    #******MODELLING******\n",
    "    LFFIT,LFCOV=sp.optimize.curve_fit(schechter_func_scipy_gal,MBINAVE.compressed(),NUMBDENS.compressed(),p0=INITARRAY,sigma=NUMBDENSERR.compressed())\n",
    "    return LFFIT,LFCOV"
   ]
  },
  {
   "cell_type": "code",
   "execution_count": 17,
   "metadata": {},
   "outputs": [],
   "source": [
    "def sp_fitting_lcbg(DATAFRAME,MASK=None,INITARRAY=None):\n",
    "    if MASK is None:\n",
    "        MASK=[]\n",
    "    if INITARRAY==None:\n",
    "        INITARRAY=[0.0056,-21]\n",
    "    #******CREATE MASK ARRAY******\n",
    "    NUMBDENS=np.ma.array(np.array(DATAFRAME['Number_Density']),mask=False)\n",
    "    MBINAVE=np.ma.array(np.array(DATAFRAME['Average_Absolute_Magnitude']),mask=False)\n",
    "    NUMBDENSERR=np.ma.array(np.array(DATAFRAME['Number_Density_Error']),mask=False)\n",
    "    #******MASK ZEROS******\n",
    "    NUMBDENS.mask[DATAFRAME.loc[DATAFRAME.Number_Density==0].index]=True\n",
    "    MBINAVE.mask[DATAFRAME.loc[DATAFRAME.Number_Density==0].index]=True\n",
    "    NUMBDENSERR.mask[DATAFRAME.loc[DATAFRAME.Number_Density==0].index]=True\n",
    "     #******MASK POINTS I DON'T LIKE******\n",
    "    NUMBDENS.mask[MASK]=True\n",
    "    MBINAVE.mask[MASK]=True\n",
    "    NUMBDENSERR.mask[MASK]=True\n",
    "    #******MODELLING******\n",
    "    LFFIT,LFCOV=sp.optimize.curve_fit(schechter_func_scipy_lcbg,MBINAVE.compressed(),NUMBDENS.compressed(),p0=INITARRAY,sigma=NUMBDENSERR.compressed())\n",
    "    return LFFIT,LFCOV"
   ]
  },
  {
   "cell_type": "code",
   "execution_count": 18,
   "metadata": {},
   "outputs": [],
   "source": [
    "CATALOG=pd.read_csv('/home/lrhunt/Astrodata/LCBG_Luminosity_Function/Original_Catalogs/Final_Catalogs/COSMOS_CONVERTED_CATALOG.csv')"
   ]
  },
  {
   "cell_type": "code",
   "execution_count": 19,
   "metadata": {},
   "outputs": [
    {
     "name": "stdout",
     "output_type": "stream",
     "text": [
      "********CALCULATING WEIGHTS********\n",
      "Spec Weight = 5.75 | Color Weight = 1.0 | Surface Brightness Weight = 2.3\n",
      "Spec Weight = 5.5 | Color Weight = 1.0 | Surface Brightness Weight = 11.0\n",
      "Spec Weight = 1.1818 | Color Weight = 1.0 | Surface Brightness Weight = 6.5\n",
      "Spec Weight = 1.0435 | Color Weight = 1.0 | Surface Brightness Weight = 1.3333\n",
      "Spec Weight = 1.0566 | Color Weight = 1.0 | Surface Brightness Weight = 2.0\n",
      "Spec Weight = 1.2267 | Color Weight = 1.011 | Surface Brightness Weight = 1.84\n",
      "Spec Weight = 1.218 | Color Weight = 1.0 | Surface Brightness Weight = 1.4595\n",
      "Spec Weight = 1.1867 | Color Weight = 1.0 | Surface Brightness Weight = 1.3021\n",
      "Spec Weight = 1.1932 | Color Weight = 1.0 | Surface Brightness Weight = 1.4015\n",
      "Spec Weight = 1.2101 | Color Weight = 1.0 | Surface Brightness Weight = 1.33\n",
      "Spec Weight = 1.2232 | Color Weight = 1.0 | Surface Brightness Weight = 1.2778\n",
      "Spec Weight = 1.2264 | Color Weight = 1.0 | Surface Brightness Weight = 1.3045\n",
      "Spec Weight = 1.2818 | Color Weight = 1.0 | Surface Brightness Weight = 1.3192\n",
      "Spec Weight = 1.3463 | Color Weight = 1.0002 | Surface Brightness Weight = 1.3498\n",
      "Spec Weight = 1.578 | Color Weight = 1.0001 | Surface Brightness Weight = 1.3971\n"
     ]
    }
   ],
   "source": [
    "Magnitude_Loop_Array=np.stack((np.arange(15,\n",
    "                                         22.5+0.5,\n",
    "                                         0.5)[0:len(np.arange(15,\n",
    "                                                              22.5+0.5,\n",
    "                                                              0.5))-1],\n",
    "                               np.arange(15,\n",
    "                                         22.5+0.5,\n",
    "                                         0.5)[1:len(np.arange(15,\n",
    "                                                              22.5+0.5,\n",
    "                                                              0.5))]),\n",
    "                              axis=-1)\n",
    "print('********CALCULATING WEIGHTS********')\n",
    "tf=open('weights.txt','w')\n",
    "CATALOG['Spec_Weight']=np.nan\n",
    "CATALOG['Color_Weight']=np.nan\n",
    "CATALOG['Surface_Brightness_Weight']=np.nan\n",
    "for magrange in Magnitude_Loop_Array:\n",
    "    Num_Good_Spec=len(CATALOG.loc[(CATALOG.subaru_i_mag>magrange[0])&\n",
    "                              (CATALOG.subaru_i_mag<magrange[1])&\n",
    "                              (CATALOG.SG_MASTER==0)&\n",
    "                              ((CATALOG.Z_USE==1)|\n",
    "                               (CATALOG.Z_USE==2))])\n",
    "    Num_Bad_Spec=len(CATALOG.loc[(CATALOG.subaru_i_mag>magrange[0])&\n",
    "                             (CATALOG.subaru_i_mag<magrange[1])&\n",
    "                             (CATALOG.SG_MASTER==0)&\n",
    "                             ((CATALOG.Z_USE==3)|\n",
    "                              (CATALOG.Z_USE==4))])\n",
    "    Num_Good_Color=len(CATALOG.loc[(CATALOG.subaru_i_mag>magrange[0])&\n",
    "                               (CATALOG.subaru_i_mag<magrange[1])&\n",
    "                               (CATALOG.SG_MASTER==0)&\n",
    "                               ((CATALOG.subaru_B_mag<100)&\n",
    "                                (CATALOG.subaru_V_mag<100))])\n",
    "    Num_Bad_Color=len(CATALOG.loc[(CATALOG.subaru_i_mag>magrange[0])&\n",
    "                              (CATALOG.subaru_i_mag<magrange[1])&\n",
    "                              (CATALOG.SG_MASTER==0)&\n",
    "                              ((CATALOG.subaru_B_mag>100)|\n",
    "                               (CATALOG.subaru_V_mag>100))])\n",
    "    Num_Bad_Rh=len(CATALOG.loc[(CATALOG.subaru_i_mag>magrange[0])&\n",
    "                           (CATALOG.subaru_i_mag<magrange[1])&\n",
    "                           (CATALOG.SG_MASTER==0)&\n",
    "                           (np.isnan(CATALOG.R_HALF_PIXELS))])\n",
    "    Num_Good_Rh=len(CATALOG.loc[(CATALOG.subaru_i_mag>magrange[0])&\n",
    "                            (CATALOG.subaru_i_mag<magrange[1])&\n",
    "                            (CATALOG.SG_MASTER==0)&\n",
    "                            (~np.isnan(CATALOG.R_HALF_PIXELS))])\n",
    "    CATALOG.loc[(CATALOG.subaru_i_mag>magrange[0])&\n",
    "                (CATALOG.subaru_i_mag<magrange[1])&\n",
    "                (CATALOG.SG_MASTER==0),\n",
    "                'Spec_Weight']=float(Num_Good_Spec+Num_Bad_Spec)/float(Num_Good_Spec)\n",
    "    CATALOG.loc[(CATALOG.subaru_i_mag>magrange[0])&\n",
    "                (CATALOG.subaru_i_mag<magrange[1])&\n",
    "                (CATALOG.SG_MASTER==0),\n",
    "                'Color_Weight']=float(Num_Good_Color+Num_Bad_Color)/float(Num_Good_Color)\n",
    "    CATALOG.loc[(CATALOG.subaru_i_mag>magrange[0])&\n",
    "                (CATALOG.subaru_i_mag<magrange[1])&\n",
    "                (CATALOG.SG_MASTER==0),\n",
    "                'Surface_Brightness_Weight']=float(Num_Good_Rh+Num_Bad_Rh)/float(Num_Good_Rh)\n",
    "    print('Spec Weight = {} | Color Weight = {} | Surface Brightness Weight = {}'.format(\n",
    "        np.round(float(Num_Good_Spec+Num_Bad_Spec)/float(Num_Good_Spec),4),\n",
    "        np.round(float(Num_Good_Color+Num_Bad_Color)/float(Num_Good_Color),4),\n",
    "        np.round(float(Num_Good_Rh+Num_Bad_Rh)/float(Num_Good_Rh),4)))"
   ]
  },
  {
   "cell_type": "code",
   "execution_count": 20,
   "metadata": {},
   "outputs": [],
   "source": [
    "LCBG_DIR='/home/lrhunt/Projects/LCBG_LUMINOSITY_FUNCTION/LCBGLFOUT/apmag225/zucca_z_bins/'\n",
    "LCBG_LFS={}\n",
    "LCBG_LFS_INDEX=[]\n",
    "for file in os.listdir(LCBG_DIR):\n",
    "    if file.endswith('csv'):\n",
    "        LCBG_LFS[file.split('.csv')[0]]=pd.read_csv(LCBG_DIR+'/'+file)\n",
    "        LCBG_LFS_INDEX.append(file.split('.csv')[0])"
   ]
  },
  {
   "cell_type": "code",
   "execution_count": 21,
   "metadata": {},
   "outputs": [],
   "source": [
    "GAL_DIR='/home/lrhunt/Projects/LCBG_LUMINOSITY_FUNCTION/FULLLFOUT/apmag225/zucca_z_bins/'\n",
    "GAL_LFS={}\n",
    "GAL_LFS_INDEX=[]\n",
    "for file in os.listdir(GAL_DIR):\n",
    "    if file.endswith('csv'):\n",
    "        GAL_LFS[file.split('.csv')[0]]=pd.read_csv(GAL_DIR+'/'+file)\n",
    "        GAL_LFS_INDEX.append(file.split('.csv')[0])"
   ]
  },
  {
   "cell_type": "code",
   "execution_count": 22,
   "metadata": {},
   "outputs": [],
   "source": [
    "GAL_BIAS_CUTOFF={GAL_LFS_INDEX[0]:-17,\n",
    "                 GAL_LFS_INDEX[1]:-19,\n",
    "                 GAL_LFS_INDEX[2]:-20,\n",
    "                 GAL_LFS_INDEX[3]:-20.5,\n",
    "                 GAL_LFS_INDEX[4]:-20,}\n",
    "LCBG_BIAS_CUTOFF={LCBG_LFS_INDEX[0]:-17,\n",
    "                 LCBG_LFS_INDEX[1]:-19,\n",
    "                 LCBG_LFS_INDEX[2]:-20,\n",
    "                 LCBG_LFS_INDEX[3]:-20.5,\n",
    "                 LCBG_LFS_INDEX[4]:-20,}"
   ]
  },
  {
   "cell_type": "code",
   "execution_count": 23,
   "metadata": {},
   "outputs": [],
   "source": [
    "LCBG_MASKS={LCBG_LFS_INDEX[0]:[0,1,2,14,15,16,17],LCBG_LFS_INDEX[1]:[0,1,2,10,11,12,13,14],LCBG_LFS_INDEX[2]:[0,1,2,8,9,10,11,12,13,14],LCBG_LFS_INDEX[3]:[0,1,7,8,9,10,11,12,13,14,15,16,17],LCBG_LFS_INDEX[4]:[0,1,12,13,14,15,16,17]}\n",
    "GAL_MASKS={GAL_LFS_INDEX[0]:[0,1,2,14,15,16,17],GAL_LFS_INDEX[1]:[10,11,12,13,14],GAL_LFS_INDEX[2]:[0,1,8,9,10,11,12,13,14],GAL_LFS_INDEX[3]:[0,7,8,9,10,11,12,13,14,15,16,17],GAL_LFS_INDEX[4]:[0,1,12,13,14,15,16,17]}"
   ]
  },
  {
   "cell_type": "code",
   "execution_count": 24,
   "metadata": {},
   "outputs": [
    {
     "name": "stdout",
     "output_type": "stream",
     "text": [
      "[3.88309294e-05 2.09689260e-04 4.11921946e-04 6.44976535e-04\n",
      " 7.19701437e-04 9.37092577e-04 1.03893955e-03]\n",
      "[2.08197684e-05 9.91660177e-05 3.05321945e-04 5.64217530e-04\n",
      " 8.95283052e-04 1.25464917e-03 1.38373013e-03]\n",
      "[2.76136761e-05 1.90660449e-04 5.34830678e-04 9.93091424e-04\n",
      " 1.65637663e-03]\n",
      "[1.04639596e-05 6.19733206e-05 2.96790527e-04 8.27359142e-04\n",
      " 1.45524778e-03]\n",
      "[7.59453123e-06 2.46949014e-05 1.52430076e-04 4.34269252e-04\n",
      " 8.17079068e-04 1.30345264e-03 1.25943924e-03 1.35632472e-03\n",
      " 1.47079447e-03]\n"
     ]
    }
   ],
   "source": [
    "LCBG_FITS_AP={}\n",
    "LCBG_FITS_AP_INDEX=[]\n",
    "for index in LCBG_LFS_INDEX:\n",
    "    LCBG_FITS_AP[index.split('LF_')[-1]+'_ap_fit']=ap_fitting_lcbg(LCBG_LFS[index],MASK=LCBG_MASKS[index])\n",
    "    LCBG_FITS_AP_INDEX.append(index.split('LF_')[-1]+'_ap_fit')\n",
    "LCBG_FITS_SP={}\n",
    "LCBG_FITS_SP_INDEX=[]\n",
    "for index in LCBG_LFS_INDEX:\n",
    "    LCBG_FITS_SP[index.split('LF_')[-1]+'_sp_fit']=sp_fitting_lcbg(LCBG_LFS[index],MASK=LCBG_MASKS[index])\n",
    "    LCBG_FITS_SP_INDEX.append(index.split('LF_')[-1]+'_sp_fit')"
   ]
  },
  {
   "cell_type": "code",
   "execution_count": 25,
   "metadata": {},
   "outputs": [
    {
     "name": "stdout",
     "output_type": "stream",
     "text": [
      "[4.35204484e-05 3.90956996e-04 1.06433704e-03 1.89980956e-03\n",
      " 3.17913630e-03 4.23473684e-03 4.78368528e-03 6.16771388e-03\n",
      " 6.80547699e-03 6.55525726e-03 7.75368194e-03]\n",
      "[3.90196265e-06 3.07966351e-05 9.60147277e-05 3.99841976e-04\n",
      " 1.04194817e-03 2.01964815e-03 2.87975770e-03 3.56893989e-03\n",
      " 4.47730044e-03]\n",
      "[3.49547729e-05 2.32957366e-04 6.60515844e-04 1.66001337e-03\n",
      " 2.53645098e-03 3.70743764e-03]\n",
      "[5.37942022e-06 5.46053990e-05 3.24140254e-04 9.58093906e-04\n",
      " 1.97237802e-03 2.83414351e-03]\n",
      "[3.25823790e-05 1.62859190e-04 5.41621554e-04 1.36090978e-03\n",
      " 2.27913103e-03 3.33186153e-03 3.56125077e-03 4.54626722e-03\n",
      " 6.11419520e-03 9.00644107e-03]\n"
     ]
    }
   ],
   "source": [
    "i=0\n",
    "GAL_FITS_AP={}\n",
    "GAL_FITS_AP_INDEX=[]\n",
    "z_bin_dict={}\n",
    "for index in GAL_LFS_INDEX:\n",
    "    GAL_FITS_AP[index.split('LF_')[-1]+'_ap_fit']=ap_fitting_gal(GAL_LFS[index],MASK=GAL_MASKS[index])\n",
    "    GAL_FITS_AP_INDEX.append(index.split('LF_')[-1]+'_ap_fit')\n",
    "GAL_FITS_SP={}\n",
    "GAL_FITS_SP_INDEX=[]\n",
    "for index in GAL_LFS_INDEX:\n",
    "    GAL_FITS_SP[index.split('LF_')[-1]+'_sp_fit']=sp_fitting_gal(GAL_LFS[index],MASK=GAL_MASKS[index])\n",
    "    GAL_FITS_SP_INDEX.append(index.split('LF_')[-1]+'_sp_fit')\n",
    "    z_bin_dict[i]='{}$<z\\le${}'.format(index.split('_')[1],index.split('_')[2])\n",
    "    i=i+1"
   ]
  },
  {
   "cell_type": "code",
   "execution_count": 26,
   "metadata": {},
   "outputs": [],
   "source": [
    "LCBG_VAL_ERROR_TO_DATAFRAME={}\n",
    "for index in LCBG_FITS_SP_INDEX:\n",
    "    LCBG_VAL_ERROR_TO_DATAFRAME[\n",
    "        index.split('_sp')[0]\n",
    "    ]=[uncertainties.correlated_values(LCBG_FITS_SP[index][0],\n",
    "                                       LCBG_FITS_SP[index][1])[0].nominal_value,\n",
    "      uncertainties.correlated_values(LCBG_FITS_SP[index][0],\n",
    "                                       LCBG_FITS_SP[index][1])[0].std_dev,\n",
    "      uncertainties.correlated_values(LCBG_FITS_SP[index][0],\n",
    "                                       LCBG_FITS_SP[index][1])[1].nominal_value,\n",
    "      uncertainties.correlated_values(LCBG_FITS_SP[index][0],\n",
    "                                       LCBG_FITS_SP[index][1])[1].std_dev]    "
   ]
  },
  {
   "cell_type": "code",
   "execution_count": 27,
   "metadata": {},
   "outputs": [],
   "source": [
    "GAL_VAL_ERROR_TO_DATAFRAME={}\n",
    "for index in GAL_FITS_SP_INDEX:\n",
    "    GAL_VAL_ERROR_TO_DATAFRAME[\n",
    "        index.split('_sp')[0]\n",
    "    ]=[uncertainties.correlated_values(GAL_FITS_SP[index][0],\n",
    "                                       GAL_FITS_SP[index][1])[0].nominal_value,\n",
    "      uncertainties.correlated_values(GAL_FITS_SP[index][0],\n",
    "                                       GAL_FITS_SP[index][1])[0].std_dev,\n",
    "      uncertainties.correlated_values(GAL_FITS_SP[index][0],\n",
    "                                       GAL_FITS_SP[index][1])[1].nominal_value,\n",
    "      uncertainties.correlated_values(GAL_FITS_SP[index][0],\n",
    "                                       GAL_FITS_SP[index][1])[1].std_dev]    "
   ]
  },
  {
   "cell_type": "code",
   "execution_count": 28,
   "metadata": {},
   "outputs": [],
   "source": [
    "GAL_FIT_VALS=pd.DataFrame.from_dict(GAL_VAL_ERROR_TO_DATAFRAME,\n",
    "                                                 orient='index',\n",
    "                                                 columns=['PHI','PHI_unc','M','M_unc'])"
   ]
  },
  {
   "cell_type": "code",
   "execution_count": 29,
   "metadata": {},
   "outputs": [],
   "source": [
    "LCBG_FIT_VALS=pd.DataFrame.from_dict(LCBG_VAL_ERROR_TO_DATAFRAME,\n",
    "                                                 orient='index',\n",
    "                                                 columns=['PHI','PHI_unc','M','M_unc'])"
   ]
  },
  {
   "cell_type": "code",
   "execution_count": 30,
   "metadata": {},
   "outputs": [
    {
     "data": {
      "text/html": [
       "<div>\n",
       "<style scoped>\n",
       "    .dataframe tbody tr th:only-of-type {\n",
       "        vertical-align: middle;\n",
       "    }\n",
       "\n",
       "    .dataframe tbody tr th {\n",
       "        vertical-align: top;\n",
       "    }\n",
       "\n",
       "    .dataframe thead th {\n",
       "        text-align: right;\n",
       "    }\n",
       "</style>\n",
       "<table border=\"1\" class=\"dataframe\">\n",
       "  <thead>\n",
       "    <tr style=\"text-align: right;\">\n",
       "      <th></th>\n",
       "      <th>PHI</th>\n",
       "      <th>PHI_unc</th>\n",
       "      <th>M</th>\n",
       "      <th>M_unc</th>\n",
       "    </tr>\n",
       "  </thead>\n",
       "  <tbody>\n",
       "    <tr>\n",
       "      <th>10_35</th>\n",
       "      <td>0.006379</td>\n",
       "      <td>0.000163</td>\n",
       "      <td>-20.638894</td>\n",
       "      <td>0.042595</td>\n",
       "    </tr>\n",
       "    <tr>\n",
       "      <th>35_55</th>\n",
       "      <td>0.005411</td>\n",
       "      <td>0.000165</td>\n",
       "      <td>-20.769876</td>\n",
       "      <td>0.035128</td>\n",
       "    </tr>\n",
       "    <tr>\n",
       "      <th>55_75</th>\n",
       "      <td>0.006415</td>\n",
       "      <td>0.000250</td>\n",
       "      <td>-20.930254</td>\n",
       "      <td>0.034059</td>\n",
       "    </tr>\n",
       "    <tr>\n",
       "      <th>75_100</th>\n",
       "      <td>0.006758</td>\n",
       "      <td>0.000305</td>\n",
       "      <td>-21.065415</td>\n",
       "      <td>0.029880</td>\n",
       "    </tr>\n",
       "    <tr>\n",
       "      <th>30_80</th>\n",
       "      <td>0.005598</td>\n",
       "      <td>0.000319</td>\n",
       "      <td>-20.900640</td>\n",
       "      <td>0.062364</td>\n",
       "    </tr>\n",
       "  </tbody>\n",
       "</table>\n",
       "</div>"
      ],
      "text/plain": [
       "             PHI   PHI_unc          M     M_unc\n",
       "10_35   0.006379  0.000163 -20.638894  0.042595\n",
       "35_55   0.005411  0.000165 -20.769876  0.035128\n",
       "55_75   0.006415  0.000250 -20.930254  0.034059\n",
       "75_100  0.006758  0.000305 -21.065415  0.029880\n",
       "30_80   0.005598  0.000319 -20.900640  0.062364"
      ]
     },
     "execution_count": 30,
     "metadata": {},
     "output_type": "execute_result"
    }
   ],
   "source": [
    "GAL_FIT_VALS"
   ]
  },
  {
   "cell_type": "code",
   "execution_count": 31,
   "metadata": {},
   "outputs": [],
   "source": [
    "GAL_FIT_VALS['PHI_ufl']=0\n",
    "GAL_FIT_VALS['M_ufl']=0"
   ]
  },
  {
   "cell_type": "code",
   "execution_count": 32,
   "metadata": {},
   "outputs": [],
   "source": [
    "LCBG_FIT_VALS['PHI_ufl']=0\n",
    "LCBG_FIT_VALS['M_ufl']=0"
   ]
  },
  {
   "cell_type": "code",
   "execution_count": 33,
   "metadata": {},
   "outputs": [],
   "source": [
    "LCBG_FIT_VALS['PHI_ufl']=LCBG_FIT_VALS.loc[:,'PHI_ufl'].astype(object)\n",
    "LCBG_FIT_VALS['M_ufl']=LCBG_FIT_VALS.loc[:,'M_ufl'].astype(object)"
   ]
  },
  {
   "cell_type": "code",
   "execution_count": 34,
   "metadata": {},
   "outputs": [],
   "source": [
    "GAL_FIT_VALS['PHI_ufl']=GAL_FIT_VALS.loc[:,'PHI_ufl'].astype(object)\n",
    "GAL_FIT_VALS['M_ufl']=GAL_FIT_VALS.loc[:,'M_ufl'].astype(object)"
   ]
  },
  {
   "cell_type": "code",
   "execution_count": 35,
   "metadata": {},
   "outputs": [
    {
     "name": "stdout",
     "output_type": "stream",
     "text": [
      "10_35\n",
      "35_55\n",
      "55_75\n",
      "75_100\n",
      "30_80\n"
     ]
    }
   ],
   "source": [
    "for index in GAL_LFS_INDEX:\n",
    "    tmpindex=index.split('LF_')[-1]\n",
    "    print(tmpindex)\n",
    "    GAL_FIT_VALS.loc[tmpindex,\n",
    "                     'NGAL']=GAL_LFS[index]['Number_Of_Gals'].sum()\n",
    "    GAL_FIT_VALS.loc[tmpindex,\n",
    "                     'NGAL_BELOW_BIAS']=GAL_LFS[index].loc[GAL_LFS[index].Absolute_Magnitude_Bin<GAL_BIAS_CUTOFF[index],'Number_Of_Gals'].sum()\n",
    "    GAL_FIT_VALS.loc[tmpindex,\n",
    "                     'WEIGHTED_NGAL']=sum(CATALOG.loc[(CATALOG.Z_BEST>float(tmpindex.split('_')[0])/100)&\n",
    "                                                      (CATALOG.Z_USE<3)&\n",
    "                                                      (CATALOG.SG_MASTER==0)&\n",
    "                                                      (CATALOG.Z_BEST<float(tmpindex.split('_')[1])/100)&\n",
    "                                                      (CATALOG.subaru_i_mag<22.5)&\n",
    "                                                      (CATALOG.subaru_i_mag>15.),\n",
    "                                                      'Spec_Weight'].dropna())\n",
    "    GAL_FIT_VALS.loc[tmpindex,\n",
    "                     'PHI_ufl']=uncertainties.ufloat(GAL_FIT_VALS.loc[tmpindex,'PHI'],\n",
    "                                                        float(GAL_FIT_VALS.loc[tmpindex,'PHI_unc']))\n",
    "    GAL_FIT_VALS.loc[tmpindex,'M_ufl']=uncertainties.ufloat(float(GAL_FIT_VALS.loc[tmpindex,'M']),float(GAL_FIT_VALS.loc[tmpindex,'M_unc']))\n",
    "    GAL_FIT_VALS.loc[tmpindex,\n",
    "                     'INT_NUM_DENS_EIGHTEENFIVE']=integratethings(GAL_FIT_VALS.loc[tmpindex,'PHI_ufl'],\n",
    "                                                                  GAL_FIT_VALS.loc[tmpindex,'M_ufl'],\n",
    "                                                                  al=GAL_ALPHA,\n",
    "                                                                  m=-18.5)\n",
    "    GAL_FIT_VALS.loc[tmpindex,\n",
    "                     'INT_NUM_DENS_FIFTEEN']=integratethings(GAL_FIT_VALS.loc[tmpindex,'PHI_ufl'],\n",
    "                                                                  GAL_FIT_VALS.loc[tmpindex,'M_ufl'],\n",
    "                                                                  al=GAL_ALPHA,\n",
    "                                                                  m=-15)\n",
    "    GAL_FIT_VALS.loc[tmpindex,\n",
    "                     'ave_z']=(float(tmpindex.split('_')[0])+float(tmpindex.split('_')[1]))/200\n",
    "    GAL_FIT_VALS.loc[tmpindex,\n",
    "                     'low_z']=float(tmpindex.split('_')[0])/100\n",
    "    GAL_FIT_VALS.loc[tmpindex,\n",
    "                     'high_z']=float(tmpindex.split('_')[1])/100"
   ]
  },
  {
   "cell_type": "code",
   "execution_count": 40,
   "metadata": {},
   "outputs": [],
   "source": [
    "for index in LCBG_LFS_INDEX:\n",
    "    tmpindex=index.split('LF_')[-1]\n",
    "    LCBG_FIT_VALS.loc[tmpindex,\n",
    "                      'NGAL']=LCBG_LFS[index].loc[:,\n",
    "                                                  'Number_Of_Gals'].sum()\n",
    "    LCBG_FIT_VALS.loc[tmpindex,\n",
    "                      'NGAL_BELOW_BIAS']=LCBG_LFS[index].loc[LCBG_LFS[index].Absolute_Magnitude_Bin<LCBG_BIAS_CUTOFF[index],\n",
    "                                                             'Number_Of_Gals'].sum()\n",
    "    LCBG_FIT_VALS.loc[tmpindex,\n",
    "                      'WEIGHTED_NGAL']=sum((CATALOG.loc[(CATALOG.Z_BEST>float(tmpindex.split('_')[0])/100)&\n",
    "                                                        (CATALOG.Z_USE<3)&\n",
    "                                                        (CATALOG.SG_MASTER==0)&\n",
    "                                                        (CATALOG.Z_BEST<float(tmpindex.split('_')[1])/100)&\n",
    "                                                        (CATALOG.is_LCBG==1)&\n",
    "                                                        (CATALOG.subaru_i_mag<22.5)&\n",
    "                                                        (CATALOG.subaru_i_mag>15.),\n",
    "                                                        'Spec_Weight']*CATALOG.loc[(CATALOG.Z_BEST>float(tmpindex.split('_')[0])/100)&\n",
    "                                                                                   (CATALOG.Z_USE<3)&\n",
    "                                                                                   (CATALOG.SG_MASTER==0)&\n",
    "                                                                                   (CATALOG.Z_BEST<float(tmpindex.split('_')[1])/100)&\n",
    "                                                                                   (CATALOG.is_LCBG==1)&\n",
    "                                                                                   (CATALOG.subaru_i_mag<22.5)&\n",
    "                                                                                   (CATALOG.subaru_i_mag>15.),\n",
    "                                                                                    'Surface_Brightness_Weight']*CATALOG.loc[(CATALOG.Z_BEST>float(tmpindex.split('_')[0])/100)&\n",
    "                                                                                                                             (CATALOG.Z_USE<3)&\n",
    "                                                                                                                             (CATALOG.SG_MASTER==0)&\n",
    "                                                                                                                             ((CATALOG.Z_BEST<float(tmpindex.split('_')[1]))/100)&\n",
    "                                                                                                                             (CATALOG.is_LCBG==1)&\n",
    "                                                                                                                             (CATALOG.subaru_i_mag<22.5)&\n",
    "                                                                                                                             (CATALOG.subaru_i_mag>15.),\n",
    "                                                                                                                             'Color_Weight']).dropna())\n",
    "    LCBG_FIT_VALS.loc[tmpindex,\n",
    "                      'PHI_ufl']=uncertainties.ufloat(LCBG_FIT_VALS.loc[tmpindex,\n",
    "                                                              'PHI'],\n",
    "                                            LCBG_FIT_VALS.loc[tmpindex,\n",
    "                                                              'PHI_unc'])\n",
    "    LCBG_FIT_VALS.loc[tmpindex,\n",
    "                      'M_ufl']=uncertainties.ufloat(LCBG_FIT_VALS.loc[tmpindex,\n",
    "                                                            'M'],\n",
    "                                          LCBG_FIT_VALS.loc[tmpindex,\n",
    "                                                            'M_unc'])\n",
    "    LCBG_FIT_VALS.loc[tmpindex,\n",
    "                     'INT_NUM_DENS_EIGHTEENFIVE']=integratethings(LCBG_FIT_VALS.loc[tmpindex,'PHI_ufl'],\n",
    "                                                                  LCBG_FIT_VALS.loc[tmpindex,'M_ufl'],\n",
    "                                                                  al=LCBG_ALPHA,\n",
    "                                                                  m=-18.5)\n",
    "    LCBG_FIT_VALS.loc[tmpindex,\n",
    "                     'INT_NUM_DENS_EIGHTEENFIVE_val']=integratethings(LCBG_FIT_VALS.loc[tmpindex,'PHI_ufl'],\n",
    "                                                                  LCBG_FIT_VALS.loc[tmpindex,'M_ufl'],\n",
    "                                                                  al=LCBG_ALPHA,\n",
    "                                                                  m=-18.5).nominal_value\n",
    "    LCBG_FIT_VALS.loc[tmpindex,\n",
    "                     'INT_NUM_DENS_EIGHTEENFIVE_err']=integratethings(LCBG_FIT_VALS.loc[tmpindex,'PHI_ufl'],\n",
    "                                                                  LCBG_FIT_VALS.loc[tmpindex,'M_ufl'],\n",
    "                                                                  al=LCBG_ALPHA,\n",
    "                                                                  m=-18.5).std_dev\n",
    "    LCBG_FIT_VALS.loc[tmpindex,\n",
    "                     'ave_z']=(float(tmpindex.split('_')[0])+float(tmpindex.split('_')[1]))/200\n",
    "    LCBG_FIT_VALS.loc[tmpindex,\n",
    "                     'low_z']=float(tmpindex.split('_')[0])/100\n",
    "    LCBG_FIT_VALS.loc[tmpindex,\n",
    "                     'high_z']=float(tmpindex.split('_')[1])/100"
   ]
  },
  {
   "cell_type": "code",
   "execution_count": 41,
   "metadata": {},
   "outputs": [
    {
     "data": {
      "text/html": [
       "<div>\n",
       "<style scoped>\n",
       "    .dataframe tbody tr th:only-of-type {\n",
       "        vertical-align: middle;\n",
       "    }\n",
       "\n",
       "    .dataframe tbody tr th {\n",
       "        vertical-align: top;\n",
       "    }\n",
       "\n",
       "    .dataframe thead th {\n",
       "        text-align: right;\n",
       "    }\n",
       "</style>\n",
       "<table border=\"1\" class=\"dataframe\">\n",
       "  <thead>\n",
       "    <tr style=\"text-align: right;\">\n",
       "      <th></th>\n",
       "      <th>PHI</th>\n",
       "      <th>PHI_unc</th>\n",
       "      <th>M</th>\n",
       "      <th>M_unc</th>\n",
       "      <th>PHI_ufl</th>\n",
       "      <th>M_ufl</th>\n",
       "      <th>NGAL</th>\n",
       "      <th>NGAL_BELOW_BIAS</th>\n",
       "      <th>WEIGHTED_NGAL</th>\n",
       "      <th>INT_NUM_DENS_EIGHTEENFIVE</th>\n",
       "      <th>INT_NUM_DENS_EIGHTEENFIVE_val</th>\n",
       "      <th>INT_NUM_DENS_EIGHTEENFIVE_err</th>\n",
       "      <th>ave_z</th>\n",
       "      <th>low_z</th>\n",
       "      <th>high_z</th>\n",
       "      <th>Weighted_Fraction_LCBGS</th>\n",
       "      <th>Fraction_LCBGS</th>\n",
       "      <th>WEIGHTED_NGAL_NOMAG</th>\n",
       "    </tr>\n",
       "  </thead>\n",
       "  <tbody>\n",
       "    <tr>\n",
       "      <th>10_35_LCBG</th>\n",
       "      <td>0.001410</td>\n",
       "      <td>0.000068</td>\n",
       "      <td>-20.469905</td>\n",
       "      <td>0.063634</td>\n",
       "      <td>0.00141+/-0.00007</td>\n",
       "      <td>-20.47+/-0.06</td>\n",
       "      <td>319.0</td>\n",
       "      <td>319.0</td>\n",
       "      <td>533.246165</td>\n",
       "      <td>0.00197+/-0.00012</td>\n",
       "      <td>0.001965</td>\n",
       "      <td>0.000118</td>\n",
       "      <td>0.225</td>\n",
       "      <td>0.10</td>\n",
       "      <td>0.35</td>\n",
       "      <td>0.101622</td>\n",
       "      <td>0.079078</td>\n",
       "      <td>533.246165</td>\n",
       "    </tr>\n",
       "    <tr>\n",
       "      <th>35_55_LCBG</th>\n",
       "      <td>0.002077</td>\n",
       "      <td>0.000047</td>\n",
       "      <td>-20.554817</td>\n",
       "      <td>0.025851</td>\n",
       "      <td>0.00208+/-0.00005</td>\n",
       "      <td>-20.555+/-0.026</td>\n",
       "      <td>880.0</td>\n",
       "      <td>785.0</td>\n",
       "      <td>1580.104348</td>\n",
       "      <td>0.00303+/-0.00008</td>\n",
       "      <td>0.003034</td>\n",
       "      <td>0.000081</td>\n",
       "      <td>0.450</td>\n",
       "      <td>0.35</td>\n",
       "      <td>0.55</td>\n",
       "      <td>0.285685</td>\n",
       "      <td>0.212406</td>\n",
       "      <td>1580.104348</td>\n",
       "    </tr>\n",
       "    <tr>\n",
       "      <th>55_75_LCBG</th>\n",
       "      <td>0.003932</td>\n",
       "      <td>0.000245</td>\n",
       "      <td>-20.494007</td>\n",
       "      <td>0.046844</td>\n",
       "      <td>0.00393+/-0.00025</td>\n",
       "      <td>-20.49+/-0.05</td>\n",
       "      <td>1098.0</td>\n",
       "      <td>935.0</td>\n",
       "      <td>2102.051880</td>\n",
       "      <td>0.0056+/-0.0004</td>\n",
       "      <td>0.005554</td>\n",
       "      <td>0.000375</td>\n",
       "      <td>0.650</td>\n",
       "      <td>0.55</td>\n",
       "      <td>0.75</td>\n",
       "      <td>0.378922</td>\n",
       "      <td>0.275188</td>\n",
       "      <td>2102.051880</td>\n",
       "    </tr>\n",
       "    <tr>\n",
       "      <th>75_100_LCBG</th>\n",
       "      <td>0.005133</td>\n",
       "      <td>0.000498</td>\n",
       "      <td>-20.603692</td>\n",
       "      <td>0.054005</td>\n",
       "      <td>0.0051+/-0.0005</td>\n",
       "      <td>-20.60+/-0.05</td>\n",
       "      <td>941.0</td>\n",
       "      <td>894.0</td>\n",
       "      <td>1899.438435</td>\n",
       "      <td>0.0077+/-0.0008</td>\n",
       "      <td>0.007696</td>\n",
       "      <td>0.000779</td>\n",
       "      <td>0.875</td>\n",
       "      <td>0.75</td>\n",
       "      <td>1.00</td>\n",
       "      <td>0.438202</td>\n",
       "      <td>0.314716</td>\n",
       "      <td>1899.438435</td>\n",
       "    </tr>\n",
       "    <tr>\n",
       "      <th>30_80</th>\n",
       "      <td>0.002272</td>\n",
       "      <td>0.000202</td>\n",
       "      <td>-20.688162</td>\n",
       "      <td>0.088077</td>\n",
       "      <td>0.00227+/-0.00020</td>\n",
       "      <td>-20.69+/-0.09</td>\n",
       "      <td>2301.0</td>\n",
       "      <td>1507.0</td>\n",
       "      <td>4263.983624</td>\n",
       "      <td>0.00356+/-0.00035</td>\n",
       "      <td>0.003560</td>\n",
       "      <td>0.000355</td>\n",
       "      <td>0.550</td>\n",
       "      <td>0.30</td>\n",
       "      <td>0.80</td>\n",
       "      <td>0.311718</td>\n",
       "      <td>0.228432</td>\n",
       "      <td>4263.983624</td>\n",
       "    </tr>\n",
       "  </tbody>\n",
       "</table>\n",
       "</div>"
      ],
      "text/plain": [
       "                  PHI   PHI_unc          M     M_unc            PHI_ufl  \\\n",
       "10_35_LCBG   0.001410  0.000068 -20.469905  0.063634  0.00141+/-0.00007   \n",
       "35_55_LCBG   0.002077  0.000047 -20.554817  0.025851  0.00208+/-0.00005   \n",
       "55_75_LCBG   0.003932  0.000245 -20.494007  0.046844  0.00393+/-0.00025   \n",
       "75_100_LCBG  0.005133  0.000498 -20.603692  0.054005    0.0051+/-0.0005   \n",
       "30_80        0.002272  0.000202 -20.688162  0.088077  0.00227+/-0.00020   \n",
       "\n",
       "                       M_ufl    NGAL  NGAL_BELOW_BIAS  WEIGHTED_NGAL  \\\n",
       "10_35_LCBG     -20.47+/-0.06   319.0            319.0     533.246165   \n",
       "35_55_LCBG   -20.555+/-0.026   880.0            785.0    1580.104348   \n",
       "55_75_LCBG     -20.49+/-0.05  1098.0            935.0    2102.051880   \n",
       "75_100_LCBG    -20.60+/-0.05   941.0            894.0    1899.438435   \n",
       "30_80          -20.69+/-0.09  2301.0           1507.0    4263.983624   \n",
       "\n",
       "            INT_NUM_DENS_EIGHTEENFIVE  INT_NUM_DENS_EIGHTEENFIVE_val  \\\n",
       "10_35_LCBG          0.00197+/-0.00012                       0.001965   \n",
       "35_55_LCBG          0.00303+/-0.00008                       0.003034   \n",
       "55_75_LCBG            0.0056+/-0.0004                       0.005554   \n",
       "75_100_LCBG           0.0077+/-0.0008                       0.007696   \n",
       "30_80               0.00356+/-0.00035                       0.003560   \n",
       "\n",
       "             INT_NUM_DENS_EIGHTEENFIVE_err  ave_z  low_z  high_z  \\\n",
       "10_35_LCBG                        0.000118  0.225   0.10    0.35   \n",
       "35_55_LCBG                        0.000081  0.450   0.35    0.55   \n",
       "55_75_LCBG                        0.000375  0.650   0.55    0.75   \n",
       "75_100_LCBG                       0.000779  0.875   0.75    1.00   \n",
       "30_80                             0.000355  0.550   0.30    0.80   \n",
       "\n",
       "             Weighted_Fraction_LCBGS  Fraction_LCBGS  WEIGHTED_NGAL_NOMAG  \n",
       "10_35_LCBG                  0.101622        0.079078           533.246165  \n",
       "35_55_LCBG                  0.285685        0.212406          1580.104348  \n",
       "55_75_LCBG                  0.378922        0.275188          2102.051880  \n",
       "75_100_LCBG                 0.438202        0.314716          1899.438435  \n",
       "30_80                       0.311718        0.228432          4263.983624  "
      ]
     },
     "execution_count": 41,
     "metadata": {},
     "output_type": "execute_result"
    }
   ],
   "source": [
    "LCBG_FIT_VALS"
   ]
  },
  {
   "cell_type": "code",
   "execution_count": 37,
   "metadata": {},
   "outputs": [],
   "source": [
    "LCBG_FIT_VALS['Weighted_Fraction_LCBGS']=LCBG_FIT_VALS.loc[:,'WEIGHTED_NGAL'].values/GAL_FIT_VALS.loc[:,'WEIGHTED_NGAL'].values\n",
    "LCBG_FIT_VALS['Fraction_LCBGS']=LCBG_FIT_VALS.loc[:,'NGAL'].values/GAL_FIT_VALS.loc[:,'NGAL'].values"
   ]
  },
  {
   "cell_type": "code",
   "execution_count": 38,
   "metadata": {},
   "outputs": [],
   "source": [
    "LCBG_FIT_VALS.to_csv('./lumfunc_fit_params/lcbg_lumfunc_fit.csv')"
   ]
  },
  {
   "cell_type": "code",
   "execution_count": 39,
   "metadata": {},
   "outputs": [],
   "source": [
    "GAL_FIT_VALS.to_csv('./lumfunc_fit_params/gal_lumfunc_fit.csv')"
   ]
  }
 ],
 "metadata": {
  "kernelspec": {
   "display_name": "Python 3",
   "language": "python",
   "name": "python3"
  },
  "language_info": {
   "codemirror_mode": {
    "name": "ipython",
    "version": 3
   },
   "file_extension": ".py",
   "mimetype": "text/x-python",
   "name": "python",
   "nbconvert_exporter": "python",
   "pygments_lexer": "ipython3",
   "version": "3.7.3"
  }
 },
 "nbformat": 4,
 "nbformat_minor": 2
}
