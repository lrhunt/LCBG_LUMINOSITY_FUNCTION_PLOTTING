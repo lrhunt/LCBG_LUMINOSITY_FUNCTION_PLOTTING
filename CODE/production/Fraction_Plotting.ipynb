{
 "cells": [
  {
   "cell_type": "code",
   "execution_count": 8,
   "metadata": {},
   "outputs": [],
   "source": [
    "import numpy as np\n",
    "import astropy as ap\n",
    "import matplotlib.pyplot as plt\n",
    "import matplotlib.gridspec as gridspec\n",
    "import math as m\n",
    "import argparse\n",
    "from astropy.modeling.fitting import LevMarLSQFitter\n",
    "from astropy.modeling.models import custom_model\n",
    "from matplotlib.backends.backend_pdf import PdfPages\n",
    "import scipy as sp\n",
    "from scipy import integrate\n",
    "import uncertainties as unc\n",
    "import uncertainties\n",
    "from uncertainties import unumpy as unp\n",
    "import kcorrect\n",
    "import kcorrect.utils as ut\n",
    "from astropy.cosmology import FlatLambdaCDM\n",
    "import pandas as pd\n",
    "import matplotlib as mp\n",
    "import os"
   ]
  },
  {
   "cell_type": "code",
   "execution_count": 9,
   "metadata": {},
   "outputs": [],
   "source": [
    "plt.style.use('seaborn-whitegrid')\n",
    "plt.style.use('default')\n",
    "params = {\n",
    "    'axes.labelsize': 11,\n",
    "    'legend.fontsize': 12,\n",
    "    'xtick.labelsize': 13,\n",
    "    'ytick.labelsize': 13,\n",
    "    'text.usetex': True,\n",
    "    'figure.figsize': [7, 4], # instead of 4.5, 4.5\n",
    "    'grid.linestyle': ':',\n",
    "    'axes.edgecolor' : '0',\n",
    "    'font.family':'serif',\n",
    "    'font.serif':'Computer Modern'\n",
    "    }\n",
    "mp.rcParams.update(params)"
   ]
  },
  {
   "cell_type": "code",
   "execution_count": 10,
   "metadata": {},
   "outputs": [],
   "source": [
    "PARAM_DIR='/home/lrhunt/Projects/LCBG_LUMINOSITY_FUNCTION_PLOTTING/CODE/production/lumfunc_fit_params/'"
   ]
  },
  {
   "cell_type": "code",
   "execution_count": 11,
   "metadata": {},
   "outputs": [],
   "source": [
    "LCBG_FIT_VALS=pd.read_csv(PARAM_DIR+'lcbg_lumfunc_fit.csv',index_col=0)\n",
    "GAL_FIT_VALS=pd.read_csv(PARAM_DIR+'gal_lumfunc_fit.csv',index_col=0)"
   ]
  },
  {
   "cell_type": "code",
   "execution_count": 12,
   "metadata": {},
   "outputs": [],
   "source": [
    "def autolabel(rects,thecolor,lcbgs,gals,ax):\n",
    "     i=0\n",
    "     for rect in rects:\n",
    "          height=rect.get_height()\n",
    "          print(height)\n",
    "          if not m.isinf(height):\n",
    "               axes[ax].text(rect.get_x() + rect.get_width()/2.,\n",
    "                             height+0.07,\n",
    "                             '{}'.format(lcbgs[i]) ,\n",
    "                             ha='center',\n",
    "                             va='bottom',\n",
    "                             fontsize='small',\n",
    "                             color=thecolor)\n",
    "               axes[ax].text(rect.get_x() + rect.get_width()/2.,\n",
    "                             height+0.03,\n",
    "                             '{}'.format(gals[i]) ,\n",
    "                             ha='center',\n",
    "                             va='bottom',\n",
    "                             fontsize='small',\n",
    "                             color=thecolor)\n",
    "               i=i+1\n",
    "\n",
    "def autolabel2(rects,fraction,ax):\n",
    "    i=0\n",
    "    for rect in rects:\n",
    "        height=rect.get_height()\n",
    "        print(height)\n",
    "        if not m.isinf(height):\n",
    "            axes[ax].text(rect.get_x() + rect.get_width()/2.,height+0.01,\n",
    "                          '{}'.format(fraction[i]) ,\n",
    "                          ha='center',\n",
    "                          va='bottom',\n",
    "                          fontsize='small')\n",
    "            i=i+1\n",
    "\n"
   ]
  },
  {
   "cell_type": "code",
   "execution_count": 13,
   "metadata": {},
   "outputs": [],
   "source": [
    "def autolabel(rects,thecolor,lcbgs,gals):\n",
    "     i=0\n",
    "     for rect in rects:\n",
    "          height=rect.get_height()\n",
    "          print(height)\n",
    "          if not m.isinf(height):\n",
    "               ax.text(rect.get_x() + rect.get_width()/2.,\n",
    "                             height+0.008,\n",
    "                             '{}'.format(lcbgs[i]) ,\n",
    "                             ha='center',\n",
    "                             va='bottom',\n",
    "                             fontsize='medium',\n",
    "                             color=thecolor)\n",
    "               ax.text(rect.get_x() + rect.get_width()/2.,\n",
    "                             height+0.001,\n",
    "                             '{}'.format(gals[i]) ,\n",
    "                             ha='center',\n",
    "                             va='bottom',\n",
    "                             fontsize='medium',\n",
    "                             color=thecolor)\n",
    "               i=i+1"
   ]
  },
  {
   "cell_type": "code",
   "execution_count": 14,
   "metadata": {},
   "outputs": [
    {
     "name": "stdout",
     "output_type": "stream",
     "text": [
      "0.10162199906907572\n",
      "0.285684873859368\n",
      "0.3789217217000309\n",
      "0.4382024697138905\n"
     ]
    },
    {
     "name": "stderr",
     "output_type": "stream",
     "text": [
      "/home/lrhunt/programs/anaconda3/lib/python3.7/site-packages/matplotlib/font_manager.py:1241: UserWarning: findfont: Font family ['serif'] not found. Falling back to DejaVu Sans.\n",
      "  (prop.get_family(), self.defaultFamily[fontext]))\n"
     ]
    },
    {
     "data": {
      "image/png": "[encoded data removed]",
      "text/plain": [
       "<Figure size 850x800 with 1 Axes>"
      ]
     },
     "metadata": {},
     "output_type": "display_data"
    }
   ],
   "source": [
    "guzmanerror=12.0/21.0*102.0/301.0*np.sqrt(12.0/12.0**2+21.0/21.0**2+102.0/102.0**2+301.0/301.0**2)\n",
    "guzman=12.0/21.0*102.0/301.0\n",
    "tolerud=199/1744.\n",
    "toleruderror=199./1744.*np.sqrt(199./199.**2+1744./1744.**2)\n",
    "\n",
    "f,ax=plt.subplots(figsize=(8.5,8))\n",
    "rects=ax.bar(LCBG_FIT_VALS.loc[[ind for ind in LCBG_FIT_VALS.index if 'LCBG' in ind],'ave_z'],\n",
    "       LCBG_FIT_VALS.loc[[ind for ind in LCBG_FIT_VALS.index if 'LCBG' in ind],'Weighted_Fraction_LCBGS'],\n",
    "       width=LCBG_FIT_VALS.loc[[ind for ind in LCBG_FIT_VALS.index if 'LCBG' in ind],'low_z']-LCBG_FIT_VALS.loc[[ind for ind in LCBG_FIT_VALS.index if 'LCBG' in ind],'high_z'],\n",
    "       color='white',\n",
    "      edgecolor='black')\n",
    "ax.errorbar(0.594,guzman,yerr=guzmanerror,xerr=[[0.594-0.4],[1-0.594]],label='Guzm$\\`{a}$n, 1997',color='blue')\n",
    "ax.errorbar(0.5,tolerud,yerr=toleruderror,xerr=[[0.1],[0.5]],label='Tollerud, 2010',color='green')\n",
    "ax.set_xlim([0,1])\n",
    "ax.set_xticks([0,0.1,0.2,0.3,0.4,0.5,0.6,0.7,0.8,0.9,1.0])\n",
    "autolabel(rects,\n",
    "          'blue',\n",
    "          LCBG_FIpT_VALS.loc[[ind for ind in LCBG_FIT_VALS.index if 'LCBG' in ind],\n",
    "                            'WEIGHTED_NGAL'].values.round(),\n",
    "          GAL_FIT_VALS.loc[[ind for ind in GAL_FIT_VALS.index if '30' not in ind],\n",
    "                           'WEIGHTED_NGAL'].values.round())\n",
    "#plt.xlabel('Redshift',fontsize=16)\t\n",
    "#plt.ylabel('N (Mpc$^{-3}$)',fontsize=16)\n",
    "#plt.legend(loc='2')\n",
    "plt.subplots_adjust(right=0.98,left=0.13,top=0.97,bottom=0.07)\n",
    "#plt.savefig('/home/lrhunt/Projects/LCBG_LUMINOSITY_FUNCTION_PLOTTING/PLOTS/PAPER/Number_Density.pdf')"
   ]
  },
  {
   "cell_type": "code",
   "execution_count": null,
   "metadata": {},
   "outputs": [],
   "source": []
  }
 ],
 "metadata": {
  "kernelspec": {
   "display_name": "Python 3",
   "language": "python",
   "name": "python3"
  },
  "language_info": {
   "codemirror_mode": {
    "name": "ipython",
    "version": 3
   },
   "file_extension": ".py",
   "mimetype": "text/x-python",
   "name": "python",
   "nbconvert_exporter": "python",
   "pygments_lexer": "ipython3",
   "version": "3.7.3"
  }
 },
 "nbformat": 4,
 "nbformat_minor": 2
}
