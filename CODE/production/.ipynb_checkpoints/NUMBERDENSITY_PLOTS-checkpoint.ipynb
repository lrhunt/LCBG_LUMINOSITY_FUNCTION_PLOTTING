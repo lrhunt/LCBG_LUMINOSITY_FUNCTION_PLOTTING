{
 "cells": [
  {
   "cell_type": "code",
   "execution_count": 1,
   "metadata": {},
   "outputs": [],
   "source": [
    "import numpy as np\n",
    "import astropy as ap\n",
    "import matplotlib.pyplot as plt\n",
    "import matplotlib.gridspec as gridspec\n",
    "import math as m\n",
    "import argparse\n",
    "from astropy.modeling.fitting import LevMarLSQFitter\n",
    "from astropy.modeling.models import custom_model\n",
    "from matplotlib.backends.backend_pdf import PdfPages\n",
    "import scipy as sp\n",
    "from scipy import integrate\n",
    "import uncertainties as unc\n",
    "import uncertainties\n",
    "from uncertainties import unumpy as unp\n",
    "import kcorrect\n",
    "import kcorrect.utils as ut\n",
    "from astropy.cosmology import FlatLambdaCDM\n",
    "import pandas as pd\n",
    "import matplotlib as mp\n",
    "import os"
   ]
  },
  {
   "cell_type": "code",
   "execution_count": 2,
   "metadata": {},
   "outputs": [],
   "source": [
    "plt.style.use('seaborn-whitegrid')\n",
    "plt.style.use('default')\n",
    "params = {\n",
    "    'axes.labelsize': 11,\n",
    "    'legend.fontsize': 12,\n",
    "    'xtick.labelsize': 13,\n",
    "    'ytick.labelsize': 13,\n",
    "    'text.usetex': True,\n",
    "    'figure.figsize': [7, 4], # instead of 4.5, 4.5\n",
    "    'grid.linestyle': ':',\n",
    "    'axes.edgecolor' : '0',\n",
    "    'font.family':'serif',\n",
    "    'font.serif':'Computer Modern'\n",
    "    }\n",
    "mp.rcParams.update(params)"
   ]
  },
  {
   "cell_type": "code",
   "execution_count": 3,
   "metadata": {},
   "outputs": [],
   "source": [
    "cosmo=FlatLambdaCDM(H0=70.0,Om0=0.3)\n",
    "fit=LevMarLSQFitter()\n",
    "GAL_ALPHA=-1.05\n",
    "LCBG_ALPHA=-1.0"
   ]
  },
  {
   "cell_type": "code",
   "execution_count": 121,
   "metadata": {},
   "outputs": [],
   "source": [
    "@uncertainties.wrap\n",
    "def integratethings(ps,ms,al=None,m=None):\n",
    "    if al==None:\n",
    "        al=-1.1\n",
    "    if m==None:\n",
    "        m=-18.5\n",
    "    def integrand(X):\n",
    "        return (0.4*np.log(10)*ps)*(10**(0.4*(al+1)*(ms-X)))*(np.e**(-np.power(10,0.4*(ms-X))))\n",
    "    integral,abserr=sp.integrate.quad(integrand,-100,m)\n",
    "    return integral"
   ]
  },
  {
   "cell_type": "code",
   "execution_count": 122,
   "metadata": {},
   "outputs": [
    {
     "name": "stdout",
     "output_type": "stream",
     "text": [
      "LF_10_35_LCBG.csv\n",
      "LF_35_55_LCBG.csv\n",
      "LF_55_75_LCBG.csv\n",
      "LF_75_100_LCBG.csv\n",
      "zLF_30_80.csv\n"
     ]
    }
   ],
   "source": [
    "LCBG_DIR='/home/lrhunt/Projects/LCBG_LUMINOSITY_FUNCTION/LCBGLFOUT/apmag225/zucca_z_bins/'\n",
    "LCBG_LFS={}\n",
    "LCBG_LFS_INDEX=[]\n",
    "for file in os.listdir(LCBG_DIR):\n",
    "    if file.endswith('csv'):\n",
    "        print(file)\n",
    "        LCBG_LFS[file.split('.csv')[0]]=pd.read_csv(LCBG_DIR+'/'+file)\n",
    "        LCBG_LFS_INDEX.append(file.split('.csv')[0])\n",
    "    if file.endswith('.xlsx'):\n",
    "        LCBG_FIT_VALS=pd.read_excel(LCBG_DIR+file,index_col=0)"
   ]
  },
  {
   "cell_type": "code",
   "execution_count": 123,
   "metadata": {},
   "outputs": [
    {
     "name": "stdout",
     "output_type": "stream",
     "text": [
      "LF_1_20_LCBG.csv\n",
      "LF_20_40_LCBG.csv\n",
      "LF_40_60_LCBG.csv\n",
      "LF_60_80_LCBG.csv\n",
      "LF_80_100_LCBG.csv\n"
     ]
    }
   ],
   "source": [
    "ORIG_LCBG_DIR='/home/lrhunt/Projects/LCBG_LUMINOSITY_FUNCTION/LCBGLFOUT/apmag225/orig_z_bins/'\n",
    "ORIG_LCBG_LFS={}\n",
    "ORIG_LCBG_LFS_INDEX=[]\n",
    "for file in os.listdir(ORIG_LCBG_DIR):\n",
    "    if file.endswith('csv'):\n",
    "        print(file)\n",
    "        ORIG_LCBG_LFS[file.split('.csv')[0]]=pd.read_csv(ORIG_LCBG_DIR+'/'+file)\n",
    "        ORIG_LCBG_LFS_INDEX.append(file.split('.csv')[0])\n",
    "    if file.endswith('.xlsx'):\n",
    "        ORIG_LCBG_FIT_VALS=pd.read_excel(ORIG_LCBG_DIR+file,index_col=0)"
   ]
  },
  {
   "cell_type": "code",
   "execution_count": 124,
   "metadata": {},
   "outputs": [],
   "source": [
    "GAL_DIR='/home/lrhunt/Projects/LCBG_LUMINOSITY_FUNCTION/FULLLFOUT/apmag225/zucca_z_bins/'\n",
    "GAL_LFS={}\n",
    "GAL_LFS_INDEX=[]\n",
    "for file in os.listdir(GAL_DIR):\n",
    "    if file.endswith('csv'):\n",
    "        GAL_LFS[file.split('.csv')[0]]=pd.read_csv(GAL_DIR+'/'+file)\n",
    "        GAL_LFS_INDEX.append(file.split('.csv')[0])\n",
    "    if file.endswith('.xlsx'):\n",
    "        GAL_FIT_VALS=pd.read_excel(GAL_DIR+file,index_col=0)"
   ]
  },
  {
   "cell_type": "code",
   "execution_count": 125,
   "metadata": {},
   "outputs": [
    {
     "data": {
      "text/html": [
       "<div>\n",
       "<style scoped>\n",
       "    .dataframe tbody tr th:only-of-type {\n",
       "        vertical-align: middle;\n",
       "    }\n",
       "\n",
       "    .dataframe tbody tr th {\n",
       "        vertical-align: top;\n",
       "    }\n",
       "\n",
       "    .dataframe thead th {\n",
       "        text-align: right;\n",
       "    }\n",
       "</style>\n",
       "<table border=\"1\" class=\"dataframe\">\n",
       "  <thead>\n",
       "    <tr style=\"text-align: right;\">\n",
       "      <th></th>\n",
       "      <th>PHI</th>\n",
       "      <th>PHI_unc</th>\n",
       "      <th>M</th>\n",
       "      <th>M_unc</th>\n",
       "    </tr>\n",
       "  </thead>\n",
       "  <tbody>\n",
       "    <tr>\n",
       "      <th>1_20_LCBG</th>\n",
       "      <td>0.000375</td>\n",
       "      <td>0.000240</td>\n",
       "      <td>-21.088654</td>\n",
       "      <td>1.627725</td>\n",
       "    </tr>\n",
       "    <tr>\n",
       "      <th>20_40_LCBG</th>\n",
       "      <td>0.002035</td>\n",
       "      <td>0.000135</td>\n",
       "      <td>-20.382029</td>\n",
       "      <td>0.083216</td>\n",
       "    </tr>\n",
       "    <tr>\n",
       "      <th>40_60_LCBG</th>\n",
       "      <td>0.001829</td>\n",
       "      <td>0.000092</td>\n",
       "      <td>-20.584714</td>\n",
       "      <td>0.055513</td>\n",
       "    </tr>\n",
       "    <tr>\n",
       "      <th>60_80_LCBG</th>\n",
       "      <td>0.004114</td>\n",
       "      <td>0.000313</td>\n",
       "      <td>-20.496784</td>\n",
       "      <td>0.055083</td>\n",
       "    </tr>\n",
       "    <tr>\n",
       "      <th>80_100_LCBG</th>\n",
       "      <td>0.005855</td>\n",
       "      <td>0.000523</td>\n",
       "      <td>-20.595711</td>\n",
       "      <td>0.049068</td>\n",
       "    </tr>\n",
       "  </tbody>\n",
       "</table>\n",
       "</div>"
      ],
      "text/plain": [
       "                  PHI   PHI_unc          M     M_unc\n",
       "1_20_LCBG    0.000375  0.000240 -21.088654  1.627725\n",
       "20_40_LCBG   0.002035  0.000135 -20.382029  0.083216\n",
       "40_60_LCBG   0.001829  0.000092 -20.584714  0.055513\n",
       "60_80_LCBG   0.004114  0.000313 -20.496784  0.055083\n",
       "80_100_LCBG  0.005855  0.000523 -20.595711  0.049068"
      ]
     },
     "execution_count": 125,
     "metadata": {},
     "output_type": "execute_result"
    }
   ],
   "source": [
    "ORIG_LCBG_FIT_VALS"
   ]
  },
  {
   "cell_type": "code",
   "execution_count": 126,
   "metadata": {},
   "outputs": [],
   "source": [
    "GAL_BIAS_CUTOFF={GAL_LFS_INDEX[0]:-17,\n",
    "                 GAL_LFS_INDEX[1]:-19,\n",
    "                 GAL_LFS_INDEX[2]:-20,\n",
    "                 GAL_LFS_INDEX[3]:-20.5,\n",
    "                 GAL_LFS_INDEX[4]:-20,}\n",
    "LCBG_BIAS_CUTOFF={LCBG_LFS_INDEX[0]:-17,\n",
    "                 LCBG_LFS_INDEX[1]:-19,\n",
    "                 LCBG_LFS_INDEX[2]:-20,\n",
    "                 LCBG_LFS_INDEX[3]:-20.5,\n",
    "                 LCBG_LFS_INDEX[4]:-20,}\n",
    "ORIG_LCBG_BIAS_CUTOFF={ORIG_LCBG_LFS_INDEX[0]:-16,\n",
    "                 ORIG_LCBG_LFS_INDEX[1]:-18,\n",
    "                 ORIG_LCBG_LFS_INDEX[2]:-19.25,\n",
    "                 ORIG_LCBG_LFS_INDEX[3]:-20.,\n",
    "                 ORIG_LCBG_LFS_INDEX[4]:-20.5,}"
   ]
  },
  {
   "cell_type": "code",
   "execution_count": 127,
   "metadata": {},
   "outputs": [],
   "source": [
    "LCBG_FIT_VALS['NGAL']=0\n",
    "GAL_FIT_VALS['NGAL']=0\n",
    "LCBG_FIT_VALS['NGAL_BELOW_BIAS']=0\n",
    "GAL_FIT_VALS['NGAL_BELOW_BIAS']=0\n",
    "ORIG_LCBG_FIT_VALS['NGAL']=0\n",
    "ORIG_LCBG_FIT_VALS['NGAL_BELOW_BIAS']=0"
   ]
  },
  {
   "cell_type": "code",
   "execution_count": 128,
   "metadata": {},
   "outputs": [
    {
     "name": "stdout",
     "output_type": "stream",
     "text": [
      "LF_10_35_LCBG\n",
      "LF_35_55_LCBG\n",
      "LF_55_75_LCBG\n",
      "LF_75_100_LCBG\n",
      "zLF_30_80\n"
     ]
    }
   ],
   "source": [
    "for index in LCBG_LFS_INDEX:\n",
    "    print(index)\n",
    "    LCBG_FIT_VALS.loc[index.split('LF_')[-1],\n",
    "                      'NGAL']=LCBG_LFS[index].loc[:,\n",
    "                                                  'Number_Of_Gals'].sum()\n",
    "    LCBG_FIT_VALS.loc[index.split('LF_')[-1],\n",
    "                      'NGAL_BELOW_BIAS']=LCBG_LFS[index].loc[LCBG_LFS[index].Absolute_Magnitude_Bin<LCBG_BIAS_CUTOFF[index],\n",
    "                                                             'Number_Of_Gals'].sum()\n",
    "    LCBG_FIT_VALS.loc[index.split('LF_')[-1],\n",
    "                      'PHI_unc']=unc.ufloat(LCBG_FIT_VALS.loc[index.split('LF_')[-1],\n",
    "                                                              'PHI'],\n",
    "                                            LCBG_FIT_VALS.loc[index.split('LF_')[-1],\n",
    "                                                              'PHI_unc'])\n",
    "    LCBG_FIT_VALS.loc[index.split('LF_')[-1],\n",
    "                      'M_unc']=unc.ufloat(LCBG_FIT_VALS.loc[index.split('LF_')[-1],\n",
    "                                                            'M'],\n",
    "                                          LCBG_FIT_VALS.loc[index.split('LF_')[-1],\n",
    "                                                            'M_unc'])"
   ]
  },
  {
   "cell_type": "code",
   "execution_count": 129,
   "metadata": {},
   "outputs": [],
   "source": [
    "for index in ORIG_LCBG_LFS_INDEX:\n",
    "    ORIG_LCBG_FIT_VALS.loc[index.split('LF_')[-1],\n",
    "                      'NGAL']=ORIG_LCBG_LFS[index].loc[:,\n",
    "                                                  'Number_Of_Gals'].sum()\n",
    "    ORIG_LCBG_FIT_VALS.loc[index.split('LF_')[-1],\n",
    "                      'NGAL_BELOW_BIAS']=ORIG_LCBG_LFS[index].loc[ORIG_LCBG_LFS[index].Absolute_Magnitude_Bin<ORIG_LCBG_BIAS_CUTOFF[index],\n",
    "                                                             'Number_Of_Gals'].sum()\n",
    "    ORIG_LCBG_FIT_VALS.loc[index.split('LF_')[-1],\n",
    "                      'PHI_unc']=unc.ufloat(ORIG_LCBG_FIT_VALS.loc[index.split('LF_')[-1],\n",
    "                                                              'PHI'],\n",
    "                                            ORIG_LCBG_FIT_VALS.loc[index.split('LF_')[-1],\n",
    "                                                              'PHI_unc'])\n",
    "    ORIG_LCBG_FIT_VALS.loc[index.split('LF_')[-1],\n",
    "                      'M_unc']=unc.ufloat(ORIG_LCBG_FIT_VALS.loc[index.split('LF_')[-1],\n",
    "                                                            'M'],\n",
    "                                          ORIG_LCBG_FIT_VALS.loc[index.split('LF_')[-1],\n",
    "                                                            'M_unc'])"
   ]
  },
  {
   "cell_type": "code",
   "execution_count": 130,
   "metadata": {},
   "outputs": [],
   "source": [
    "for index in GAL_LFS_INDEX:\n",
    "    GAL_FIT_VALS.loc[index.split('LF_')[-1],'NGAL']=GAL_LFS[index]['Number_Of_Gals'].sum()\n",
    "    GAL_FIT_VALS.loc[index.split('LF_')[-1],'NGAL_BELOW_BIAS']=GAL_LFS[index].loc[GAL_LFS[index].Absolute_Magnitude_Bin<GAL_BIAS_CUTOFF[index],'Number_Of_Gals'].sum()\n",
    "    GAL_FIT_VALS.loc[index.split('LF_')[-1],'PHI_unc']=unc.ufloat(GAL_FIT_VALS.loc[index.split('LF_')[-1],'PHI'],GAL_FIT_VALS.loc[index.split('LF_')[-1],'PHI_unc'])\n",
    "    GAL_FIT_VALS.loc[index.split('LF_')[-1],'M_unc']=unc.ufloat(GAL_FIT_VALS.loc[index.split('LF_')[-1],'M'],GAL_FIT_VALS.loc[index.split('LF_')[-1],'M_unc'])"
   ]
  },
  {
   "cell_type": "code",
   "execution_count": 131,
   "metadata": {},
   "outputs": [],
   "source": [
    "for index in GAL_LFS_INDEX:\n",
    "    tmpindex=index.split('LF_')[-1]\n",
    "    GAL_FIT_VALS.loc[tmpindex,\n",
    "                     'INT_NUM_DENS_EIGHTEENFIVE']=integratethings(GAL_FIT_VALS.loc[tmpindex,'PHI_unc'],\n",
    "                                                                  GAL_FIT_VALS.loc[tmpindex,'M_unc'],\n",
    "                                                                  al=GAL_ALPHA,\n",
    "                                                                  m=-18.5)\n",
    "    GAL_FIT_VALS.loc[tmpindex,\n",
    "                     'INT_NUM_DENS_FIFTEEN']=integratethings(GAL_FIT_VALS.loc[tmpindex,'PHI_unc'],\n",
    "                                                                  GAL_FIT_VALS.loc[tmpindex,'M_unc'],\n",
    "                                                                  al=GAL_ALPHA,\n",
    "                                                                  m=-15)"
   ]
  },
  {
   "cell_type": "code",
   "execution_count": 132,
   "metadata": {},
   "outputs": [],
   "source": [
    "for index in LCBG_LFS_INDEX:\n",
    "    tmpindex=index.split('LF_')[-1]\n",
    "    LCBG_FIT_VALS.loc[tmpindex,\n",
    "                     'INT_NUM_DENS_EIGHTEENFIVE']=integratethings(LCBG_FIT_VALS.loc[tmpindex,'PHI_unc'],\n",
    "                                                                  LCBG_FIT_VALS.loc[tmpindex,'M_unc'],\n",
    "                                                                  al=LCBG_ALPHA,\n",
    "                                                                  m=-18.5)\n",
    "    LCBG_FIT_VALS.loc[tmpindex,\n",
    "                     'INT_NUM_DENS_EIGHTEENFIVE_val']=integratethings(LCBG_FIT_VALS.loc[tmpindex,'PHI_unc'],\n",
    "                                                                  LCBG_FIT_VALS.loc[tmpindex,'M_unc'],\n",
    "                                                                  al=LCBG_ALPHA,\n",
    "                                                                  m=-18.5).nominal_value\n",
    "    LCBG_FIT_VALS.loc[tmpindex,\n",
    "                     'INT_NUM_DENS_EIGHTEENFIVE_err']=integratethings(LCBG_FIT_VALS.loc[tmpindex,'PHI_unc'],\n",
    "                                                                  LCBG_FIT_VALS.loc[tmpindex,'M_unc'],\n",
    "                                                                  al=LCBG_ALPHA,\n",
    "                                                                  m=-18.5).std_dev\n",
    "    LCBG_FIT_VALS.loc[tmpindex,\n",
    "                     'ave_z']=(float(tmpindex.split('_')[0])+float(tmpindex.split('_')[1]))/200"
   ]
  },
  {
   "cell_type": "code",
   "execution_count": 133,
   "metadata": {},
   "outputs": [],
   "source": [
    "for index in ORIG_LCBG_LFS_INDEX:\n",
    "    tmpindex=index.split('LF_')[-1]\n",
    "    ORIG_LCBG_FIT_VALS.loc[tmpindex,\n",
    "                     'INT_NUM_DENS_EIGHTEENFIVE']=integratethings(ORIG_LCBG_FIT_VALS.loc[tmpindex,'PHI_unc'],\n",
    "                                                                  ORIG_LCBG_FIT_VALS.loc[tmpindex,'M_unc'],\n",
    "                                                                  al=LCBG_ALPHA,\n",
    "                                                                  m=-18.5)\n",
    "    ORIG_LCBG_FIT_VALS.loc[tmpindex,\n",
    "                     'INT_NUM_DENS_EIGHTEENFIVE_val']=integratethings(ORIG_LCBG_FIT_VALS.loc[tmpindex,'PHI_unc'],\n",
    "                                                                  ORIG_LCBG_FIT_VALS.loc[tmpindex,'M_unc'],\n",
    "                                                                  al=LCBG_ALPHA,\n",
    "                                                                  m=-18.5).nominal_value\n",
    "    ORIG_LCBG_FIT_VALS.loc[tmpindex,\n",
    "                     'INT_NUM_DENS_EIGHTEENFIVE_err']=integratethings(ORIG_LCBG_FIT_VALS.loc[tmpindex,'PHI_unc'],\n",
    "                                                                  ORIG_LCBG_FIT_VALS.loc[tmpindex,'M_unc'],\n",
    "                                                                  al=LCBG_ALPHA,\n",
    "                                                                  m=-18.5).std_dev\n",
    "    ORIG_LCBG_FIT_VALS.loc[tmpindex,\n",
    "                     'ave_z']=(float(tmpindex.split('_')[0])+float(tmpindex.split('_')[1]))/200"
   ]
  },
  {
   "cell_type": "code",
   "execution_count": 134,
   "metadata": {},
   "outputs": [
    {
     "data": {
      "text/html": [
       "<div>\n",
       "<style scoped>\n",
       "    .dataframe tbody tr th:only-of-type {\n",
       "        vertical-align: middle;\n",
       "    }\n",
       "\n",
       "    .dataframe tbody tr th {\n",
       "        vertical-align: top;\n",
       "    }\n",
       "\n",
       "    .dataframe thead th {\n",
       "        text-align: right;\n",
       "    }\n",
       "</style>\n",
       "<table border=\"1\" class=\"dataframe\">\n",
       "  <thead>\n",
       "    <tr style=\"text-align: right;\">\n",
       "      <th></th>\n",
       "      <th>PHI</th>\n",
       "      <th>PHI_unc</th>\n",
       "      <th>M</th>\n",
       "      <th>M_unc</th>\n",
       "      <th>NGAL</th>\n",
       "      <th>NGAL_BELOW_BIAS</th>\n",
       "      <th>INT_NUM_DENS_EIGHTEENFIVE</th>\n",
       "      <th>INT_NUM_DENS_EIGHTEENFIVE_val</th>\n",
       "      <th>INT_NUM_DENS_EIGHTEENFIVE_err</th>\n",
       "      <th>ave_z</th>\n",
       "    </tr>\n",
       "  </thead>\n",
       "  <tbody>\n",
       "    <tr>\n",
       "      <th>1_20_LCBG</th>\n",
       "      <td>0.000375</td>\n",
       "      <td>0.00037+/-0.00024</td>\n",
       "      <td>-21.088654</td>\n",
       "      <td>-21.1+/-1.6</td>\n",
       "      <td>27</td>\n",
       "      <td>27</td>\n",
       "      <td>0.0007+/-0.0007</td>\n",
       "      <td>0.000711</td>\n",
       "      <td>0.000685</td>\n",
       "      <td>0.105</td>\n",
       "    </tr>\n",
       "    <tr>\n",
       "      <th>20_40_LCBG</th>\n",
       "      <td>0.002035</td>\n",
       "      <td>0.00203+/-0.00014</td>\n",
       "      <td>-20.382029</td>\n",
       "      <td>-20.38+/-0.08</td>\n",
       "      <td>543</td>\n",
       "      <td>543</td>\n",
       "      <td>0.00270+/-0.00022</td>\n",
       "      <td>0.002697</td>\n",
       "      <td>0.000222</td>\n",
       "      <td>0.300</td>\n",
       "    </tr>\n",
       "    <tr>\n",
       "      <th>40_60_LCBG</th>\n",
       "      <td>0.001829</td>\n",
       "      <td>0.00183+/-0.00009</td>\n",
       "      <td>-20.584714</td>\n",
       "      <td>-20.58+/-0.06</td>\n",
       "      <td>788</td>\n",
       "      <td>598</td>\n",
       "      <td>0.00271+/-0.00016</td>\n",
       "      <td>0.002714</td>\n",
       "      <td>0.000158</td>\n",
       "      <td>0.500</td>\n",
       "    </tr>\n",
       "    <tr>\n",
       "      <th>60_80_LCBG</th>\n",
       "      <td>0.004114</td>\n",
       "      <td>0.00411+/-0.00031</td>\n",
       "      <td>-20.496784</td>\n",
       "      <td>-20.50+/-0.06</td>\n",
       "      <td>1097</td>\n",
       "      <td>992</td>\n",
       "      <td>0.0058+/-0.0005</td>\n",
       "      <td>0.005820</td>\n",
       "      <td>0.000477</td>\n",
       "      <td>0.700</td>\n",
       "    </tr>\n",
       "    <tr>\n",
       "      <th>80_100_LCBG</th>\n",
       "      <td>0.005855</td>\n",
       "      <td>0.0059+/-0.0005</td>\n",
       "      <td>-20.595711</td>\n",
       "      <td>-20.60+/-0.05</td>\n",
       "      <td>787</td>\n",
       "      <td>775</td>\n",
       "      <td>0.0087+/-0.0008</td>\n",
       "      <td>0.008741</td>\n",
       "      <td>0.000813</td>\n",
       "      <td>0.900</td>\n",
       "    </tr>\n",
       "  </tbody>\n",
       "</table>\n",
       "</div>"
      ],
      "text/plain": [
       "                  PHI            PHI_unc          M          M_unc  NGAL  \\\n",
       "1_20_LCBG    0.000375  0.00037+/-0.00024 -21.088654    -21.1+/-1.6    27   \n",
       "20_40_LCBG   0.002035  0.00203+/-0.00014 -20.382029  -20.38+/-0.08   543   \n",
       "40_60_LCBG   0.001829  0.00183+/-0.00009 -20.584714  -20.58+/-0.06   788   \n",
       "60_80_LCBG   0.004114  0.00411+/-0.00031 -20.496784  -20.50+/-0.06  1097   \n",
       "80_100_LCBG  0.005855    0.0059+/-0.0005 -20.595711  -20.60+/-0.05   787   \n",
       "\n",
       "             NGAL_BELOW_BIAS INT_NUM_DENS_EIGHTEENFIVE  \\\n",
       "1_20_LCBG                 27           0.0007+/-0.0007   \n",
       "20_40_LCBG               543         0.00270+/-0.00022   \n",
       "40_60_LCBG               598         0.00271+/-0.00016   \n",
       "60_80_LCBG               992           0.0058+/-0.0005   \n",
       "80_100_LCBG              775           0.0087+/-0.0008   \n",
       "\n",
       "             INT_NUM_DENS_EIGHTEENFIVE_val  INT_NUM_DENS_EIGHTEENFIVE_err  \\\n",
       "1_20_LCBG                         0.000711                       0.000685   \n",
       "20_40_LCBG                        0.002697                       0.000222   \n",
       "40_60_LCBG                        0.002714                       0.000158   \n",
       "60_80_LCBG                        0.005820                       0.000477   \n",
       "80_100_LCBG                       0.008741                       0.000813   \n",
       "\n",
       "             ave_z  \n",
       "1_20_LCBG    0.105  \n",
       "20_40_LCBG   0.300  \n",
       "40_60_LCBG   0.500  \n",
       "60_80_LCBG   0.700  \n",
       "80_100_LCBG  0.900  "
      ]
     },
     "execution_count": 134,
     "metadata": {},
     "output_type": "execute_result"
    }
   ],
   "source": [
    "ORIG_LCBG_FIT_VALS"
   ]
  },
  {
   "cell_type": "code",
   "execution_count": 135,
   "metadata": {},
   "outputs": [
    {
     "data": {
      "image/png": "[encoded data removed]",
      "text/plain": [
       "<Figure size 850x800 with 1 Axes>"
      ]
     },
     "metadata": {},
     "output_type": "display_data"
    }
   ],
   "source": [
    "f,ax=plt.subplots(figsize=(8.5,8))\n",
    "ax.errorbar(LCBG_FIT_VALS.loc[[ind for ind in LCBG_FIT_VALS.index if 'LCBG' in ind],'ave_z'],\n",
    "            LCBG_FIT_VALS.loc[[ind for ind in LCBG_FIT_VALS.index if 'LCBG' in ind],'INT_NUM_DENS_EIGHTEENFIVE_val'],\n",
    "            yerr=LCBG_FIT_VALS.loc[[ind for ind in LCBG_FIT_VALS.index if 'LCBG' in ind],'INT_NUM_DENS_EIGHTEENFIVE_err'],\n",
    "            color='blue',\n",
    "            marker='s',\n",
    "            ls='none',\n",
    "            label='This Study')\n",
    "ax.errorbar(ORIG_LCBG_FIT_VALS.loc[[ind for ind in ORIG_LCBG_FIT_VALS.index if 'LCBG' in ind],'ave_z'],\n",
    "            ORIG_LCBG_FIT_VALS.loc[[ind for ind in ORIG_LCBG_FIT_VALS.index if 'LCBG' in ind],'INT_NUM_DENS_EIGHTEENFIVE_val'],\n",
    "            yerr=ORIG_LCBG_FIT_VALS.loc[[ind for ind in ORIG_LCBG_FIT_VALS.index if 'LCBG' in ind],'INT_NUM_DENS_EIGHTEENFIVE_err'],\n",
    "            color='red',\n",
    "            marker='s',\n",
    "            ls='none',\n",
    "            label='This Study')\n",
    "ax.errorbar(0.55,0.0022*(70./75.)**3,color='blue',marker='x',xerr=0.15,ls='none',label='Phillips, 1997')\n",
    "ax.errorbar(0.85,0.0088*(70./75.)**3,color='blue',marker='x',xerr=0.15,ls='none')\n",
    "ax.errorbar(0.023,0.00054*(70./75.)**3,color='red',marker='*',xerr=0.022,ls='none',label='Werk, 2004')\n",
    "ax.set_xlim([0,1])\n",
    "plt.xlabel('Redshift',fontsize=16)\t\n",
    "plt.ylabel('N (Mpc$^{-3}$)',fontsize=16)\n",
    "plt.legend(loc='2')\n",
    "plt.subplots_adjust(right=0.98,left=0.13,top=0.97,bottom=0.07)"
   ]
  },
  {
   "cell_type": "code",
   "execution_count": null,
   "metadata": {},
   "outputs": [],
   "source": []
  },
  {
   "cell_type": "code",
   "execution_count": null,
   "metadata": {},
   "outputs": [],
   "source": []
  }
 ],
 "metadata": {
  "kernelspec": {
   "display_name": "Python 3",
   "language": "python",
   "name": "python3"
  },
  "language_info": {
   "codemirror_mode": {
    "name": "ipython",
    "version": 3
   },
   "file_extension": ".py",
   "mimetype": "text/x-python",
   "name": "python",
   "nbconvert_exporter": "python",
   "pygments_lexer": "ipython3",
   "version": "3.7.3"
  }
 },
 "nbformat": 4,
 "nbformat_minor": 2
}
