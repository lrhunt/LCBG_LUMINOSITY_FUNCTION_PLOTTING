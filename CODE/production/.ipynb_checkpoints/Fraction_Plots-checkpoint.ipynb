{
 "cells": [
  {
   "cell_type": "code",
   "execution_count": 1,
   "metadata": {},
   "outputs": [],
   "source": [
    "import numpy as np\n",
    "import astropy as ap\n",
    "import matplotlib.pyplot as plt\n",
    "import matplotlib.gridspec as gridspec\n",
    "import math as m\n",
    "import argparse\n",
    "from astropy.modeling.fitting import LevMarLSQFitter\n",
    "from astropy.modeling.models import custom_model\n",
    "from matplotlib.backends.backend_pdf import PdfPages\n",
    "import scipy as sp\n",
    "from scipy import integrate\n",
    "import uncertainties as unc\n",
    "import uncertainties\n",
    "from uncertainties import unumpy as unp\n",
    "import kcorrect\n",
    "import kcorrect.utils as ut\n",
    "from astropy.cosmology import FlatLambdaCDM\n",
    "import pandas as pd\n",
    "import matplotlib as mp\n",
    "import os"
   ]
  },
  {
   "cell_type": "code",
   "execution_count": 2,
   "metadata": {},
   "outputs": [],
   "source": [
    "plt.style.use('seaborn-whitegrid')\n",
    "plt.style.use('default')\n",
    "params = {\n",
    "    'axes.labelsize': 11,\n",
    "    'legend.fontsize': 12,\n",
    "    'xtick.labelsize': 13,\n",
    "    'ytick.labelsize': 13,\n",
    "    'text.usetex': True,\n",
    "    'figure.figsize': [7, 4], # instead of 4.5, 4.5\n",
    "    'grid.linestyle': ':',\n",
    "    'axes.edgecolor' : '0',\n",
    "    'font.family':'serif',\n",
    "    'font.serif':'Computer Modern'\n",
    "    }\n",
    "mp.rcParams.update(params)"
   ]
  },
  {
   "cell_type": "code",
   "execution_count": 3,
   "metadata": {},
   "outputs": [],
   "source": [
    "cosmo=FlatLambdaCDM(H0=70.0,Om0=0.3)\n",
    "fit=LevMarLSQFitter()\n",
    "GAL_ALPHA=-1.05\n",
    "LCBG_ALPHA=-1.0"
   ]
  },
  {
   "cell_type": "code",
   "execution_count": 4,
   "metadata": {},
   "outputs": [],
   "source": [
    "@uncertainties.wrap\n",
    "def integratethings(ps,ms,al=None,m=None):\n",
    "    if al==None:\n",
    "        al=-1.1\n",
    "    if m==None:\n",
    "        m=-18.5\n",
    "    def integrand(X):\n",
    "        return (0.4*np.log(10)*ps)*(10**(0.4*(al+1)*(ms-X)))*(np.e**(-np.power(10,0.4*(ms-X))))\n",
    "    integral,abserr=sp.integrate.quad(integrand,-100,m)\n",
    "    return integral"
   ]
  },
  {
   "cell_type": "code",
   "execution_count": 5,
   "metadata": {},
   "outputs": [],
   "source": [
    "LCBG_DIR='/home/lrhunt/Projects/LCBG_LUMINOSITY_FUNCTION/LCBGLFOUT/apmag225/zucca_z_bins/'\n",
    "LCBG_LFS={}\n",
    "LCBG_LFS_INDEX=[]\n",
    "for file in os.listdir(LCBG_DIR):\n",
    "    if file.endswith('csv'):\n",
    "        LCBG_LFS[file.split('.csv')[0]]=pd.read_csv(LCBG_DIR+'/'+file)\n",
    "        LCBG_LFS_INDEX.append(file.split('.csv')[0])\n",
    "    if file.endswith('.xlsx'):\n",
    "        LCBG_FIT_VALS=pd.read_excel(LCBG_DIR+file,index_col=0)"
   ]
  },
  {
   "cell_type": "code",
   "execution_count": 6,
   "metadata": {},
   "outputs": [],
   "source": [
    "GAL_DIR='/home/lrhunt/Projects/LCBG_LUMINOSITY_FUNCTION/FULLLFOUT/apmag225/zucca_z_bins/'\n",
    "GAL_LFS={}\n",
    "GAL_LFS_INDEX=[]\n",
    "for file in os.listdir(GAL_DIR):\n",
    "    if file.endswith('csv'):\n",
    "        GAL_LFS[file.split('.csv')[0]]=pd.read_csv(GAL_DIR+'/'+file)\n",
    "        GAL_LFS_INDEX.append(file.split('.csv')[0])\n",
    "    if file.endswith('.xlsx'):\n",
    "        GAL_FIT_VALS=pd.read_excel(GAL_DIR+file,index_col=0)"
   ]
  },
  {
   "cell_type": "code",
   "execution_count": 7,
   "metadata": {},
   "outputs": [],
   "source": [
    "GAL_BIAS_CUTOFF={GAL_LFS_INDEX[0]:-17,\n",
    "                 GAL_LFS_INDEX[1]:-19,\n",
    "                 GAL_LFS_INDEX[2]:-20,\n",
    "                 GAL_LFS_INDEX[3]:-20.5,\n",
    "                 GAL_LFS_INDEX[4]:-20,}\n",
    "LCBG_BIAS_CUTOFF={LCBG_LFS_INDEX[0]:-17,\n",
    "                 LCBG_LFS_INDEX[1]:-19,\n",
    "                 LCBG_LFS_INDEX[2]:-20,\n",
    "                 LCBG_LFS_INDEX[3]:-20.5,\n",
    "                 LCBG_LFS_INDEX[4]:-20,}"
   ]
  },
  {
   "cell_type": "code",
   "execution_count": 8,
   "metadata": {},
   "outputs": [],
   "source": [
    "LCBG_FIT_VALS['NGAL']=0\n",
    "GAL_FIT_VALS['NGAL']=0\n",
    "LCBG_FIT_VALS['NGAL_BELOW_BIAS']=0\n",
    "GAL_FIT_VALS['NGAL_BELOW_BIAS']=0"
   ]
  },
  {
   "cell_type": "code",
   "execution_count": 9,
   "metadata": {},
   "outputs": [],
   "source": [
    "for index in LCBG_LFS_INDEX:\n",
    "    tmpindex=index.split('LF_')[-1]\n",
    "    LCBG_FIT_VALS.loc[tmpindex,\n",
    "                      'NGAL']=LCBG_LFS[index].loc[:,\n",
    "                                                  'Number_Of_Gals'].sum()\n",
    "    LCBG_FIT_VALS.loc[tmpindex,\n",
    "                      'NGAL_BELOW_BIAS']=LCBG_LFS[index].loc[LCBG_LFS[index].Absolute_Magnitude_Bin<LCBG_BIAS_CUTOFF[index],\n",
    "                                                             'Number_Of_Gals'].sum()\n",
    "    LCBG_FIT_VALS.loc[tmpindex,\n",
    "                      'PHI_unc']=unc.ufloat(LCBG_FIT_VALS.loc[tmpindex,\n",
    "                                                              'PHI'],\n",
    "                                            LCBG_FIT_VALS.loc[tmpindex,\n",
    "                                                              'PHI_unc'])\n",
    "    LCBG_FIT_VALS.loc[tmpindex,\n",
    "                      'M_unc']=unc.ufloat(LCBG_FIT_VALS.loc[tmpindex,\n",
    "                                                            'M'],\n",
    "                                          LCBG_FIT_VALS.loc[tmpindex,\n",
    "                                                            'M_unc'])\n",
    "    LCBG_FIT_VALS.loc[tmpindex,\n",
    "                     'INT_NUM_DENS_EIGHTEENFIVE']=integratethings(LCBG_FIT_VALS.loc[tmpindex,'PHI_unc'],\n",
    "                                                                  LCBG_FIT_VALS.loc[tmpindex,'M_unc'],\n",
    "                                                                  al=LCBG_ALPHA,\n",
    "                                                                  m=-18.5)\n",
    "    LCBG_FIT_VALS.loc[tmpindex,\n",
    "                     'INT_NUM_DENS_EIGHTEENFIVE_val']=integratethings(LCBG_FIT_VALS.loc[tmpindex,'PHI_unc'],\n",
    "                                                                  LCBG_FIT_VALS.loc[tmpindex,'M_unc'],\n",
    "                                                                  al=LCBG_ALPHA,\n",
    "                                                                  m=-18.5).nominal_value\n",
    "    LCBG_FIT_VALS.loc[tmpindex,\n",
    "                     'INT_NUM_DENS_EIGHTEENFIVE_err']=integratethings(LCBG_FIT_VALS.loc[tmpindex,'PHI_unc'],\n",
    "                                                                  LCBG_FIT_VALS.loc[tmpindex,'M_unc'],\n",
    "                                                                  al=LCBG_ALPHA,\n",
    "                                                                  m=-18.5).std_dev\n",
    "    LCBG_FIT_VALS.loc[tmpindex,\n",
    "                     'ave_z']=(float(tmpindex.split('_')[0])+float(tmpindex.split('_')[1]))/200"
   ]
  },
  {
   "cell_type": "code",
   "execution_count": 10,
   "metadata": {},
   "outputs": [],
   "source": [
    "for index in GAL_LFS_INDEX:\n",
    "    tmpindex=index.split('LF_')[-1]\n",
    "    GAL_FIT_VALS.loc[tmpindex,'NGAL']=GAL_LFS[index]['Number_Of_Gals'].sum()\n",
    "    GAL_FIT_VALS.loc[tmpindex,'NGAL_BELOW_BIAS']=GAL_LFS[index].loc[GAL_LFS[index].Absolute_Magnitude_Bin<GAL_BIAS_CUTOFF[index],'Number_Of_Gals'].sum()\n",
    "    GAL_FIT_VALS.loc[tmpindex,'PHI_unc']=unc.ufloat(GAL_FIT_VALS.loc[tmpindex,'PHI'],GAL_FIT_VALS.loc[tmpindex,'PHI_unc'])\n",
    "    GAL_FIT_VALS.loc[tmpindex,'M_unc']=unc.ufloat(GAL_FIT_VALS.loc[tmpindex,'M'],GAL_FIT_VALS.loc[tmpindex,'M_unc'])\n",
    "    GAL_FIT_VALS.loc[tmpindex,\n",
    "                     'INT_NUM_DENS_EIGHTEENFIVE']=integratethings(GAL_FIT_VALS.loc[tmpindex,'PHI_unc'],\n",
    "                                                                  GAL_FIT_VALS.loc[tmpindex,'M_unc'],\n",
    "                                                                  al=GAL_ALPHA,\n",
    "                                                                  m=-18.5)\n",
    "    GAL_FIT_VALS.loc[tmpindex,\n",
    "                     'INT_NUM_DENS_FIFTEEN']=integratethings(GAL_FIT_VALS.loc[tmpindex,'PHI_unc'],\n",
    "                                                                  GAL_FIT_VALS.loc[tmpindex,'M_unc'],\n",
    "                                                                  al=GAL_ALPHA,\n",
    "                                                                  m=-15)"
   ]
  },
  {
   "cell_type": "code",
   "execution_count": 11,
   "metadata": {},
   "outputs": [
    {
     "name": "stderr",
     "output_type": "stream",
     "text": [
      "/home/lrhunt/programs/anaconda3/lib/python3.7/site-packages/matplotlib/legend.py:497: UserWarning: Unrecognized location \"2\". Falling back on \"best\"; valid locations are\n",
      "\tbest\n",
      "\tupper right\n",
      "\tupper left\n",
      "\tlower left\n",
      "\tlower right\n",
      "\tright\n",
      "\tcenter left\n",
      "\tcenter right\n",
      "\tlower center\n",
      "\tupper center\n",
      "\tcenter\n",
      "\n",
      "  % (loc, '\\n\\t'.join(self.codes)))\n",
      "/home/lrhunt/programs/anaconda3/lib/python3.7/site-packages/matplotlib/font_manager.py:1241: UserWarning: findfont: Font family ['serif'] not found. Falling back to DejaVu Sans.\n",
      "  (prop.get_family(), self.defaultFamily[fontext]))\n"
     ]
    },
    {
     "data": {
      "image/png": "[encoded data removed]",
      "text/plain": [
       "<Figure size 850x800 with 1 Axes>"
      ]
     },
     "metadata": {},
     "output_type": "display_data"
    }
   ],
   "source": [
    "f,ax=plt.subplots(figsize=(8.5,8))\n",
    "ax.errorbar(LCBG_FIT_VALS.loc[[ind for ind in LCBG_FIT_VALS.index if 'LCBG' in ind],'ave_z'],\n",
    "            LCBG_FIT_VALS.loc[[ind for ind in LCBG_FIT_VALS.index if 'LCBG' in ind],'INT_NUM_DENS_EIGHTEENFIVE_val'],\n",
    "            yerr=LCBG_FIT_VALS.loc[[ind for ind in LCBG_FIT_VALS.index if 'LCBG' in ind],'INT_NUM_DENS_EIGHTEENFIVE_err'],\n",
    "            color='black',\n",
    "            marker='s',\n",
    "            ls='none',\n",
    "            label='This Study')\n",
    "ax.errorbar(0.55,0.0022*(70./75.)**3,color='blue',marker='x',xerr=0.15,ls='none',label='Phillips, 1997')\n",
    "ax.errorbar(0.85,0.0088*(70./75.)**3,color='blue',marker='x',xerr=0.15,ls='none')\n",
    "ax.errorbar(0.023,0.00054*(70./75.)**3,color='red',marker='*',xerr=0.022,ls='none',label='Werk, 2004')\n",
    "ax.set_xlim([0,1])\n",
    "plt.xlabel('Redshift',fontsize=16)\t\n",
    "plt.ylabel('N (Mpc$^{-3}$)',fontsize=16)\n",
    "plt.legend(loc='2')\n",
    "plt.subplots_adjust(right=0.98,left=0.13,top=0.97,bottom=0.07)\n",
    "plt.savefig('/home/lrhunt/Projects/LCBG_LUMINOSITY_FUNCTION_PLOTTING/PLOTS/PAPER/Number_Density.pdf')"
   ]
  }
 ],
 "metadata": {
  "kernelspec": {
   "display_name": "Python 3",
   "language": "python",
   "name": "python3"
  },
  "language_info": {
   "codemirror_mode": {
    "name": "ipython",
    "version": 3
   },
   "file_extension": ".py",
   "mimetype": "text/x-python",
   "name": "python",
   "nbconvert_exporter": "python",
   "pygments_lexer": "ipython3",
   "version": "3.7.3"
  }
 },
 "nbformat": 4,
 "nbformat_minor": 2
}
