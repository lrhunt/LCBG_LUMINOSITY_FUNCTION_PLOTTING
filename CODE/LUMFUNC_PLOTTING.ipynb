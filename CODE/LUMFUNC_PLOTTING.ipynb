{
 "cells": [
  {
   "cell_type": "code",
   "execution_count": 77,
   "metadata": {},
   "outputs": [],
   "source": [
    "import numpy as np\n",
    "import astropy as ap\n",
    "import matplotlib.pyplot as plt\n",
    "import matplotlib.gridspec as gridspec\n",
    "import math as m\n",
    "import argparse\n",
    "from astropy.modeling.fitting import LevMarLSQFitter\n",
    "from astropy.modeling.models import custom_model\n",
    "from matplotlib.backends.backend_pdf import PdfPages\n",
    "import scipy as sp\n",
    "import uncertainties as unc\n",
    "import uncertainties\n",
    "from uncertainties import unumpy as unp\n",
    "import kcorrect\n",
    "import kcorrect.utils as ut\n",
    "from astropy.cosmology import FlatLambdaCDM\n",
    "import pandas as pd\n",
    "import matplotlib as mp\n",
    "import os"
   ]
  },
  {
   "cell_type": "markdown",
   "metadata": {},
   "source": [
    "Defining the Cosmology and initializing fitter"
   ]
  },
  {
   "cell_type": "code",
   "execution_count": 78,
   "metadata": {},
   "outputs": [],
   "source": [
    "cosmo=FlatLambdaCDM(H0=70.0,Om0=0.3)\n",
    "fit=LevMarLSQFitter()"
   ]
  },
  {
   "cell_type": "markdown",
   "metadata": {},
   "source": [
    "\n",
    "**This section has been turned off. It's probably best to not plot the histogram of sources and just put the number of sources in the LF in the table. Will discuss later**\n",
    "\n",
    "\n",
    "Creating a function that will label the bars in the bar plot as part of the luminosity function"
   ]
  },
  {
   "cell_type": "markdown",
   "metadata": {},
   "source": [
    "def autolabel(rects,thecolor,row,col,standard_height=0):\n",
    "    for rect in rects:\n",
    "        if rect.xy[0]<-16:\n",
    "            height=rect.get_height()\n",
    "            if not standard_height:\n",
    "                if not m.isinf(height):\n",
    "                    axes[row][col].text(rect.get_x() + rect.get_width()/2.,height+0.05,'{}'.format(int(np.round(np.power(10,height)))),ha='center',va='bottom',fontsize=7,color=thecolor)\n",
    "            else:\n",
    "                if not m.isinf(height):\n",
    "                    axes[row][col].text(rect.get_x() + rect.get_width()/2.,standard_height,'{}'.format(int(np.round(np.power(10,height)))),ha='center',va='bottom',fontsize=7,color=thecolor)"
   ]
  },
  {
   "cell_type": "markdown",
   "metadata": {},
   "source": [
    "Astropy model to fit the estimated luminosity function with a schechter function"
   ]
  },
  {
   "cell_type": "code",
   "execution_count": 80,
   "metadata": {},
   "outputs": [],
   "source": [
    "@custom_model\n",
    "def schechter_func(x,phistar=0.0056,mstar=-21,alpha=-1.03):\n",
    "    return (0.4*np.log(10)*phistar)*(10**(0.4*(alpha+1)*(mstar-x)))*(np.e**(-np.power(10,0.4*(mstar-x))))"
   ]
  },
  {
   "cell_type": "markdown",
   "metadata": {},
   "source": [
    "Scipy model to fit the estimated luminosity function with a schechter function"
   ]
  },
  {
   "cell_type": "code",
   "execution_count": 81,
   "metadata": {},
   "outputs": [],
   "source": [
    "def schechter_func_scipy(x,phistar,mstar,alpha):\n",
    "    return (0.4*np.log(10)*phistar)*(10**(0.4*(alpha+1)*(mstar-x)))*(np.e**(-np.power(10,0.4*(mstar-x))))"
   ]
  },
  {
   "cell_type": "markdown",
   "metadata": {},
   "source": [
    "Below will do the astropy fitting for a redshift range, given the dataframe and an optional mask array"
   ]
  },
  {
   "cell_type": "code",
   "execution_count": 82,
   "metadata": {},
   "outputs": [],
   "source": [
    "def ap_fitting(DATAFRAME,MASK=None):\n",
    "    if MASK==None:\n",
    "        MASK=[]\n",
    "    #******CREATE MASK ARRAY******\n",
    "    NUMBDENS=np.ma.array(np.array(DATAFRAME['Number_Density']),mask=False)\n",
    "    MBINAVE=np.ma.array(np.array(DATAFRAME['Average_Absolute_Magnitude']),mask=False)\n",
    "    NUMBDENSERR=np.ma.array(np.array(DATAFRAME['Number_Density_Error']),mask=False)\n",
    "    #******MASK ZEROS******\n",
    "    NUMBDENS.mask[DATAFRAME.loc[DATAFRAME.Number_Density==0].index]=True\n",
    "    MBINAVE.mask[DATAFRAME.loc[DATAFRAME.Number_Density==0].index]=True\n",
    "    NUMBDENSERR.mask[DATAFRAME.loc[DATAFRAME.Number_Density==0].index]=True\n",
    "     #******MASK POINTS I DON'T LIKE******\n",
    "    NUMBDENS.mask[MASK]=True\n",
    "    MBINAVE.mask[MASK]=True\n",
    "    NUMBDENSERR.mask[MASK]=True\n",
    "    print(NUMBDENS.compressed())\n",
    "    #******MODELLING******\n",
    "    LFFIT_INIT=schechter_func()\n",
    "    LFFIT=fit(LFFIT_INIT,MBINAVE.compressed(),NUMBDENS.compressed(),weights=1/NUMBDENSERR.compressed())\n",
    "    return LFFIT,NUMBDENS.mask"
   ]
  },
  {
   "cell_type": "markdown",
   "metadata": {},
   "source": [
    "Below will do the scipy fitting for a redshift range, given the dataframe and an optional mask array\n",
    "Scipy fitting gives a more robust estimate of the errors involved with a fit"
   ]
  },
  {
   "cell_type": "code",
   "execution_count": 83,
   "metadata": {},
   "outputs": [],
   "source": [
    "def sp_fitting(DATAFRAME,MASK=None,INITARRAY=None):\n",
    "    if MASK==None:\n",
    "        MASK=[]\n",
    "    if INITARRAY==None:\n",
    "        INITARRAY=[0.0056,-21,-1.03]\n",
    "    #******CREATE MASK ARRAY******\n",
    "    NUMBDENS=np.ma.array(np.array(DATAFRAME['Number_Density']),mask=False)\n",
    "    MBINAVE=np.ma.array(np.array(DATAFRAME['Average_Absolute_Magnitude']),mask=False)\n",
    "    NUMBDENSERR=np.ma.array(np.array(DATAFRAME['Number_Density_Error']),mask=False)\n",
    "    #******MASK ZEROS******\n",
    "    NUMBDENS.mask[DATAFRAME.loc[DATAFRAME.Number_Density==0].index]=True\n",
    "    MBINAVE.mask[DATAFRAME.loc[DATAFRAME.Number_Density==0].index]=True\n",
    "    NUMBDENSERR.mask[DATAFRAME.loc[DATAFRAME.Number_Density==0].index]=True\n",
    "     #******MASK POINTS I DON'T LIKE******\n",
    "    NUMBDENS.mask[MASK]=True\n",
    "    MBINAVE.mask[MASK]=True\n",
    "    NUMBDENSERR.mask[MASK]=True\n",
    "    #******MODELLING******\n",
    "    LFFIT,LFCOV=sp.optimize.curve_fit(schechter_func_scipy,MBINAVE.compressed(),NUMBDENS.compressed(),p0=INITARRAY,sigma=NUMBDENSERR.compressed())\n",
    "    return LFFIT,LFCOV"
   ]
  },
  {
   "cell_type": "markdown",
   "metadata": {},
   "source": [
    "## Import data using pandas"
   ]
  },
  {
   "cell_type": "markdown",
   "metadata": {},
   "source": [
    "Import LCBG data"
   ]
  },
  {
   "cell_type": "code",
   "execution_count": 84,
   "metadata": {},
   "outputs": [],
   "source": [
    "LCBG_DIR='/Users/lucashunt/Projects/LCBG_LUMINOSITY_FUNCTION/LCBGLFOUT'\n",
    "LCBG_LFS={}\n",
    "LCBG_LFS_INDEX=[]\n",
    "for file in os.listdir(LCBG_DIR):\n",
    "    if file.endswith('csv'):\n",
    "        LCBG_LFS[file.split('.csv')[0]]=pd.read_csv(LCBG_DIR+'/'+file)\n",
    "        LCBG_LFS_INDEX.append(file.split('.csv')[0])"
   ]
  },
  {
   "cell_type": "markdown",
   "metadata": {},
   "source": [
    "Import Galaxy data"
   ]
  },
  {
   "cell_type": "code",
   "execution_count": 85,
   "metadata": {},
   "outputs": [],
   "source": [
    "GAL_DIR='/Users/lucashunt/Projects/LCBG_LUMINOSITY_FUNCTION/FULLLFOUT'\n",
    "GAL_LFS={}\n",
    "GAL_LFS_INDEX=[]\n",
    "for file in os.listdir(GAL_DIR):\n",
    "    if file.endswith('csv'):\n",
    "        GAL_LFS[file.split('.csv')[0]]=pd.read_csv(GAL_DIR+'/'+file)\n",
    "        GAL_LFS_INDEX.append(file.split('.csv')[0])"
   ]
  },
  {
   "cell_type": "markdown",
   "metadata": {},
   "source": [
    "Make dictionaries for the masks. I selected these masks in an unscientific way. "
   ]
  },
  {
   "cell_type": "code",
   "execution_count": 87,
   "metadata": {},
   "outputs": [],
   "source": [
    "LCBG_MASKS={LCBG_LFS_INDEX[0]:[6,8],LCBG_LFS_INDEX[1]:[2,11],LCBG_LFS_INDEX[2]:[],LCBG_LFS_INDEX[3]:[0,1,2,9],LCBG_LFS_INDEX[4]:[7]}\n",
    "GAL_MASKS={GAL_LFS_INDEX[0]:[2,3],GAL_LFS_INDEX[1]:[1,2,14,15],GAL_LFS_INDEX[2]:[11,12,13,14],GAL_LFS_INDEX[3]:[9],GAL_LFS_INDEX[4]:[7]}"
   ]
  },
  {
   "cell_type": "markdown",
   "metadata": {},
   "source": [
    "Automatically fit Schechter Function to LCBGs (both using scipy and astropy fitting routine"
   ]
  },
  {
   "cell_type": "code",
   "execution_count": 88,
   "metadata": {},
   "outputs": [
    {
     "name": "stdout",
     "output_type": "stream",
     "text": [
      "[  4.06528339e-05   2.81902261e-04   4.38171797e-04   3.04383029e-04\n",
      "   3.94002646e-04]\n",
      "[  1.68601325e-05   7.83545918e-06   5.29773779e-05   2.30296392e-04\n",
      "   4.61513093e-04   8.23973751e-04   9.60179365e-04   1.21098614e-03\n",
      "   1.30088237e-03]\n",
      "[  3.38819293e-06   1.34654339e-05   1.28852560e-04   2.39073764e-04\n",
      "   4.80732264e-04   8.19281630e-04   9.38835670e-04   1.02844398e-03\n",
      "   9.14466490e-04]\n",
      "[  5.48642143e-05   2.06532641e-04   5.95357142e-04   1.05458348e-03\n",
      "   1.73753995e-03   1.40226365e-03]\n",
      "[  1.64801520e-06   3.31707500e-06   1.50181716e-05   1.67077494e-04\n",
      "   4.95205954e-04   1.14405806e-03   1.80441962e-03]\n"
     ]
    }
   ],
   "source": [
    "LCBG_FITS_AP={}\n",
    "LCBG_FITS_AP_INDEX=[]\n",
    "for index in LCBG_LFS_INDEX:\n",
    "    LCBG_FITS_AP[index.split('LF_')[-1]+'_ap_fit']=ap_fitting(LCBG_LFS[index],MASK=LCBG_MASKS[index])\n",
    "    LCBG_FITS_AP_INDEX.append(index.split('LF_')[-1]+'_ap_fit')\n",
    "LCBG_FITS_SP={}\n",
    "LCBG_FITS_SP_INDEX=[]\n",
    "for index in LCBG_LFS_INDEX:\n",
    "    LCBG_FITS_SP[index.split('LF_')[-1]+'_sp_fit']=sp_fitting(LCBG_LFS[index],MASK=LCBG_MASKS[index])\n",
    "    LCBG_FITS_SP_INDEX.append(index.split('LF_')[-1]+'_sp_fit')"
   ]
  },
  {
   "cell_type": "markdown",
   "metadata": {},
   "source": [
    "Automatically fit Schechter Function to all galaxies (both using scipy and astropy fitting routine"
   ]
  },
  {
   "cell_type": "code",
   "execution_count": 89,
   "metadata": {},
   "outputs": [
    {
     "name": "stdout",
     "output_type": "stream",
     "text": [
      "[ 0.00024242  0.00078737  0.0013594   0.00211195  0.00247281  0.00370985\n",
      "  0.00484471  0.00615682  0.0074997   0.00795935  0.00811159  0.01056083\n",
      "  0.01480409  0.01238099]\n",
      "[ 0.00011281  0.00049467  0.00147032  0.00247164  0.00416475  0.00504719\n",
      "  0.00597553  0.00714785  0.00752945  0.00738076  0.00624831]\n",
      "[  3.34782890e-06   1.63263594e-05   7.87346719e-05   3.44996062e-04\n",
      "   8.25818304e-04   1.56578185e-03   2.26713800e-03   2.84502196e-03\n",
      "   3.56629772e-03   3.25006505e-03]\n",
      "[  2.10352184e-06   4.04884003e-05   2.23769310e-04   6.54025550e-04\n",
      "   1.62842264e-03   2.58169831e-03   3.90259952e-03   3.53320299e-03]\n",
      "[  1.61817893e-06   6.52975473e-06   6.31730174e-05   3.88001470e-04\n",
      "   1.08721093e-03   2.27076076e-03   3.30470179e-03]\n"
     ]
    }
   ],
   "source": [
    "GAL_FITS_AP={}\n",
    "GAL_FITS_AP_INDEX=[]\n",
    "for index in GAL_LFS_INDEX:\n",
    "    GAL_FITS_AP[index.split('LF_')[-1]+'_ap_fit']=ap_fitting(GAL_LFS[index],MASK=GAL_MASKS[index])\n",
    "    GAL_FITS_AP_INDEX.append(index.split('LF_')[-1]+'_ap_fit')\n",
    "GAL_FITS_SP={}\n",
    "GAL_FITS_SP_INDEX=[]\n",
    "for index in GAL_LFS_INDEX:\n",
    "    GAL_FITS_SP[index.split('LF_')[-1]+'_sp_fit']=sp_fitting(GAL_LFS[index],MASK=GAL_MASKS[index])\n",
    "    GAL_FITS_SP_INDEX.append(index.split('LF_')[-1]+'_sp_fit')"
   ]
  },
  {
   "cell_type": "markdown",
   "metadata": {},
   "source": [
    "**The below section has been turned off because I don't think the histograms are important (they add information, but how useful is it?)**\n",
    "\n",
    "Attempt to make a better plot of the five redshift ranges"
   ]
  },
  {
   "cell_type": "markdown",
   "metadata": {},
   "source": [
    "plt.style.use('seaborn-whitegrid')\n",
    "#plt.style.use('default')\n",
    "params = {\n",
    "    'axes.labelsize': 11,\n",
    "    'text.fontsize': 22,\n",
    "    'legend.fontsize': 12,\n",
    "    'xtick.labelsize': 13,\n",
    "    'ytick.labelsize': 13,\n",
    "    'text.usetex': False,\n",
    "    'figure.figsize': [7, 4], # instead of 4.5, 4.5\n",
    "    'grid.linestyle': ':',\n",
    "    'axes.edgecolor' : '0',\n",
    "    'font.family':'serif',\n",
    "    'font.serif':'Computer Modern'\n",
    "    }\n",
    "mp.rcParams.update(params)\n",
    "f=plt.figure(figsize=(7,9.75))\n",
    "ax1=plt.subplot2grid((52,4),(0,0),colspan=2,rowspan=12)\n",
    "ax2=plt.subplot2grid((52,4),(0,2),colspan=2,rowspan=12)\n",
    "ax3=plt.subplot2grid((52,4),(12,0),colspan=2,rowspan=4)\n",
    "ax4=plt.subplot2grid((52,4),(12,2),colspan=2,rowspan=4)\n",
    "ax5=plt.subplot2grid((52,4),(17,0),colspan=2,rowspan=12)\n",
    "ax6=plt.subplot2grid((52,4),(17,2),colspan=2,rowspan=12)\n",
    "ax7=plt.subplot2grid((52,4),(29,0),colspan=2,rowspan=4)\n",
    "ax8=plt.subplot2grid((52,4),(29,2),colspan=2,rowspan=4)\n",
    "ax9=plt.subplot2grid((52,4),(36,1),colspan=2,rowspan=12)\n",
    "ax10=plt.subplot2grid((52,4),(48,1),colspan=2,rowspan=4)\n",
    "axes=np.array([[ax1,ax3],[ax2,ax4],[ax5,ax7],[ax6,ax8],[ax9,ax10]])\n",
    "\n",
    "\n",
    "\n",
    "plt.subplots_adjust(hspace=0,wspace=0)\n",
    "\n",
    "x=np.arange(-23,-15,2)\n",
    "xminor=np.arange(-22,-16,2)\n",
    "y=np.arange(-5,0,2)\n",
    "yminor=np.arange(-4,-1,2)\n",
    "\n",
    "ax1.set_xticks(x)\n",
    "ax1.set_xticks(xminor,minor=True)\n",
    "ax1.set_yticks(y)\n",
    "ax1.set_yticks(yminor,minor=True)\n",
    "ax1.set_ylim([-5.5,-0.5])\n",
    "ax1.set_ylabel('Log$_{10}$($\\Phi_{M}$) ($h^{3}_{70}$ Mpc$^{-3}$ mag$^{-1}$)')\n",
    "\n",
    "ax2.set_xticks(x)\n",
    "ax2.set_xticks(xminor,minor=True)\n",
    "ax2.set_yticks(y)\n",
    "ax2.set_yticks(yminor,minor=True)\n",
    "ax2.set_ylim([-5.5,-0.5])\n",
    "\n",
    "ax5.set_xticks(x)\n",
    "ax5.set_xticks(xminor,minor=True)\n",
    "ax5.set_yticks(y)\n",
    "ax5.set_yticks(yminor,minor=True)\n",
    "ax5.set_ylim([-5.5,-0.5])\n",
    "ax5.set_ylabel('Log$_{10}$($\\Phi_{M}$) ($h^{3}_{70}$ Mpc$^{-3}$ mag$^{-1}$)')\n",
    "\n",
    "ax6.set_xticks(x)\n",
    "ax6.set_xticks(xminor,minor=True)\n",
    "ax6.set_yticks(y)\n",
    "ax6.set_yticks(yminor,minor=True)\n",
    "ax6.set_ylim([-5.5,-0.5])\n",
    "\n",
    "ax9.set_xticks(x)\n",
    "ax9.set_xticks(xminor,minor=True)\n",
    "ax9.set_yticks(y)\n",
    "ax9.set_yticks(yminor,minor=True)\n",
    "ax9.set_ylim([-5.5,-0.5])\n",
    "ax9.set_ylabel('Log$_{10}$($\\Phi_{M}$) ($h^{3}_{70}$ Mpc$^{-3}$ mag$^{-1}$)')\n",
    "\n",
    "ax3.set_ylim([0,4.2])\n",
    "ax3.set_yticks([3,1])\n",
    "#ax3.set_yticks([3.5,2.5,1.5,0.5],minor=True)\n",
    "ax3.set_xticks(x)\n",
    "ax3.set_xticks(xminor,minor=True)\n",
    "ax3.set_ylabel('Log$_{10}$(N)',labelpad=14)\n",
    "\n",
    "ax4.set_ylim([0,4.2])\n",
    "ax4.set_yticks([3,1])\n",
    "#ax4.set_yticks([3.5,2.5,1.5,0.5],minor=True)\n",
    "ax4.set_xticks(x)\n",
    "ax4.set_xticks(xminor,minor=True)\n",
    "\n",
    "ax7.set_ylim([0,4.2])\n",
    "ax7.set_yticks([3,1])\n",
    "#ax7.set_yticks([3.5,2.5,1.5,0.5],minor=True)\n",
    "ax7.set_xticks(x)\n",
    "ax7.set_xticks(xminor,minor=True)\n",
    "ax7.set_ylabel('Log$_{10}$(N)',labelpad=14)\n",
    "\n",
    "ax8.set_ylim([0,4.2])\n",
    "ax8.set_yticks([3,1])\n",
    "#ax8.set_yticks([3.5,2.5,1.5,0.5],minor=True)\n",
    "ax8.set_xticks(x)\n",
    "ax8.set_xticks(xminor,minor=True)\n",
    "\n",
    "ax10.set_ylim([0,4.2])\n",
    "ax10.set_yticks([3,1])\n",
    "#ax10.set_yticks([3.5,2.5,1.5,0.5],minor=True)\n",
    "ax10.set_xticks(x)\n",
    "ax10.set_xticks(xminor,minor=True)\n",
    "ax10.set_ylim([0,4.2])\n",
    "ax10.set_ylabel('Log$_{10}$(N)',labelpad=14)\n",
    "ax10.set_xlabel('M$_{B}$-5log$_{10}$(h$_{70}$)')\n",
    "\n",
    "ax2.set_yticklabels([])\n",
    "ax4.set_yticklabels([])\n",
    "ax6.set_yticklabels([])\n",
    "ax8.set_yticklabels([])\n",
    "ax1.set_xticklabels([])\n",
    "ax2.set_xticklabels([])\n",
    "ax3.set_xticklabels([])\n",
    "ax4.set_xticklabels([])\n",
    "ax5.set_xticklabels([])\n",
    "ax6.set_xticklabels([])\n",
    "ax9.set_xticklabels([])\n",
    "#ax8.set_yticklabels([])\n",
    "#axes[2][2].set_yticklabels([])\n",
    "#ax10.set_yticklabels([])\n",
    "#axes[3][2].set_yticklabels([])\n",
    "\n",
    "#ax1.set_yticklabels([-4,-3,-2,-1],fontsize=12)\n",
    "#ax7.set_yticklabels([-4,-3,-2,-1],fontsize=12)\n",
    "#ax4.set_yticklabels([3,2,1,0],fontsize=12)\n",
    "#ax9.set_yticklabels([3,2,1,0],fontsize=12)\n",
    "#ax4.set_xticklabels([-23,-21,-20,-19,-18,-17,-16],fontsize=12)\n",
    "#ax5.set_xticklabels([-23,-22,-21,-20,-19,-18,-17,-16],fontsize=12)\n",
    "#ax6.set_xticklabels([-23,-22,-21,-20,-19,-18,-17,-16],fontsize=12)\n",
    "#ax9.set_xticklabels([-23,-22,-21,-20,-19,-18,-17,-16],fontsize=12)\n",
    "#ax10.set_xticklabels([-23,-22,-21,-20,-19,-18,-17,-16],fontsize=12)\n",
    "\n",
    "ax1.set_xlim([-24,-16])\n",
    "ax2.set_xlim([-24,-16])\n",
    "ax3.set_xlim([-24,-16])\n",
    "ax4.set_xlim([-24,-16])\n",
    "ax5.set_xlim([-24,-16])\n",
    "ax6.set_xlim([-24,-16])\n",
    "ax7.set_xlim([-24,-16])\n",
    "ax8.set_xlim([-24,-16])\n",
    "ax9.set_xlim([-24,-16])\n",
    "ax10.set_xlim([-24,-16])\n",
    "\n",
    "f.subplots_adjust(left=0.09, bottom=0.1, right=0.99, top=0.99, wspace=0.1)\n",
    "#f.text(0.52,0.05,'M$_{B}$-5log$_{10}$(h$_{70}$)',ha='center',va='center',fontsize=16)\n",
    "#f.text(0.05,0.75,'Log$_{10}$($\\Phi_{M}$) ($h^{3}_{70}$ Mpc$^{-3}$ mag$^{-1}$)',ha='center',va='center',rotation='vertical',fontsize=16)\n",
    "#f.text(0.05,0.35,'Log$_{10}$($\\Phi_{M}$) ($h^{3}_{70}$ Mpc$^{-3}$ mag$^{-1}$)',ha='center',va='center',rotation='vertical',fontsize=16)\n",
    "#f.text(0.05,0.55,'Log$_{10}$(N)',ha='center',va='center',rotation='vertical',fontsize=16)\n",
    "#f.text(0.05,0.15,'Log$_{10}$(N)',ha='center',va='center',rotation='vertical',fontsize=16)\n",
    "magrange=np.linspace(-24,-16,100)\n",
    "i=0\n",
    "for ax_array in axes:\n",
    "    print(i)\n",
    "    ax_array[0].errorbar(GAL_LFS[GAL_LFS_INDEX[i]]['Average_Absolute_Magnitude'],GAL_LFS[GAL_LFS_INDEX[i]]['Log10Phi'],yerr=GAL_LFS[GAL_LFS_INDEX[0]]['Log10Err'],xerr=[np.abs(GAL_LFS[GAL_LFS_INDEX[i]]['Average_Absolute_Magnitude']+0.25-GAL_LFS[GAL_LFS_INDEX[i]]['Absolute_Magnitude_Bin']),np.abs(GAL_LFS[GAL_LFS_INDEX[0]]['Average_Absolute_Magnitude']-0.25-GAL_LFS[GAL_LFS_INDEX[i]]['Absolute_Magnitude_Bin'])],fmt='o',label='Galaxies',color='black',fillstyle='none')\n",
    "    ax_array[0].errorbar(LCBG_LFS[LCBG_LFS_INDEX[i]]['Average_Absolute_Magnitude'],LCBG_LFS[LCBG_LFS_INDEX[i]]['Log10Phi'],yerr=LCBG_LFS[LCBG_LFS_INDEX[i]]['Log10Err'],xerr=[np.abs(LCBG_LFS[LCBG_LFS_INDEX[i]]['Average_Absolute_Magnitude']+0.25-LCBG_LFS[LCBG_LFS_INDEX[i]]['Absolute_Magnitude_Bin']),np.abs(LCBG_LFS[LCBG_LFS_INDEX[i]]['Average_Absolute_Magnitude']-0.25-LCBG_LFS[LCBG_LFS_INDEX[i]]['Absolute_Magnitude_Bin'])],fmt='s',label='LCBGS',color='blue',fillstyle='none')\n",
    "    ax_array[0].plot(magrange,np.log10(LCBG_FITS_AP[LCBG_FITS_AP_INDEX[i]][0](magrange)),color='blue')\n",
    "    ax_array[0].plot(magrange,np.log10(GAL_FITS_AP[GAL_FITS_AP_INDEX[i]][0](magrange)),color='black')\n",
    "    gal_hist=ax_array[1].bar(GAL_LFS[GAL_LFS_INDEX[i]]['Absolute_Magnitude_Bin'],np.log10(GAL_LFS[GAL_LFS_INDEX[i]]['Number_Of_Gals']),np.abs(GAL_LFS[GAL_LFS_INDEX[i]]['Absolute_Magnitude_Bin'][0]-GAL_LFS[GAL_LFS_INDEX[i]]['Absolute_Magnitude_Bin'][1]),align='center',label='Number of Galaxies per Absolute Magnitude Bin',color='white',edgecolor='black')\n",
    "    lcbg_hist=ax_array[1].bar(LCBG_LFS[LCBG_LFS_INDEX[i]]['Absolute_Magnitude_Bin'],np.log10(LCBG_LFS[LCBG_LFS_INDEX[i]]['Number_Of_Gals']),np.abs(LCBG_LFS[LCBG_LFS_INDEX[i]]['Absolute_Magnitude_Bin'][0]-LCBG_LFS[LCBG_LFS_INDEX[i]]['Absolute_Magnitude_Bin'][1]),align='center',label='Number of Galaxies per Absolute Magnitude Bin',color='blue',edgecolor='black')\n",
    "    autolabel(lcbg_hist,'blue',i,1,standard_height=2.95)\n",
    "    autolabel(gal_hist,'black',i,1,standard_height=3.45)\n",
    "    i=i+1"
   ]
  },
  {
   "cell_type": "markdown",
   "metadata": {},
   "source": [
    "Since the formatting looks terrible when including the histogram, I will get rid of it below and just do the Luminosity Function Plots?"
   ]
  },
  {
   "cell_type": "code",
   "execution_count": 97,
   "metadata": {},
   "outputs": [
    {
     "data": {
      "image/png": "[encoded data removed]",
      "text/plain": [
       "<matplotlib.figure.Figure at 0x1818fd92e8>"
      ]
     },
     "metadata": {},
     "output_type": "display_data"
    }
   ],
   "source": [
    "plt.style.use('seaborn-whitegrid')\n",
    "#plt.style.use('default')\n",
    "params = {\n",
    "    'axes.labelsize': 14,\n",
    "    'text.fontsize': 16,\n",
    "    'legend.fontsize': 12,\n",
    "    'xtick.labelsize': 13,\n",
    "    'xtick.minor.visible':True,\n",
    "    'xtick.minor.size':2,\n",
    "    'xtick.major.size':3,\n",
    "    'ytick.minor.visible':True,\n",
    "    'ytick.labelsize': 13,\n",
    "    'ytick.minor.size':2,\n",
    "    'ytick.major.size':3,\n",
    "    'text.usetex': True,\n",
    "    'figure.figsize': [7, 4], # instead of 4.5, 4.5\n",
    "    'grid.linestyle': ':',\n",
    "    'axes.edgecolor' : '0',\n",
    "    'font.family':'serif',\n",
    "    'font.serif':'Computer Modern'\n",
    "    }\n",
    "mp.rcParams.update(params)\n",
    "f=plt.figure(figsize=(7,9.75))\n",
    "ax1=plt.subplot(3,2,1)\n",
    "ax2=plt.subplot(3,2,2)\n",
    "ax3=plt.subplot(3,2,3)\n",
    "ax4=plt.subplot(3,2,4)\n",
    "ax5=plt.subplot(3,2,5)\n",
    "ax6=plt.subplot(3,2,6)\n",
    "\n",
    "axes=[ax2,ax3,ax4,ax5,ax6]\n",
    "\n",
    "plt.subplots_adjust(hspace=0,wspace=0)\n",
    "\n",
    "x=np.arange(-23,-15,2)\n",
    "xminor=np.arange(-22,-16,2)\n",
    "y=np.arange(-5,0,2)\n",
    "yminor=np.arange(-4,-1,2)\n",
    "\n",
    "fake_gals=[5,6,7]\n",
    "fake_mags=[8,9,10]\n",
    "\n",
    "ax1.set_xticks(x)\n",
    "ax1.set_xticks(xminor,minor=True)\n",
    "ax1.set_yticks(y)\n",
    "ax1.set_yticks(yminor,minor=True)\n",
    "ax1.set_ylim([-5.5,-1.5])\n",
    "#ax1.set_ylabel('Log$_{10}$($\\Phi_{M}$) ($h^{3}_{70}$ Mpc$^{-3}$ mag$^{-1}$)')\n",
    "ax1.set_xticklabels([])\n",
    "ax1.plot(fake_mags,fake_gals,'o-',label='All Galaxies',color='black',fillstyle='none')\n",
    "ax1.plot(fake_mags,fake_gals,'s-',label='LCBGs',color='blue',fillstyle='none')\n",
    "ax1.legend(loc='center',fontsize=16)\n",
    "ax1.grid(False)\n",
    "\n",
    "\n",
    "ax2.set_xticks(x)\n",
    "ax2.set_xticks(xminor,minor=True)\n",
    "ax2.set_yticks(y)\n",
    "ax2.set_yticks(yminor,minor=True)\n",
    "ax2.set_ylim([-5.5,-1.5])\n",
    "ax2.set_yticklabels([])\n",
    "ax2.set_xticklabels([])\n",
    "\n",
    "ax3.set_xticks(x)\n",
    "ax3.set_xticks(xminor,minor=True)\n",
    "ax3.set_yticks(y)\n",
    "ax3.set_yticks(yminor,minor=True)\n",
    "ax3.set_ylim([-5.5,-1.5])\n",
    "#ax3.set_ylabel('Log$_{10}$($\\Phi_{M}$) ($h^{3}_{70}$ Mpc$^{-3}$ mag$^{-1}$)')\n",
    "ax3.set_xticklabels([])\n",
    "\n",
    "ax4.set_xticks(x)\n",
    "ax4.set_xticks(xminor,minor=True)\n",
    "ax4.set_yticks(y)\n",
    "ax4.set_yticks(yminor,minor=True)\n",
    "ax4.set_ylim([-5.5,-1.5])\n",
    "ax4.set_yticklabels([])\n",
    "ax4.set_xticklabels([])\n",
    "\n",
    "ax5.set_xticks(x)\n",
    "ax5.set_xticks(xminor,minor=True)\n",
    "ax5.set_yticks(y)\n",
    "ax5.set_yticks(yminor,minor=True)\n",
    "ax5.set_ylim([-5.5,-1.5])\n",
    "#ax5.set_ylabel('Log$_{10}$($\\Phi_{M}$) ($h^{3}_{70}$ Mpc$^{-3}$ mag$^{-1}$)')\n",
    "#ax5.set_xlabel('M$_{B}$-5log$_{10}$(h$_{70}$)')\n",
    "\n",
    "ax6.set_xticks(x)\n",
    "ax6.set_xticks(xminor,minor=True)\n",
    "ax6.set_yticks(y)\n",
    "ax6.set_yticks(yminor,minor=True)\n",
    "ax6.set_ylim([-5.5,-1.5])\n",
    "ax6.set_yticklabels([])\n",
    "#ax6.set_xlabel('M$_{B}$-5log$_{10}$(h$_{70}$)')\n",
    "\n",
    "ax1.set_xlim([-24,-16])\n",
    "ax2.set_xlim([-24,-16])\n",
    "ax3.set_xlim([-24,-16])\n",
    "ax4.set_xlim([-24,-16])\n",
    "ax5.set_xlim([-24,-16])\n",
    "ax6.set_xlim([-24,-16])\n",
    "\n",
    "f.subplots_adjust(left=0.09, bottom=0.05, right=0.99, top=0.99)\n",
    "f.text(0.52,0,'M$_{B}$-5log$_{10}$(h$_{70}$)',ha='center',va='center',fontsize=16)\n",
    "f.text(0.02,0.5,'Log$_{10}$($\\Phi_{M}$) ($h^{3}_{70}$ Mpc$^{-3}$ mag$^{-1}$)',ha='center',va='center',rotation='vertical',fontsize=16)\n",
    "#f.text(0.05,0.35,'Log$_{10}$($\\Phi_{M}$) ($h^{3}_{70}$ Mpc$^{-3}$ mag$^{-1}$)',ha='center',va='center',rotation='vertical',fontsize=16)\n",
    "#f.text(0.05,0.55,'Log$_{10}$(N)',ha='center',va='center',rotation='vertical',fontsize=16)\n",
    "#f.text(0.05,0.15,'Log$_{10}$(N)',ha='center',va='center',rotation='vertical',fontsize=16)\n",
    "\n",
    "magrange=np.linspace(-24,-16,100)\n",
    "i=0\n",
    "for axe in axes:\n",
    "    axe.errorbar(GAL_LFS[GAL_LFS_INDEX[i]]['Average_Absolute_Magnitude'],GAL_LFS[GAL_LFS_INDEX[i]]['Log10Phi'],yerr=GAL_LFS[GAL_LFS_INDEX[0]]['Log10Err'],xerr=[np.abs(GAL_LFS[GAL_LFS_INDEX[i]]['Average_Absolute_Magnitude']+0.25-GAL_LFS[GAL_LFS_INDEX[i]]['Absolute_Magnitude_Bin']),np.abs(GAL_LFS[GAL_LFS_INDEX[0]]['Average_Absolute_Magnitude']-0.25-GAL_LFS[GAL_LFS_INDEX[i]]['Absolute_Magnitude_Bin'])],fmt='o',label='Galaxies',color='black',fillstyle='none')\n",
    "    axe.errorbar(LCBG_LFS[LCBG_LFS_INDEX[i]]['Average_Absolute_Magnitude'],LCBG_LFS[LCBG_LFS_INDEX[i]]['Log10Phi'],yerr=LCBG_LFS[LCBG_LFS_INDEX[i]]['Log10Err'],xerr=[np.abs(LCBG_LFS[LCBG_LFS_INDEX[i]]['Average_Absolute_Magnitude']+0.25-LCBG_LFS[LCBG_LFS_INDEX[i]]['Absolute_Magnitude_Bin']),np.abs(LCBG_LFS[LCBG_LFS_INDEX[i]]['Average_Absolute_Magnitude']-0.25-LCBG_LFS[LCBG_LFS_INDEX[i]]['Absolute_Magnitude_Bin'])],fmt='s',label='LCBGS',color='blue',fillstyle='none')\n",
    "    axe.plot(magrange,np.log10(LCBG_FITS_AP[LCBG_FITS_AP_INDEX[i]][0](magrange)),color='blue')\n",
    "    axe.plot(magrange,np.log10(GAL_FITS_AP[GAL_FITS_AP_INDEX[i]][0](magrange)),color='black')\n",
    "    if i>0:\n",
    "        axe.text(-22,-2,'{}$<z\\le${}'.format(((i*2)/10),(((i+1)*2)/10)))\n",
    "    else:\n",
    "        axe.text(-22,-2,'0.01$<z\\le$0.2')\n",
    "    i=i+1\n",
    "plt.savefig('LCBG_LUMINOSITY_FUNCTION_NO_HIST.ps')"
   ]
  }
 ],
 "metadata": {
  "kernelspec": {
   "display_name": "Python 3",
   "language": "python",
   "name": "python3"
  },
  "language_info": {
   "codemirror_mode": {
    "name": "ipython",
    "version": 3
   },
   "file_extension": ".py",
   "mimetype": "text/x-python",
   "name": "python",
   "nbconvert_exporter": "python",
   "pygments_lexer": "ipython3",
   "version": "3.6.7"
  }
 },
 "nbformat": 4,
 "nbformat_minor": 2
}
