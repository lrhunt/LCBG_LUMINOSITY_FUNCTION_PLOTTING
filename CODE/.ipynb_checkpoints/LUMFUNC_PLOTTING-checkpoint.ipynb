{
 "cells": [
  {
   "cell_type": "code",
   "execution_count": 18,
   "metadata": {},
   "outputs": [],
   "source": [
    "import numpy as np\n",
    "import astropy as ap\n",
    "import matplotlib.pyplot as plt\n",
    "import matplotlib.gridspec as gridspec\n",
    "import math as m\n",
    "import argparse\n",
    "from astropy.modeling.fitting import LevMarLSQFitter\n",
    "from astropy.modeling.models import custom_model\n",
    "from matplotlib.backends.backend_pdf import PdfPages\n",
    "import scipy as sp\n",
    "import uncertainties as unc\n",
    "import uncertainties\n",
    "from uncertainties import unumpy as unp\n",
    "import kcorrect\n",
    "import kcorrect.utils as ut\n",
    "from astropy.cosmology import FlatLambdaCDM\n",
    "import pandas as pd"
   ]
  },
  {
   "cell_type": "markdown",
   "metadata": {},
   "source": [
    "Defining the Cosmology"
   ]
  },
  {
   "cell_type": "code",
   "execution_count": 5,
   "metadata": {},
   "outputs": [],
   "source": [
    "cosmo=FlatLambdaCDM(H0=70.0,Om0=0.3)"
   ]
  },
  {
   "cell_type": "markdown",
   "metadata": {},
   "source": [
    "Creating a function that will label the bars in the bar plot as part of the luminosity function"
   ]
  },
  {
   "cell_type": "code",
   "execution_count": 6,
   "metadata": {},
   "outputs": [],
   "source": [
    "def autolabel(rects,thecolor,row,col):\n",
    "         for rect in rects:\n",
    "                  height=rect.get_height()\n",
    "                  print(height)\n",
    "                  if not m.isinf(height):\n",
    "                           axes[row][col].text(rect.get_x() + rect.get_width()/2.,height+0.05,'{}'.format(int(np.power(10,height))),ha='center',va='bottom',fontsize=7,color=thecolor)"
   ]
  },
  {
   "cell_type": "markdown",
   "metadata": {},
   "source": [
    "Astropy model to fit the estimated luminosity function with a schechter function"
   ]
  },
  {
   "cell_type": "code",
   "execution_count": 7,
   "metadata": {},
   "outputs": [],
   "source": [
    "@custom_model\n",
    "def schechter_func(x,phistar=0.0056,mstar=-21,alpha=-1.03):\n",
    "    return (0.4*np.log(10)*phistar)*(10**(0.4*(alpha+1)*(mstar-x)))*(np.e**(-np.power(10,0.4*(mstar-x))))"
   ]
  },
  {
   "cell_type": "markdown",
   "metadata": {},
   "source": [
    "Scipy model to fit the estimated luminosity function with a schechter function"
   ]
  },
  {
   "cell_type": "code",
   "execution_count": 8,
   "metadata": {},
   "outputs": [],
   "source": [
    "def schechter_func_scipy(x,phistar,mstar,alpha):\n",
    "    return (0.4*np.log(10)*phistar)*(10**(0.4*(alpha+1)*(mstar-x)))*(np.e**(-np.power(10,0.4*(mstar-x))))"
   ]
  },
  {
   "cell_type": "code",
   "execution_count": 17,
   "metadata": {},
   "outputs": [
    {
     "data": {
      "image/png": "[encoded data removed]",
      "text/plain": [
       "<matplotlib.figure.Figure at 0x181abfb390>"
      ]
     },
     "metadata": {
      "needs_background": "light"
     },
     "output_type": "display_data"
    }
   ],
   "source": [
    "f=plt.figure(figsize=(8.5,5.5))\n",
    "ax1=plt.subplot2grid((5,10),(0,0),colspan=6,rowspan=3)\n",
    "ax2=plt.subplot2grid((9,18),(0,6),colspan=6,rowspan=4)\n",
    "ax3=plt.subplot2grid((9,18),(0,12),colspan=6,rowspan=3)\n",
    "ax4=plt.subplot2grid((9,18),(3,0),colspan=6)\n",
    "ax5=plt.subplot2grid((9,18),(3,6),colspan=6)\n",
    "ax6=plt.subplot2grid((9,18),(3,12),colspan=6)\n",
    "ax7=plt.subplot2grid((9,18),(5,3),colspan=6,rowspan=3)\n",
    "ax8=plt.subplot2grid((9,18),(5,9),colspan=6,rowspan=3)\n",
    "ax9=plt.subplot2grid((9,18),(8,3),colspan=6)\n",
    "ax10=plt.subplot2grid((9,18),(8,9),colspan=6)\n",
    "axes=np.array([[ax1,ax2,ax3],[ax4,ax5,ax6],[ax7,ax8,2],[ax9,ax10,2]])\n"
   ]
  },
  {
   "cell_type": "code",
   "execution_count": null,
   "metadata": {},
   "outputs": [],
   "source": [
    "gs=gridspec.GridSpec"
   ]
  }
 ],
 "metadata": {
  "kernelspec": {
   "display_name": "Python 3",
   "language": "python",
   "name": "python3"
  },
  "language_info": {
   "codemirror_mode": {
    "name": "ipython",
    "version": 3
   },
   "file_extension": ".py",
   "mimetype": "text/x-python",
   "name": "python",
   "nbconvert_exporter": "python",
   "pygments_lexer": "ipython3",
   "version": "3.6.6"
  }
 },
 "nbformat": 4,
 "nbformat_minor": 2
}
