{
 "cells": [
  {
   "cell_type": "code",
   "execution_count": 30,
   "metadata": {},
   "outputs": [],
   "source": [
    "import numpy as np\n",
    "import astropy as ap\n",
    "import matplotlib.pyplot as plt\n",
    "import matplotlib.gridspec as gridspec\n",
    "import math as m\n",
    "import argparse\n",
    "from astropy.modeling.fitting import LevMarLSQFitter\n",
    "from astropy.modeling.models import custom_model\n",
    "from matplotlib.backends.backend_pdf import PdfPages\n",
    "import scipy as sp\n",
    "from scipy import integrate\n",
    "import uncertainties as unc\n",
    "import uncertainties\n",
    "from uncertainties import unumpy as unp\n",
    "import kcorrect\n",
    "import kcorrect.utils as ut\n",
    "from astropy.cosmology import FlatLambdaCDM\n",
    "import pandas as pd\n",
    "import matplotlib as mp\n",
    "import os"
   ]
  },
  {
   "cell_type": "code",
   "execution_count": 31,
   "metadata": {},
   "outputs": [],
   "source": [
    "plt.style.use('seaborn-whitegrid')\n",
    "plt.style.use('default')\n",
    "params = {\n",
    "    'axes.labelsize': 11,\n",
    "    'legend.fontsize': 12,\n",
    "    'xtick.labelsize': 13,\n",
    "    'ytick.labelsize': 13,\n",
    "    'text.usetex': True,\n",
    "    'figure.figsize': [7, 4], # instead of 4.5, 4.5\n",
    "    'grid.linestyle': ':',\n",
    "    'axes.edgecolor' : '0',\n",
    "    'font.family':'serif',\n",
    "    'font.serif':'Computer Modern'\n",
    "    }\n",
    "mp.rcParams.update(params)"
   ]
  },
  {
   "cell_type": "code",
   "execution_count": 32,
   "metadata": {},
   "outputs": [],
   "source": [
    "cosmo=FlatLambdaCDM(H0=70.0,Om0=0.3)\n",
    "fit=LevMarLSQFitter()\n",
    "GAL_ALPHA=-1.05\n",
    "LCBG_ALPHA=-1.0"
   ]
  },
  {
   "cell_type": "code",
   "execution_count": 33,
   "metadata": {},
   "outputs": [],
   "source": [
    "@uncertainties.wrap\n",
    "def integratethings(ps,ms,al=None,m=None):\n",
    "    if al==None:\n",
    "        al=-1.1\n",
    "    if m==None:\n",
    "        m=-18.5\n",
    "    def integrand(X):\n",
    "        return (0.4*np.log(10)*ps)*(10**(0.4*(al+1)*(ms-X)))*(np.e**(-np.power(10,0.4*(ms-X))))\n",
    "    integral,abserr=sp.integrate.quad(integrand,-100,m)\n",
    "    return integral"
   ]
  },
  {
   "cell_type": "code",
   "execution_count": 34,
   "metadata": {},
   "outputs": [
    {
     "name": "stdout",
     "output_type": "stream",
     "text": [
      "LF_10_35_LCBG.csv\n",
      "LF_35_55_LCBG.csv\n",
      "LF_55_75_LCBG.csv\n",
      "LF_75_100_LCBG.csv\n",
      "zLF_30_80.csv\n"
     ]
    }
   ],
   "source": [
    "LCBG_DIR='/home/lrhunt/Projects/LCBG_LUMINOSITY_FUNCTION/LCBGLFOUT/apmag225/zucca_z_bins/'\n",
    "LCBG_LFS={}\n",
    "LCBG_LFS_INDEX=[]\n",
    "for file in os.listdir(LCBG_DIR):\n",
    "    if file.endswith('csv'):\n",
    "        print(file)\n",
    "        LCBG_LFS[file.split('.csv')[0]]=pd.read_csv(LCBG_DIR+'/'+file)\n",
    "        LCBG_LFS_INDEX.append(file.split('.csv')[0])\n",
    "    if file.endswith('.xlsx'):\n",
    "        LCBG_FIT_VALS=pd.read_excel(LCBG_DIR+file,index_col=0)"
   ]
  },
  {
   "cell_type": "code",
   "execution_count": 35,
   "metadata": {},
   "outputs": [],
   "source": [
    "GAL_DIR='/home/lrhunt/Projects/LCBG_LUMINOSITY_FUNCTION/FULLLFOUT/apmag225/zucca_z_bins/'\n",
    "GAL_LFS={}\n",
    "GAL_LFS_INDEX=[]\n",
    "for file in os.listdir(GAL_DIR):\n",
    "    if file.endswith('csv'):\n",
    "        GAL_LFS[file.split('.csv')[0]]=pd.read_csv(GAL_DIR+'/'+file)\n",
    "        GAL_LFS_INDEX.append(file.split('.csv')[0])\n",
    "    if file.endswith('.xlsx'):\n",
    "        GAL_FIT_VALS=pd.read_excel(GAL_DIR+file,index_col=0)"
   ]
  },
  {
   "cell_type": "code",
   "execution_count": 36,
   "metadata": {},
   "outputs": [
    {
     "data": {
      "text/html": [
       "<div>\n",
       "<style scoped>\n",
       "    .dataframe tbody tr th:only-of-type {\n",
       "        vertical-align: middle;\n",
       "    }\n",
       "\n",
       "    .dataframe tbody tr th {\n",
       "        vertical-align: top;\n",
       "    }\n",
       "\n",
       "    .dataframe thead th {\n",
       "        text-align: right;\n",
       "    }\n",
       "</style>\n",
       "<table border=\"1\" class=\"dataframe\">\n",
       "  <thead>\n",
       "    <tr style=\"text-align: right;\">\n",
       "      <th></th>\n",
       "      <th>PHI</th>\n",
       "      <th>PHI_unc</th>\n",
       "      <th>M</th>\n",
       "      <th>M_unc</th>\n",
       "    </tr>\n",
       "  </thead>\n",
       "  <tbody>\n",
       "    <tr>\n",
       "      <th>10_35</th>\n",
       "      <td>0.006379</td>\n",
       "      <td>0.000163</td>\n",
       "      <td>-20.638894</td>\n",
       "      <td>0.042595</td>\n",
       "    </tr>\n",
       "    <tr>\n",
       "      <th>35_55</th>\n",
       "      <td>0.005411</td>\n",
       "      <td>0.000165</td>\n",
       "      <td>-20.769876</td>\n",
       "      <td>0.035128</td>\n",
       "    </tr>\n",
       "    <tr>\n",
       "      <th>55_75</th>\n",
       "      <td>0.006415</td>\n",
       "      <td>0.000250</td>\n",
       "      <td>-20.930254</td>\n",
       "      <td>0.034059</td>\n",
       "    </tr>\n",
       "    <tr>\n",
       "      <th>75_100</th>\n",
       "      <td>0.006758</td>\n",
       "      <td>0.000305</td>\n",
       "      <td>-21.065415</td>\n",
       "      <td>0.029880</td>\n",
       "    </tr>\n",
       "    <tr>\n",
       "      <th>30_80</th>\n",
       "      <td>0.005598</td>\n",
       "      <td>0.000319</td>\n",
       "      <td>-20.900640</td>\n",
       "      <td>0.062364</td>\n",
       "    </tr>\n",
       "  </tbody>\n",
       "</table>\n",
       "</div>"
      ],
      "text/plain": [
       "             PHI   PHI_unc          M     M_unc\n",
       "10_35   0.006379  0.000163 -20.638894  0.042595\n",
       "35_55   0.005411  0.000165 -20.769876  0.035128\n",
       "55_75   0.006415  0.000250 -20.930254  0.034059\n",
       "75_100  0.006758  0.000305 -21.065415  0.029880\n",
       "30_80   0.005598  0.000319 -20.900640  0.062364"
      ]
     },
     "execution_count": 36,
     "metadata": {},
     "output_type": "execute_result"
    }
   ],
   "source": [
    "GAL_FIT_VALS"
   ]
  },
  {
   "cell_type": "code",
   "execution_count": 37,
   "metadata": {},
   "outputs": [],
   "source": [
    "GAL_BIAS_CUTOFF={GAL_LFS_INDEX[0]:-17,\n",
    "                 GAL_LFS_INDEX[1]:-19,\n",
    "                 GAL_LFS_INDEX[2]:-20,\n",
    "                 GAL_LFS_INDEX[3]:-20.5,\n",
    "                 GAL_LFS_INDEX[4]:-20,}\n",
    "LCBG_BIAS_CUTOFF={LCBG_LFS_INDEX[0]:-17,\n",
    "                 LCBG_LFS_INDEX[1]:-19,\n",
    "                 LCBG_LFS_INDEX[2]:-20,\n",
    "                 LCBG_LFS_INDEX[3]:-20.5,\n",
    "                 LCBG_LFS_INDEX[4]:-20,}"
   ]
  },
  {
   "cell_type": "code",
   "execution_count": 38,
   "metadata": {},
   "outputs": [],
   "source": [
    "LCBG_FIT_VALS['NGAL']=0\n",
    "GAL_FIT_VALS['NGAL']=0\n",
    "LCBG_FIT_VALS['NGAL_BELOW_BIAS']=0\n",
    "GAL_FIT_VALS['NGAL_BELOW_BIAS']=0"
   ]
  },
  {
   "cell_type": "code",
   "execution_count": 39,
   "metadata": {},
   "outputs": [],
   "source": [
    "for index in LCBG_LFS_INDEX:\n",
    "    LCBG_FIT_VALS.loc[index.split('LF_')[-1],\n",
    "                      'NGAL']=LCBG_LFS[index].loc[:,\n",
    "                                                  'Number_Of_Gals'].sum()\n",
    "    LCBG_FIT_VALS.loc[index.split('LF_')[-1],\n",
    "                      'NGAL_BELOW_BIAS']=LCBG_LFS[index].loc[LCBG_LFS[index].Absolute_Magnitude_Bin<LCBG_BIAS_CUTOFF[index],\n",
    "                                                             'Number_Of_Gals'].sum()\n",
    "    LCBG_FIT_VALS.loc[index.split('LF_')[-1],\n",
    "                      'PHI_unc']=unc.ufloat(LCBG_FIT_VALS.loc[index.split('LF_')[-1],\n",
    "                                                              'PHI'],\n",
    "                                            LCBG_FIT_VALS.loc[index.split('LF_')[-1],\n",
    "                                                              'PHI_unc'])\n",
    "    LCBG_FIT_VALS.loc[index.split('LF_')[-1],\n",
    "                      'M_unc']=unc.ufloat(LCBG_FIT_VALS.loc[index.split('LF_')[-1],\n",
    "                                                            'M'],\n",
    "                                          LCBG_FIT_VALS.loc[index.split('LF_')[-1],\n",
    "                                                            'M_unc'])"
   ]
  },
  {
   "cell_type": "code",
   "execution_count": 40,
   "metadata": {},
   "outputs": [],
   "source": [
    "for index in GAL_LFS_INDEX:\n",
    "    GAL_FIT_VALS.loc[index.split('LF_')[-1],'NGAL']=GAL_LFS[index]['Number_Of_Gals'].sum()\n",
    "    GAL_FIT_VALS.loc[index.split('LF_')[-1],'NGAL_BELOW_BIAS']=GAL_LFS[index].loc[GAL_LFS[index].Absolute_Magnitude_Bin<GAL_BIAS_CUTOFF[index],'Number_Of_Gals'].sum()\n",
    "    GAL_FIT_VALS.loc[index.split('LF_')[-1],'PHI_unc']=unc.ufloat(GAL_FIT_VALS.loc[index.split('LF_')[-1],'PHI'],GAL_FIT_VALS.loc[index.split('LF_')[-1],'PHI_unc'])\n",
    "    GAL_FIT_VALS.loc[index.split('LF_')[-1],'M_unc']=unc.ufloat(GAL_FIT_VALS.loc[index.split('LF_')[-1],'M'],GAL_FIT_VALS.loc[index.split('LF_')[-1],'M_unc'])"
   ]
  },
  {
   "cell_type": "code",
   "execution_count": 41,
   "metadata": {},
   "outputs": [
    {
     "data": {
      "text/plain": [
       "0.001410082136950217+/-6.772472424719449e-05"
      ]
     },
     "execution_count": 41,
     "metadata": {},
     "output_type": "execute_result"
    }
   ],
   "source": [
    "LCBG_FIT_VALS.PHI_unc[0]"
   ]
  },
  {
   "cell_type": "code",
   "execution_count": 42,
   "metadata": {},
   "outputs": [],
   "source": [
    "for index in GAL_LFS_INDEX:\n",
    "    tmpindex=index.split('LF_')[-1]\n",
    "    GAL_FIT_VALS.loc[tmpindex,\n",
    "                     'INT_NUM_DENS_EIGHTEENFIVE']=integratethings(GAL_FIT_VALS.loc[tmpindex,'PHI_unc'],\n",
    "                                                                  GAL_FIT_VALS.loc[tmpindex,'M_unc'],\n",
    "                                                                  al=GAL_ALPHA,\n",
    "                                                                  m=-18.5)\n",
    "    GAL_FIT_VALS.loc[tmpindex,\n",
    "                     'INT_NUM_DENS_FIFTEEN']=integratethings(GAL_FIT_VALS.loc[tmpindex,'PHI_unc'],\n",
    "                                                                  GAL_FIT_VALS.loc[tmpindex,'M_unc'],\n",
    "                                                                  al=GAL_ALPHA,\n",
    "                                                                  m=-15)"
   ]
  },
  {
   "cell_type": "code",
   "execution_count": 43,
   "metadata": {},
   "outputs": [],
   "source": [
    "for index in LCBG_LFS_INDEX:\n",
    "    tmpindex=index.split('LF_')[-1]\n",
    "    LCBG_FIT_VALS.loc[tmpindex,\n",
    "                     'INT_NUM_DENS_EIGHTEENFIVE']=integratethings(LCBG_FIT_VALS.loc[tmpindex,'PHI_unc'],\n",
    "                                                                  LCBG_FIT_VALS.loc[tmpindex,'M_unc'],\n",
    "                                                                  al=LCBG_ALPHA,\n",
    "                                                                  m=-18.5)\n",
    "    LCBG_FIT_VALS.loc[tmpindex,\n",
    "                     'INT_NUM_DENS_EIGHTEENFIVE_val']=integratethings(LCBG_FIT_VALS.loc[tmpindex,'PHI_unc'],\n",
    "                                                                  LCBG_FIT_VALS.loc[tmpindex,'M_unc'],\n",
    "                                                                  al=LCBG_ALPHA,\n",
    "                                                                  m=-18.5).nominal_value\n",
    "    LCBG_FIT_VALS.loc[tmpindex,\n",
    "                     'INT_NUM_DENS_EIGHTEENFIVE_err']=integratethings(LCBG_FIT_VALS.loc[tmpindex,'PHI_unc'],\n",
    "                                                                  LCBG_FIT_VALS.loc[tmpindex,'M_unc'],\n",
    "                                                                  al=LCBG_ALPHA,\n",
    "                                                                  m=-18.5).std_dev\n",
    "    LCBG_FIT_VALS.loc[tmpindex,\n",
    "                     'ave_z']=(float(tmpindex.split('_')[0])+float(tmpindex.split('_')[1]))/200"
   ]
  },
  {
   "cell_type": "code",
   "execution_count": 44,
   "metadata": {},
   "outputs": [
    {
     "data": {
      "text/html": [
       "<div>\n",
       "<style scoped>\n",
       "    .dataframe tbody tr th:only-of-type {\n",
       "        vertical-align: middle;\n",
       "    }\n",
       "\n",
       "    .dataframe tbody tr th {\n",
       "        vertical-align: top;\n",
       "    }\n",
       "\n",
       "    .dataframe thead th {\n",
       "        text-align: right;\n",
       "    }\n",
       "</style>\n",
       "<table border=\"1\" class=\"dataframe\">\n",
       "  <thead>\n",
       "    <tr style=\"text-align: right;\">\n",
       "      <th></th>\n",
       "      <th>PHI</th>\n",
       "      <th>PHI_unc</th>\n",
       "      <th>M</th>\n",
       "      <th>M_unc</th>\n",
       "      <th>NGAL</th>\n",
       "      <th>NGAL_BELOW_BIAS</th>\n",
       "      <th>INT_NUM_DENS_EIGHTEENFIVE</th>\n",
       "      <th>INT_NUM_DENS_EIGHTEENFIVE_val</th>\n",
       "      <th>INT_NUM_DENS_EIGHTEENFIVE_err</th>\n",
       "      <th>ave_z</th>\n",
       "    </tr>\n",
       "  </thead>\n",
       "  <tbody>\n",
       "    <tr>\n",
       "      <th>10_35_LCBG</th>\n",
       "      <td>0.001410</td>\n",
       "      <td>0.00141+/-0.00007</td>\n",
       "      <td>-20.469905</td>\n",
       "      <td>-20.47+/-0.06</td>\n",
       "      <td>319</td>\n",
       "      <td>319</td>\n",
       "      <td>0.00197+/-0.00012</td>\n",
       "      <td>0.001965</td>\n",
       "      <td>0.000118</td>\n",
       "      <td>0.225</td>\n",
       "    </tr>\n",
       "    <tr>\n",
       "      <th>35_55_LCBG</th>\n",
       "      <td>0.002077</td>\n",
       "      <td>0.00208+/-0.00005</td>\n",
       "      <td>-20.554817</td>\n",
       "      <td>-20.555+/-0.026</td>\n",
       "      <td>880</td>\n",
       "      <td>785</td>\n",
       "      <td>0.00303+/-0.00008</td>\n",
       "      <td>0.003034</td>\n",
       "      <td>0.000081</td>\n",
       "      <td>0.450</td>\n",
       "    </tr>\n",
       "    <tr>\n",
       "      <th>55_75_LCBG</th>\n",
       "      <td>0.003932</td>\n",
       "      <td>0.00393+/-0.00025</td>\n",
       "      <td>-20.494007</td>\n",
       "      <td>-20.49+/-0.05</td>\n",
       "      <td>1098</td>\n",
       "      <td>935</td>\n",
       "      <td>0.0056+/-0.0004</td>\n",
       "      <td>0.005554</td>\n",
       "      <td>0.000375</td>\n",
       "      <td>0.650</td>\n",
       "    </tr>\n",
       "    <tr>\n",
       "      <th>75_100_LCBG</th>\n",
       "      <td>0.005133</td>\n",
       "      <td>0.0051+/-0.0005</td>\n",
       "      <td>-20.603692</td>\n",
       "      <td>-20.60+/-0.05</td>\n",
       "      <td>941</td>\n",
       "      <td>894</td>\n",
       "      <td>0.0077+/-0.0008</td>\n",
       "      <td>0.007696</td>\n",
       "      <td>0.000779</td>\n",
       "      <td>0.875</td>\n",
       "    </tr>\n",
       "    <tr>\n",
       "      <th>30_80</th>\n",
       "      <td>0.002272</td>\n",
       "      <td>0.00227+/-0.00020</td>\n",
       "      <td>-20.688162</td>\n",
       "      <td>-20.69+/-0.09</td>\n",
       "      <td>2301</td>\n",
       "      <td>1507</td>\n",
       "      <td>0.00356+/-0.00035</td>\n",
       "      <td>0.003560</td>\n",
       "      <td>0.000355</td>\n",
       "      <td>0.550</td>\n",
       "    </tr>\n",
       "  </tbody>\n",
       "</table>\n",
       "</div>"
      ],
      "text/plain": [
       "                  PHI            PHI_unc          M            M_unc  NGAL  \\\n",
       "10_35_LCBG   0.001410  0.00141+/-0.00007 -20.469905    -20.47+/-0.06   319   \n",
       "35_55_LCBG   0.002077  0.00208+/-0.00005 -20.554817  -20.555+/-0.026   880   \n",
       "55_75_LCBG   0.003932  0.00393+/-0.00025 -20.494007    -20.49+/-0.05  1098   \n",
       "75_100_LCBG  0.005133    0.0051+/-0.0005 -20.603692    -20.60+/-0.05   941   \n",
       "30_80        0.002272  0.00227+/-0.00020 -20.688162    -20.69+/-0.09  2301   \n",
       "\n",
       "             NGAL_BELOW_BIAS INT_NUM_DENS_EIGHTEENFIVE  \\\n",
       "10_35_LCBG               319         0.00197+/-0.00012   \n",
       "35_55_LCBG               785         0.00303+/-0.00008   \n",
       "55_75_LCBG               935           0.0056+/-0.0004   \n",
       "75_100_LCBG              894           0.0077+/-0.0008   \n",
       "30_80                   1507         0.00356+/-0.00035   \n",
       "\n",
       "             INT_NUM_DENS_EIGHTEENFIVE_val  INT_NUM_DENS_EIGHTEENFIVE_err  \\\n",
       "10_35_LCBG                        0.001965                       0.000118   \n",
       "35_55_LCBG                        0.003034                       0.000081   \n",
       "55_75_LCBG                        0.005554                       0.000375   \n",
       "75_100_LCBG                       0.007696                       0.000779   \n",
       "30_80                             0.003560                       0.000355   \n",
       "\n",
       "             ave_z  \n",
       "10_35_LCBG   0.225  \n",
       "35_55_LCBG   0.450  \n",
       "55_75_LCBG   0.650  \n",
       "75_100_LCBG  0.875  \n",
       "30_80        0.550  "
      ]
     },
     "execution_count": 44,
     "metadata": {},
     "output_type": "execute_result"
    }
   ],
   "source": [
    "LCBG_FIT_VALS"
   ]
  },
  {
   "cell_type": "code",
   "execution_count": 45,
   "metadata": {},
   "outputs": [
    {
     "name": "stderr",
     "output_type": "stream",
     "text": [
      "/home/lrhunt/programs/anaconda3/lib/python3.7/site-packages/matplotlib/legend.py:497: UserWarning: Unrecognized location \"2\". Falling back on \"best\"; valid locations are\n",
      "\tbest\n",
      "\tupper right\n",
      "\tupper left\n",
      "\tlower left\n",
      "\tlower right\n",
      "\tright\n",
      "\tcenter left\n",
      "\tcenter right\n",
      "\tlower center\n",
      "\tupper center\n",
      "\tcenter\n",
      "\n",
      "  % (loc, '\\n\\t'.join(self.codes)))\n"
     ]
    },
    {
     "data": {
      "image/png": "[encoded data removed]",
      "text/plain": [
       "<Figure size 850x800 with 1 Axes>"
      ]
     },
     "metadata": {},
     "output_type": "display_data"
    }
   ],
   "source": [
    "f,ax=plt.subplots(figsize=(8.5,8))\n",
    "ax.errorbar(LCBG_FIT_VALS.loc[[ind for ind in LCBG_FIT_VALS.index if 'LCBG' in ind],'ave_z'],\n",
    "            LCBG_FIT_VALS.loc[[ind for ind in LCBG_FIT_VALS.index if 'LCBG' in ind],'INT_NUM_DENS_EIGHTEENFIVE_val'],\n",
    "            yerr=LCBG_FIT_VALS.loc[[ind for ind in LCBG_FIT_VALS.index if 'LCBG' in ind],'INT_NUM_DENS_EIGHTEENFIVE_err'],\n",
    "            color='blue',\n",
    "            marker='s',\n",
    "            ls='none',\n",
    "            label='This Study')\n",
    "ax.errorbar(0.55,0.0022*(70./75.)**3,color='blue',marker='x',xerr=0.15,ls='none',label='Phillips, 1997')\n",
    "ax.errorbar(0.85,0.0088*(70./75.)**3,color='blue',marker='x',xerr=0.15,ls='none')\n",
    "ax.errorbar(0.023,0.00054*(70./75.)**3,color='red',marker='*',xerr=0.022,ls='none',label='Werk, 2004')\n",
    "ax.set_xlim([0,1])\n",
    "plt.xlabel('Redshift',fontsize=16)\t\n",
    "plt.ylabel('N (Mpc$^{-3}$)',fontsize=16)\n",
    "plt.legend(loc='2')\n",
    "plt.subplots_adjust(right=0.98,left=0.13,top=0.97,bottom=0.07)"
   ]
  },
  {
   "cell_type": "code",
   "execution_count": null,
   "metadata": {},
   "outputs": [],
   "source": []
  }
 ],
 "metadata": {
  "kernelspec": {
   "display_name": "Python 3",
   "language": "python",
   "name": "python3"
  },
  "language_info": {
   "codemirror_mode": {
    "name": "ipython",
    "version": 3
   },
   "file_extension": ".py",
   "mimetype": "text/x-python",
   "name": "python",
   "nbconvert_exporter": "python",
   "pygments_lexer": "ipython3",
   "version": "3.7.3"
  }
 },
 "nbformat": 4,
 "nbformat_minor": 2
}
