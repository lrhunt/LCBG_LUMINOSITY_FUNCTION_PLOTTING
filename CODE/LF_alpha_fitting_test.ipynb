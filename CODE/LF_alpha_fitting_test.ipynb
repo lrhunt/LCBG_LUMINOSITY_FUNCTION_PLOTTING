{
 "cells": [
  {
   "cell_type": "code",
   "execution_count": 1,
   "metadata": {},
   "outputs": [],
   "source": [
    "import numpy as np\n",
    "import astropy as ap\n",
    "import matplotlib.pyplot as plt\n",
    "import matplotlib.gridspec as gridspec\n",
    "import math as m\n",
    "import argparse\n",
    "from astropy.modeling.fitting import LevMarLSQFitter\n",
    "from astropy.modeling.models import custom_model\n",
    "from matplotlib.backends.backend_pdf import PdfPages\n",
    "import scipy as sp\n",
    "import uncertainties as unc\n",
    "import uncertainties\n",
    "from uncertainties import unumpy as unp\n",
    "import kcorrect\n",
    "import kcorrect.utils as ut\n",
    "from astropy.cosmology import FlatLambdaCDM\n",
    "import pandas as pd\n",
    "import matplotlib as mp\n",
    "import os"
   ]
  },
  {
   "cell_type": "code",
   "execution_count": 2,
   "metadata": {},
   "outputs": [],
   "source": [
    "cosmo=FlatLambdaCDM(H0=70.0,Om0=0.3)\n",
    "fit=LevMarLSQFitter()"
   ]
  },
  {
   "cell_type": "code",
   "execution_count": 3,
   "metadata": {},
   "outputs": [],
   "source": [
    "def autolabel(rects,thecolor,row,col,standard_height=0):\n",
    "    for rect in rects:\n",
    "        if rect.xy[0]<-16:\n",
    "            height=rect.get_height()\n",
    "            if not standard_height:\n",
    "                if not m.isinf(height):\n",
    "                    axes[row][col].text(rect.get_x() + rect.get_width()/2.,height+0.05,'{}'.format(int(np.round(np.power(10,height)))),ha='center',va='bottom',fontsize=7,color=thecolor)\n",
    "            else:\n",
    "                if not m.isinf(height):\n",
    "                    axes[row][col].text(rect.get_x() + rect.get_width()/2.,standard_height,'{}'.format(int(np.round(np.power(10,height)))),ha='center',va='bottom',fontsize=7,color=thecolor)"
   ]
  },
  {
   "cell_type": "code",
   "execution_count": 4,
   "metadata": {},
   "outputs": [],
   "source": [
    "@custom_model\n",
    "def schechter_func(x,phistar=0.0056,mstar=-21,alpha=-1.03):\n",
    "    return (0.4*np.log(10)*phistar)*(10**(0.4*(alpha+1)*(mstar-x)))*(np.e**(-np.power(10,0.4*(mstar-x))))"
   ]
  },
  {
   "cell_type": "code",
   "execution_count": 5,
   "metadata": {},
   "outputs": [],
   "source": [
    "def schechter_func_scipy(x,phistar,mstar,alpha):\n",
    "    return (0.4*np.log(10)*phistar)*(10**(0.4*(alpha+1)*(mstar-x)))*(np.e**(-np.power(10,0.4*(mstar-x))))"
   ]
  },
  {
   "cell_type": "code",
   "execution_count": 6,
   "metadata": {},
   "outputs": [],
   "source": [
    "def ap_fitting(DATAFRAME,MASK=None):\n",
    "    if MASK==None:\n",
    "        MASK=[]\n",
    "    #******CREATE MASK ARRAY******\n",
    "    NUMBDENS=np.ma.array(np.array(DATAFRAME['Number_Density']),mask=False)\n",
    "    MBINAVE=np.ma.array(np.array(DATAFRAME['Average_Absolute_Magnitude']),mask=False)\n",
    "    NUMBDENSERR=np.ma.array(np.array(DATAFRAME['Number_Density_Error']),mask=False)\n",
    "    #******MASK ZEROS******\n",
    "    NUMBDENS.mask[DATAFRAME.loc[DATAFRAME.Number_Density==0].index]=True\n",
    "    MBINAVE.mask[DATAFRAME.loc[DATAFRAME.Number_Density==0].index]=True\n",
    "    NUMBDENSERR.mask[DATAFRAME.loc[DATAFRAME.Number_Density==0].index]=True\n",
    "     #******MASK POINTS I DON'T LIKE******\n",
    "    NUMBDENS.mask[MASK]=True\n",
    "    MBINAVE.mask[MASK]=True\n",
    "    NUMBDENSERR.mask[MASK]=True\n",
    "    print(NUMBDENS.compressed())\n",
    "    #******MODELLING******\n",
    "    LFFIT_INIT=schechter_func()\n",
    "    LFFIT=fit(LFFIT_INIT,MBINAVE.compressed(),NUMBDENS.compressed(),weights=1/NUMBDENSERR.compressed())\n",
    "    return LFFIT,NUMBDENS.mask"
   ]
  },
  {
   "cell_type": "code",
   "execution_count": 7,
   "metadata": {},
   "outputs": [],
   "source": [
    "def sp_fitting(DATAFRAME,MASK=None,INITARRAY=None):\n",
    "    if MASK==None:\n",
    "        MASK=[]\n",
    "    if INITARRAY==None:\n",
    "        INITARRAY=[0.0056,-21,-1.03]\n",
    "    #******CREATE MASK ARRAY******\n",
    "    NUMBDENS=np.ma.array(np.array(DATAFRAME['Number_Density']),mask=False)\n",
    "    MBINAVE=np.ma.array(np.array(DATAFRAME['Average_Absolute_Magnitude']),mask=False)\n",
    "    NUMBDENSERR=np.ma.array(np.array(DATAFRAME['Number_Density_Error']),mask=False)\n",
    "    #******MASK ZEROS******\n",
    "    NUMBDENS.mask[DATAFRAME.loc[DATAFRAME.Number_Density==0].index]=True\n",
    "    MBINAVE.mask[DATAFRAME.loc[DATAFRAME.Number_Density==0].index]=True\n",
    "    NUMBDENSERR.mask[DATAFRAME.loc[DATAFRAME.Number_Density==0].index]=True\n",
    "     #******MASK POINTS I DON'T LIKE******\n",
    "    NUMBDENS.mask[MASK]=True\n",
    "    MBINAVE.mask[MASK]=True\n",
    "    NUMBDENSERR.mask[MASK]=True\n",
    "    #******MODELLING******\n",
    "    LFFIT,LFCOV=sp.optimize.curve_fit(schechter_func_scipy,MBINAVE.compressed(),NUMBDENS.compressed(),p0=INITARRAY,sigma=NUMBDENSERR.compressed())\n",
    "    return LFFIT,LFCOV"
   ]
  },
  {
   "cell_type": "code",
   "execution_count": 8,
   "metadata": {},
   "outputs": [],
   "source": [
    "GAL_DIR='/Users/lucashunt/Projects/LCBG_LUMINOSITY_FUNCTION/FULLLFOUT'\n",
    "GAL_LFS={}\n",
    "GAL_LFS_INDEX=[]\n",
    "for file in os.listdir(GAL_DIR):\n",
    "    if file.endswith('csv'):\n",
    "        GAL_LFS[file.split('.csv')[0]]=pd.read_csv(GAL_DIR+'/'+file)\n",
    "        GAL_LFS_INDEX.append(file.split('.csv')[0])"
   ]
  },
  {
   "cell_type": "code",
   "execution_count": 9,
   "metadata": {},
   "outputs": [],
   "source": [
    "GAL_MASKS={GAL_LFS_INDEX[0]:[2,3],GAL_LFS_INDEX[1]:[1,2,14,15],GAL_LFS_INDEX[2]:[11,12,13,14],GAL_LFS_INDEX[3]:[9],GAL_LFS_INDEX[4]:[7]}"
   ]
  },
  {
   "cell_type": "markdown",
   "metadata": {},
   "source": [
    "The below dict is designed to mask one, two, three, etc. more points than the typical mask. The typical mask removes points that don't sample the full volume of the survey. This is for testing GAL_LFS_INDEX[1], or the redshift range from z=0.2-0.4"
   ]
  },
  {
   "cell_type": "code",
   "execution_count": 10,
   "metadata": {},
   "outputs": [],
   "source": [
    "ALPHA_MASKS={'NoMASK':[1,2,14,15],'OneMASK':[1,2,13,14,15],'TwoMASK':[1,2,12,13,14,15],'ThreeMASK':[1,2,11,12,13,14,15],'FourMASK':[1,2,10,11,12,13,14,15],'FiveMASK':[1,2,9,10,11,12,13,14,15]}"
   ]
  },
  {
   "cell_type": "code",
   "execution_count": 13,
   "metadata": {},
   "outputs": [
    {
     "name": "stdout",
     "output_type": "stream",
     "text": [
      "[ 0.00011281  0.00049467  0.00147032  0.00247164  0.00416475  0.00504719\n",
      "  0.00597553  0.00714785  0.00752945  0.00738076  0.00624831]\n",
      "[ 0.00011281  0.00049467  0.00147032  0.00247164  0.00416475  0.00504719\n",
      "  0.00597553  0.00714785  0.00752945  0.00738076]\n",
      "[ 0.00011281  0.00049467  0.00147032  0.00247164  0.00416475  0.00504719\n",
      "  0.00597553  0.00714785  0.00752945]\n",
      "[ 0.00011281  0.00049467  0.00147032  0.00247164  0.00416475  0.00504719\n",
      "  0.00597553  0.00714785]\n",
      "[ 0.00011281  0.00049467  0.00147032  0.00247164  0.00416475  0.00504719\n",
      "  0.00597553]\n",
      "[ 0.00011281  0.00049467  0.00147032  0.00247164  0.00416475  0.00504719]\n"
     ]
    }
   ],
   "source": [
    "alpha_test_fits={}\n",
    "for mask in ALPHA_MASKS:\n",
    "    alpha_test_fits[mask]=ap_fitting(GAL_LFS[GAL_LFS_INDEX[1]],MASK=ALPHA_MASKS[mask])"
   ]
  },
  {
   "cell_type": "code",
   "execution_count": 58,
   "metadata": {},
   "outputs": [
    {
     "data": {
      "text/plain": [
       "array(dict_keys(['NoMASK', 'OneMASK', 'TwoMASK', 'ThreeMASK', 'FourMASK', 'FiveMASK']), dtype=object)"
      ]
     },
     "execution_count": 58,
     "metadata": {},
     "output_type": "execute_result"
    }
   ],
   "source": [
    "np.array(ALPHA_MASKS.keys())"
   ]
  },
  {
   "cell_type": "code",
   "execution_count": 68,
   "metadata": {},
   "outputs": [
    {
     "data": {
      "text/plain": [
       "(-21.5, -17)"
      ]
     },
     "execution_count": 68,
     "metadata": {},
     "output_type": "execute_result"
    },
    {
     "data": {
      "image/png": "[encoded data removed]",
      "text/plain": [
       "<matplotlib.figure.Figure at 0x1826ce7c50>"
      ]
     },
     "metadata": {
      "needs_background": "light"
     },
     "output_type": "display_data"
    }
   ],
   "source": [
    "magrange=np.linspace(-24,-16,100)\n",
    "color={'NoMASK':'blue','OneMASK':'green','TwoMASK':'yellow','ThreeMASK':'red','FourMASK':'purple','FiveMASK':'black'}\n",
    "lines=[]\n",
    "for mask in ALPHA_MASKS:\n",
    "    lines+=plt.plot(magrange,np.log10(alpha_test_fits[mask][0](magrange)),label=mask,color=color[mask])\n",
    "    plt.errorbar(GAL_LFS[GAL_LFS_INDEX[1]]['Average_Absolute_Magnitude'][np.logical_not(alpha_test_fits[mask][1])],GAL_LFS[GAL_LFS_INDEX[1]]['Log10Phi'][np.logical_not(alpha_test_fits[mask][1])],yerr=GAL_LFS[GAL_LFS_INDEX[1]]['Log10Err'][np.logical_not(alpha_test_fits[mask][1])],linestyle='',color=color[mask])\n",
    "plt.legend(lines,('NoMASK','OneMASK','TwoMASK','ThreeMASK','FourMASK','FiveMASK'),fontsize=8)\n",
    "plt.ylim((-3,-2))\n",
    "plt.xlim((-21.5,-17))"
   ]
  }
 ],
 "metadata": {
  "kernelspec": {
   "display_name": "Python 3",
   "language": "python",
   "name": "python3"
  },
  "language_info": {
   "codemirror_mode": {
    "name": "ipython",
    "version": 3
   },
   "file_extension": ".py",
   "mimetype": "text/x-python",
   "name": "python",
   "nbconvert_exporter": "python",
   "pygments_lexer": "ipython3",
   "version": "3.6.7"
  }
 },
 "nbformat": 4,
 "nbformat_minor": 2
}
